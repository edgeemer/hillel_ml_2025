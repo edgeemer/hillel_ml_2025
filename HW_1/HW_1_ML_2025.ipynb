{
  "nbformat": 4,
  "nbformat_minor": 0,
  "metadata": {
    "colab": {
      "provenance": [],
      "authorship_tag": "ABX9TyMJF5CkdGqrAe8kHW3OIy4P",
      "include_colab_link": true
    },
    "kernelspec": {
      "name": "python3",
      "display_name": "Python 3"
    },
    "language_info": {
      "name": "python"
    }
  },
  "cells": [
    {
      "cell_type": "markdown",
      "metadata": {
        "id": "view-in-github",
        "colab_type": "text"
      },
      "source": [
        "<a href=\"https://colab.research.google.com/github/edgeemer/hillel_ml_2025/blob/main/HW_1/HW_1_ML_2025.ipynb\" target=\"_parent\"><img src=\"https://colab.research.google.com/assets/colab-badge.svg\" alt=\"Open In Colab\"/></a>"
      ]
    },
    {
      "cell_type": "code",
      "source": [
        "import numpy as np\n",
        "import pandas as pd\n",
        "from copy import deepcopy"
      ],
      "metadata": {
        "id": "Zq7iZh31iy23"
      },
      "execution_count": 11,
      "outputs": []
    },
    {
      "cell_type": "markdown",
      "source": [
        "# Numpy"
      ],
      "metadata": {
        "id": "xe3v55TEhNug"
      }
    },
    {
      "cell_type": "markdown",
      "source": [
        "## 1 Створіть масив NumPy із 10 випадкових цілих чисел."
      ],
      "metadata": {
        "id": "dyH7C5ChgGAZ"
      }
    },
    {
      "cell_type": "code",
      "source": [
        "int_array = np.random.randint(0, 100, 10)\n",
        "print(int_array)"
      ],
      "metadata": {
        "id": "_XCTb_q0gFkc",
        "colab": {
          "base_uri": "https://localhost:8080/"
        },
        "outputId": "4fda0339-7367-4d1e-be78-059186a534a5"
      },
      "execution_count": 5,
      "outputs": [
        {
          "output_type": "stream",
          "name": "stdout",
          "text": [
            "[68  1 77 81 96 88 61 19 58 66]\n"
          ]
        }
      ]
    },
    {
      "cell_type": "markdown",
      "source": [
        "> Знайдіть середнє, медіану та стандартне відхилення масиву.\n",
        "\n",
        "\n",
        "\n",
        "\n"
      ],
      "metadata": {
        "id": "vfcjntN1gJv8"
      }
    },
    {
      "cell_type": "code",
      "source": [
        "print(f\"mean: {np.mean(int_array)}\")\n",
        "print(f\"median: {np.median(int_array)}\")\n",
        "print(f\"standard deviation: {np.std(int_array)}\")"
      ],
      "metadata": {
        "id": "qA504o4Agvu_"
      },
      "execution_count": null,
      "outputs": []
    },
    {
      "cell_type": "markdown",
      "source": [
        "> Замініть всі парні числа у масиві на 0."
      ],
      "metadata": {
        "id": "3Gn8kWWugOAZ"
      }
    },
    {
      "cell_type": "code",
      "source": [
        "array_even_to_zeroes = deepcopy(int_array) # For independent memory reference\n",
        "array_even_to_zeroes[array_even_to_zeroes % 2 == 0] = 0\n",
        "print(array_even_to_zeroes)"
      ],
      "metadata": {
        "id": "o1ztWtTdgwFR",
        "colab": {
          "base_uri": "https://localhost:8080/"
        },
        "outputId": "cf389ab7-3495-438e-f110-7e782136c036"
      },
      "execution_count": 13,
      "outputs": [
        {
          "output_type": "stream",
          "name": "stdout",
          "text": [
            "[ 0  1 77 81  0  0 61 19  0  0]\n"
          ]
        }
      ]
    },
    {
      "cell_type": "markdown",
      "source": [
        "## 2. Індексація та зрізка в NumPy"
      ],
      "metadata": {
        "id": "6S5zdag-gQqB"
      }
    },
    {
      "cell_type": "markdown",
      "source": [
        "> Створіть 2D масив NumPy (матрицю) розміром (3, 3) із випадковими цілими числами."
      ],
      "metadata": {
        "id": "X3mKMboQgXeG"
      }
    },
    {
      "cell_type": "code",
      "source": [
        "array_3x3 = np.random.randint(0, 100, (3, 3))\n",
        "print(array_3x3)"
      ],
      "metadata": {
        "id": "TgzgnTv3gwx6",
        "colab": {
          "base_uri": "https://localhost:8080/"
        },
        "outputId": "546aaa59-9672-4925-a892-79437ae7bdea"
      },
      "execution_count": 14,
      "outputs": [
        {
          "output_type": "stream",
          "name": "stdout",
          "text": [
            "[[99 70 79]\n",
            " [86 31 76]\n",
            " [22 52 18]]\n"
          ]
        }
      ]
    },
    {
      "cell_type": "markdown",
      "source": [
        "Виведіть перший рядок матриці."
      ],
      "metadata": {
        "id": "bQtGW72EgZem"
      }
    },
    {
      "cell_type": "code",
      "source": [
        "print(array_3x3[0,:])"
      ],
      "metadata": {
        "id": "ItdIxzYLg1Rq",
        "colab": {
          "base_uri": "https://localhost:8080/"
        },
        "outputId": "b95883b7-2023-4f92-b94d-d6b709944c5a"
      },
      "execution_count": 17,
      "outputs": [
        {
          "output_type": "stream",
          "name": "stdout",
          "text": [
            "[99 70 79]\n"
          ]
        }
      ]
    },
    {
      "cell_type": "markdown",
      "source": [
        "> Виведіть останній стовпець матриці."
      ],
      "metadata": {
        "id": "Vf73XAsrgbGj"
      }
    },
    {
      "cell_type": "code",
      "source": [
        "print(array_3x3[:, -1])"
      ],
      "metadata": {
        "id": "pwrp0Z7Ig1lX",
        "colab": {
          "base_uri": "https://localhost:8080/"
        },
        "outputId": "26fcdd9e-68ce-4447-88a2-11a4debb0aa5"
      },
      "execution_count": 18,
      "outputs": [
        {
          "output_type": "stream",
          "name": "stdout",
          "text": [
            "[79 76 18]\n"
          ]
        }
      ]
    },
    {
      "cell_type": "markdown",
      "source": [
        "> Виведіть діагональні елементи матриці."
      ],
      "metadata": {
        "id": "Ye6VduV0gcWE"
      }
    },
    {
      "cell_type": "code",
      "source": [
        "print(np.diag(array_3x3))"
      ],
      "metadata": {
        "id": "GEVxLLnPg2JA",
        "colab": {
          "base_uri": "https://localhost:8080/"
        },
        "outputId": "c25ac62b-f813-422b-9ba8-7c3869f339bf"
      },
      "execution_count": 19,
      "outputs": [
        {
          "output_type": "stream",
          "name": "stdout",
          "text": [
            "[99 31 18]\n"
          ]
        }
      ]
    },
    {
      "cell_type": "markdown",
      "source": [
        "## 3. Створіть 2D масив NumPy розміром (3, 3) та 1D масив розміром (3,). Використайте broadcasting для додавання 1D масиву до кожного рядка 2D масиву."
      ],
      "metadata": {
        "id": "tEgucBoegdeX"
      }
    },
    {
      "cell_type": "code",
      "source": [
        "array_3x3 = np.random.randint(0, 100, (3, 3))\n",
        "array_1d = np.random.randint(0, 100, 3)\n",
        "broadcasted_array = array_3x3 + array_1d\n",
        "print(f\"3x3 array:\\n {array_3x3}\\n1x3 array:\\n {array_1d}\\nBroadcasted array:\\n{broadcasted_array}\")"
      ],
      "metadata": {
        "id": "wOIkDSRag4NN",
        "colab": {
          "base_uri": "https://localhost:8080/"
        },
        "outputId": "4243f5d1-bb26-4930-8ac1-a57c4298d9c6"
      },
      "execution_count": 26,
      "outputs": [
        {
          "output_type": "stream",
          "name": "stdout",
          "text": [
            "3x3 array:\n",
            " [[69 12 88]\n",
            " [51 41 83]\n",
            " [ 3 75 60]]\n",
            "1x3 array:\n",
            " [78 11 70]\n",
            "Broadcasted array:\n",
            "[[147  23 158]\n",
            " [129  52 153]\n",
            " [ 81  86 130]]\n"
          ]
        }
      ]
    },
    {
      "cell_type": "markdown",
      "source": [
        "## 4. Створіть 2D масив NumPy розміром (5, 5) з випадковими цілими числами."
      ],
      "metadata": {
        "id": "ewhUmEbpggGq"
      }
    },
    {
      "cell_type": "code",
      "source": [
        "array_5x5 = np.random.randint(0, 100, (5, 5))\n",
        "print(array_5x5)"
      ],
      "metadata": {
        "id": "wjnjFiRxg5Ac",
        "colab": {
          "base_uri": "https://localhost:8080/"
        },
        "outputId": "4f89e0e9-3d18-43b8-ceca-04431c3f54b2"
      },
      "execution_count": 29,
      "outputs": [
        {
          "output_type": "stream",
          "name": "stdout",
          "text": [
            "[[42 30 42 15  5]\n",
            " [57 51 17 98 23]\n",
            " [16  7 12 81 91]\n",
            " [25 79 12 90 86]\n",
            " [24 91 49 68 75]]\n"
          ]
        }
      ]
    },
    {
      "cell_type": "markdown",
      "source": [
        "> Знайдіть та виведіть всі унікальні елементи у масиві."
      ],
      "metadata": {
        "id": "-_q5jsO1gjON"
      }
    },
    {
      "cell_type": "code",
      "source": [
        "print(np.unique(array_5x5))"
      ],
      "metadata": {
        "id": "9FTN--ovg5Xf",
        "colab": {
          "base_uri": "https://localhost:8080/"
        },
        "outputId": "d173c84b-5623-4fb0-80e5-a1db71390dc8"
      },
      "execution_count": 31,
      "outputs": [
        {
          "output_type": "stream",
          "name": "stdout",
          "text": [
            "[ 5  7 12 15 16 17 23 24 25 30 42 49 51 57 68 75 79 81 86 90 91 98]\n"
          ]
        }
      ]
    },
    {
      "cell_type": "markdown",
      "source": [
        "> виведіть всі рядки, сума елементів у яких більша за певне значення. (значення оберіть самі)"
      ],
      "metadata": {
        "id": "PnePEUpOglbg"
      }
    },
    {
      "cell_type": "code",
      "source": [
        "# the sum of elements is greater than the median of all row sums\n",
        "\n",
        "print(array_5x5[np.sum(array_5x5, axis=1) > np.median(np.sum(array_5x5, axis=1))])"
      ],
      "metadata": {
        "id": "uQe2qhoJg5yb",
        "colab": {
          "base_uri": "https://localhost:8080/"
        },
        "outputId": "60aec1f4-88e8-421c-bcd6-9183b609fea1"
      },
      "execution_count": 38,
      "outputs": [
        {
          "output_type": "stream",
          "name": "stdout",
          "text": [
            "[[25 79 12 90 86]\n",
            " [24 91 49 68 75]]\n"
          ]
        }
      ]
    },
    {
      "cell_type": "markdown",
      "source": [
        "## 5. Створіть 1D масив NumPy, що містить цілі числа від 1 до 20 (включно)."
      ],
      "metadata": {
        "id": "PZs0kn4egnx7"
      }
    },
    {
      "cell_type": "code",
      "source": [
        "array_1d = np.arange(1, 21)\n",
        "print(array_1d)"
      ],
      "metadata": {
        "id": "u3_uhL6Dg65v",
        "colab": {
          "base_uri": "https://localhost:8080/"
        },
        "outputId": "dcd7aa4c-11d0-4b21-85ba-8f908f076c4d"
      },
      "execution_count": 40,
      "outputs": [
        {
          "output_type": "stream",
          "name": "stdout",
          "text": [
            "[ 1  2  3  4  5  6  7  8  9 10 11 12 13 14 15 16 17 18 19 20]\n"
          ]
        }
      ]
    },
    {
      "cell_type": "markdown",
      "source": [
        "> Використайте оператор shape, щоб перетворити 1D масив у 2D масив розміром (4, 5). Переконайтеся, що отриманий перетворений масив має бажаний розмір."
      ],
      "metadata": {
        "id": "FpwA6983grh0"
      }
    },
    {
      "cell_type": "code",
      "source": [
        "array_2d_from_1d = array_1d.reshape(4, 5)\n",
        "print(array_2d_from_1d)"
      ],
      "metadata": {
        "id": "1GZ5n4MVg7R5",
        "colab": {
          "base_uri": "https://localhost:8080/"
        },
        "outputId": "162a4cb7-9cae-40d8-9926-597dc80f5693"
      },
      "execution_count": 41,
      "outputs": [
        {
          "output_type": "stream",
          "name": "stdout",
          "text": [
            "[[ 1  2  3  4  5]\n",
            " [ 6  7  8  9 10]\n",
            " [11 12 13 14 15]\n",
            " [16 17 18 19 20]]\n"
          ]
        }
      ]
    },
    {
      "cell_type": "markdown",
      "source": [
        "# pandas\n",
        "\n"
      ],
      "metadata": {
        "id": "RonoCuUsguCD"
      }
    },
    {
      "cell_type": "markdown",
      "source": [
        "## 1. Створіть DataFrame Pandas із щонайменше 5 рядками та 3 стовпцями. Стовпці можуть представляти різні атрибути (наприклад, Ім'я, Вік, Місто)."
      ],
      "metadata": {
        "id": "UEib5D8-hWxW"
      }
    },
    {
      "cell_type": "code",
      "source": [
        "import pandas as pd\n",
        "\n",
        "data = {\n",
        "    'Scientific Name': ['Paramoeba', 'Acanthamoeba', 'Euglena', 'Tetrahymena', 'Paramecium'],\n",
        "    'Average Genome Size (Mb)': [50, 100, 120, 104, 85],\n",
        "    'Endosymbiont Presence': ['Yes', 'No', 'No', 'Yes', 'Yes']\n",
        "}\n",
        "\n",
        "df = pd.DataFrame(data)\n",
        "print(df)"
      ],
      "metadata": {
        "id": "oBqvZcM-hbr6",
        "colab": {
          "base_uri": "https://localhost:8080/"
        },
        "outputId": "4dfe9fc6-e49f-45fd-b194-02084bd73797"
      },
      "execution_count": 47,
      "outputs": [
        {
          "output_type": "stream",
          "name": "stdout",
          "text": [
            "  Scientific Name  Average Genome Size (Mb) Endosymbiont Presence\n",
            "0       Paramoeba                        50                   Yes\n",
            "1    Acanthamoeba                       100                    No\n",
            "2         Euglena                       120                    No\n",
            "3     Tetrahymena                       104                   Yes\n",
            "4      Paramecium                        85                   Yes\n"
          ]
        }
      ]
    },
    {
      "cell_type": "markdown",
      "source": [
        "## 2. Додайте новий стовпець до DataFrame, який представляє числове значення."
      ],
      "metadata": {
        "id": "Jed9IwWgha7_"
      }
    },
    {
      "cell_type": "code",
      "source": [
        "df[\"Hypothetical # of genes\"] = df[\"Average Genome Size (Mb)\"] * 1000\n",
        "print(df)"
      ],
      "metadata": {
        "id": "Zic1HKDAhecv",
        "colab": {
          "base_uri": "https://localhost:8080/"
        },
        "outputId": "b03df8c8-3555-46e3-ed9e-c7bcb30117ea"
      },
      "execution_count": 50,
      "outputs": [
        {
          "output_type": "stream",
          "name": "stdout",
          "text": [
            "  Scientific Name  Average Genome Size (Mb) Endosymbiont Presence  \\\n",
            "0       Paramoeba                        50                   Yes   \n",
            "1    Acanthamoeba                       100                    No   \n",
            "2         Euglena                       120                    No   \n",
            "3     Tetrahymena                       104                   Yes   \n",
            "4      Paramecium                        85                   Yes   \n",
            "\n",
            "   Hypothetical # of genes  \n",
            "0                    50000  \n",
            "1                   100000  \n",
            "2                   120000  \n",
            "3                   104000  \n",
            "4                    85000  \n"
          ]
        }
      ]
    },
    {
      "cell_type": "markdown",
      "source": [
        "## 3. Відфільтруйте DataFrame, щоб показати лише рядки, де числове значення більше певного порогу (ви можете визначити поріг)."
      ],
      "metadata": {
        "id": "fzmbzBQ5helb"
      }
    },
    {
      "cell_type": "code",
      "source": [
        "print(df[df[\"Hypothetical # of genes\"] >= 100000])"
      ],
      "metadata": {
        "id": "c_YzzveWhg-n",
        "colab": {
          "base_uri": "https://localhost:8080/"
        },
        "outputId": "f758fa19-b449-4ee5-af7b-10f4286a57e7"
      },
      "execution_count": 51,
      "outputs": [
        {
          "output_type": "stream",
          "name": "stdout",
          "text": [
            "  Scientific Name  Average Genome Size (Mb) Endosymbiont Presence  \\\n",
            "1    Acanthamoeba                       100                    No   \n",
            "2         Euglena                       120                    No   \n",
            "3     Tetrahymena                       104                   Yes   \n",
            "\n",
            "   Hypothetical # of genes  \n",
            "1                   100000  \n",
            "2                   120000  \n",
            "3                   104000  \n"
          ]
        }
      ]
    },
    {
      "cell_type": "markdown",
      "source": [
        "## 4. Завантажте набір даних за допомогою Pandas (ви можете використовувати будь-який набір даних у форматі CSV або wine.csv)."
      ],
      "metadata": {
        "id": "G67chUVvhhFA"
      }
    },
    {
      "cell_type": "code",
      "source": [
        "wine_df = pd.read_csv(\"wine.csv\")"
      ],
      "metadata": {
        "id": "VKSOLoYMhnlN"
      },
      "execution_count": null,
      "outputs": []
    },
    {
      "cell_type": "markdown",
      "source": [
        "## 5. Відобразіть перші 5 рядків набору даних."
      ],
      "metadata": {
        "id": "FaLQEy1khnsh"
      }
    },
    {
      "cell_type": "code",
      "source": [
        "print(wine_df.head())"
      ],
      "metadata": {
        "id": "c8x25esyh0va",
        "colab": {
          "base_uri": "https://localhost:8080/"
        },
        "outputId": "5fffe378-5083-46ac-a5bb-eddb4ec84e15"
      },
      "execution_count": 53,
      "outputs": [
        {
          "output_type": "stream",
          "name": "stdout",
          "text": [
            "   1  14.23  1.71  2.43  15.6  127   2.8  3.06   .28  2.29  5.64  1.04  3.92  \\\n",
            "0  1  13.20  1.78  2.14  11.2  100  2.65  2.76  0.26  1.28  4.38  1.05  3.40   \n",
            "1  1  13.16  2.36  2.67  18.6  101  2.80  3.24  0.30  2.81  5.68  1.03  3.17   \n",
            "2  1  14.37  1.95  2.50  16.8  113  3.85  3.49  0.24  2.18  7.80  0.86  3.45   \n",
            "3  1  13.24  2.59  2.87  21.0  118  2.80  2.69  0.39  1.82  4.32  1.04  2.93   \n",
            "4  1  14.20  1.76  2.45  15.2  112  3.27  3.39  0.34  1.97  6.75  1.05  2.85   \n",
            "\n",
            "   1065  \n",
            "0  1050  \n",
            "1  1185  \n",
            "2  1480  \n",
            "3   735  \n",
            "4  1450  \n"
          ]
        }
      ]
    },
    {
      "cell_type": "markdown",
      "source": [
        "## 6. Розрахуйте та виведіть загальну статистику для числових стовпців у наборі даних."
      ],
      "metadata": {
        "id": "D4Kpbp15h03I"
      }
    },
    {
      "cell_type": "code",
      "source": [
        "wine_df.describe()"
      ],
      "metadata": {
        "id": "uix1YB9bh3tT",
        "colab": {
          "base_uri": "https://localhost:8080/",
          "height": 320
        },
        "outputId": "0f2384bf-120b-403b-890d-7d28e2c6173f"
      },
      "execution_count": 54,
      "outputs": [
        {
          "output_type": "execute_result",
          "data": {
            "text/plain": [
              "                1       14.23        1.71        2.43        15.6         127  \\\n",
              "count  177.000000  177.000000  177.000000  177.000000  177.000000  177.000000   \n",
              "mean     1.943503   12.993672    2.339887    2.366158   19.516949   99.587571   \n",
              "std      0.773991    0.808808    1.119314    0.275080    3.336071   14.174018   \n",
              "min      1.000000   11.030000    0.740000    1.360000   10.600000   70.000000   \n",
              "25%      1.000000   12.360000    1.600000    2.210000   17.200000   88.000000   \n",
              "50%      2.000000   13.050000    1.870000    2.360000   19.500000   98.000000   \n",
              "75%      3.000000   13.670000    3.100000    2.560000   21.500000  107.000000   \n",
              "max      3.000000   14.830000    5.800000    3.230000   30.000000  162.000000   \n",
              "\n",
              "              2.8        3.06         .28        2.29        5.64        1.04  \\\n",
              "count  177.000000  177.000000  177.000000  177.000000  177.000000  177.000000   \n",
              "mean     2.292260    2.023446    0.362316    1.586949    5.054802    0.956983   \n",
              "std      0.626465    0.998658    0.124653    0.571545    2.324446    0.229135   \n",
              "min      0.980000    0.340000    0.130000    0.410000    1.280000    0.480000   \n",
              "25%      1.740000    1.200000    0.270000    1.250000    3.210000    0.780000   \n",
              "50%      2.350000    2.130000    0.340000    1.550000    4.680000    0.960000   \n",
              "75%      2.800000    2.860000    0.440000    1.950000    6.200000    1.120000   \n",
              "max      3.880000    5.080000    0.660000    3.580000   13.000000    1.710000   \n",
              "\n",
              "             3.92         1065  \n",
              "count  177.000000   177.000000  \n",
              "mean     2.604294   745.096045  \n",
              "std      0.705103   314.884046  \n",
              "min      1.270000   278.000000  \n",
              "25%      1.930000   500.000000  \n",
              "50%      2.780000   672.000000  \n",
              "75%      3.170000   985.000000  \n",
              "max      4.000000  1680.000000  "
            ],
            "text/html": [
              "\n",
              "  <div id=\"df-9b3ca6f8-2324-4a45-8cc6-5faf214cb804\" class=\"colab-df-container\">\n",
              "    <div>\n",
              "<style scoped>\n",
              "    .dataframe tbody tr th:only-of-type {\n",
              "        vertical-align: middle;\n",
              "    }\n",
              "\n",
              "    .dataframe tbody tr th {\n",
              "        vertical-align: top;\n",
              "    }\n",
              "\n",
              "    .dataframe thead th {\n",
              "        text-align: right;\n",
              "    }\n",
              "</style>\n",
              "<table border=\"1\" class=\"dataframe\">\n",
              "  <thead>\n",
              "    <tr style=\"text-align: right;\">\n",
              "      <th></th>\n",
              "      <th>1</th>\n",
              "      <th>14.23</th>\n",
              "      <th>1.71</th>\n",
              "      <th>2.43</th>\n",
              "      <th>15.6</th>\n",
              "      <th>127</th>\n",
              "      <th>2.8</th>\n",
              "      <th>3.06</th>\n",
              "      <th>.28</th>\n",
              "      <th>2.29</th>\n",
              "      <th>5.64</th>\n",
              "      <th>1.04</th>\n",
              "      <th>3.92</th>\n",
              "      <th>1065</th>\n",
              "    </tr>\n",
              "  </thead>\n",
              "  <tbody>\n",
              "    <tr>\n",
              "      <th>count</th>\n",
              "      <td>177.000000</td>\n",
              "      <td>177.000000</td>\n",
              "      <td>177.000000</td>\n",
              "      <td>177.000000</td>\n",
              "      <td>177.000000</td>\n",
              "      <td>177.000000</td>\n",
              "      <td>177.000000</td>\n",
              "      <td>177.000000</td>\n",
              "      <td>177.000000</td>\n",
              "      <td>177.000000</td>\n",
              "      <td>177.000000</td>\n",
              "      <td>177.000000</td>\n",
              "      <td>177.000000</td>\n",
              "      <td>177.000000</td>\n",
              "    </tr>\n",
              "    <tr>\n",
              "      <th>mean</th>\n",
              "      <td>1.943503</td>\n",
              "      <td>12.993672</td>\n",
              "      <td>2.339887</td>\n",
              "      <td>2.366158</td>\n",
              "      <td>19.516949</td>\n",
              "      <td>99.587571</td>\n",
              "      <td>2.292260</td>\n",
              "      <td>2.023446</td>\n",
              "      <td>0.362316</td>\n",
              "      <td>1.586949</td>\n",
              "      <td>5.054802</td>\n",
              "      <td>0.956983</td>\n",
              "      <td>2.604294</td>\n",
              "      <td>745.096045</td>\n",
              "    </tr>\n",
              "    <tr>\n",
              "      <th>std</th>\n",
              "      <td>0.773991</td>\n",
              "      <td>0.808808</td>\n",
              "      <td>1.119314</td>\n",
              "      <td>0.275080</td>\n",
              "      <td>3.336071</td>\n",
              "      <td>14.174018</td>\n",
              "      <td>0.626465</td>\n",
              "      <td>0.998658</td>\n",
              "      <td>0.124653</td>\n",
              "      <td>0.571545</td>\n",
              "      <td>2.324446</td>\n",
              "      <td>0.229135</td>\n",
              "      <td>0.705103</td>\n",
              "      <td>314.884046</td>\n",
              "    </tr>\n",
              "    <tr>\n",
              "      <th>min</th>\n",
              "      <td>1.000000</td>\n",
              "      <td>11.030000</td>\n",
              "      <td>0.740000</td>\n",
              "      <td>1.360000</td>\n",
              "      <td>10.600000</td>\n",
              "      <td>70.000000</td>\n",
              "      <td>0.980000</td>\n",
              "      <td>0.340000</td>\n",
              "      <td>0.130000</td>\n",
              "      <td>0.410000</td>\n",
              "      <td>1.280000</td>\n",
              "      <td>0.480000</td>\n",
              "      <td>1.270000</td>\n",
              "      <td>278.000000</td>\n",
              "    </tr>\n",
              "    <tr>\n",
              "      <th>25%</th>\n",
              "      <td>1.000000</td>\n",
              "      <td>12.360000</td>\n",
              "      <td>1.600000</td>\n",
              "      <td>2.210000</td>\n",
              "      <td>17.200000</td>\n",
              "      <td>88.000000</td>\n",
              "      <td>1.740000</td>\n",
              "      <td>1.200000</td>\n",
              "      <td>0.270000</td>\n",
              "      <td>1.250000</td>\n",
              "      <td>3.210000</td>\n",
              "      <td>0.780000</td>\n",
              "      <td>1.930000</td>\n",
              "      <td>500.000000</td>\n",
              "    </tr>\n",
              "    <tr>\n",
              "      <th>50%</th>\n",
              "      <td>2.000000</td>\n",
              "      <td>13.050000</td>\n",
              "      <td>1.870000</td>\n",
              "      <td>2.360000</td>\n",
              "      <td>19.500000</td>\n",
              "      <td>98.000000</td>\n",
              "      <td>2.350000</td>\n",
              "      <td>2.130000</td>\n",
              "      <td>0.340000</td>\n",
              "      <td>1.550000</td>\n",
              "      <td>4.680000</td>\n",
              "      <td>0.960000</td>\n",
              "      <td>2.780000</td>\n",
              "      <td>672.000000</td>\n",
              "    </tr>\n",
              "    <tr>\n",
              "      <th>75%</th>\n",
              "      <td>3.000000</td>\n",
              "      <td>13.670000</td>\n",
              "      <td>3.100000</td>\n",
              "      <td>2.560000</td>\n",
              "      <td>21.500000</td>\n",
              "      <td>107.000000</td>\n",
              "      <td>2.800000</td>\n",
              "      <td>2.860000</td>\n",
              "      <td>0.440000</td>\n",
              "      <td>1.950000</td>\n",
              "      <td>6.200000</td>\n",
              "      <td>1.120000</td>\n",
              "      <td>3.170000</td>\n",
              "      <td>985.000000</td>\n",
              "    </tr>\n",
              "    <tr>\n",
              "      <th>max</th>\n",
              "      <td>3.000000</td>\n",
              "      <td>14.830000</td>\n",
              "      <td>5.800000</td>\n",
              "      <td>3.230000</td>\n",
              "      <td>30.000000</td>\n",
              "      <td>162.000000</td>\n",
              "      <td>3.880000</td>\n",
              "      <td>5.080000</td>\n",
              "      <td>0.660000</td>\n",
              "      <td>3.580000</td>\n",
              "      <td>13.000000</td>\n",
              "      <td>1.710000</td>\n",
              "      <td>4.000000</td>\n",
              "      <td>1680.000000</td>\n",
              "    </tr>\n",
              "  </tbody>\n",
              "</table>\n",
              "</div>\n",
              "    <div class=\"colab-df-buttons\">\n",
              "\n",
              "  <div class=\"colab-df-container\">\n",
              "    <button class=\"colab-df-convert\" onclick=\"convertToInteractive('df-9b3ca6f8-2324-4a45-8cc6-5faf214cb804')\"\n",
              "            title=\"Convert this dataframe to an interactive table.\"\n",
              "            style=\"display:none;\">\n",
              "\n",
              "  <svg xmlns=\"http://www.w3.org/2000/svg\" height=\"24px\" viewBox=\"0 -960 960 960\">\n",
              "    <path d=\"M120-120v-720h720v720H120Zm60-500h600v-160H180v160Zm220 220h160v-160H400v160Zm0 220h160v-160H400v160ZM180-400h160v-160H180v160Zm440 0h160v-160H620v160ZM180-180h160v-160H180v160Zm440 0h160v-160H620v160Z\"/>\n",
              "  </svg>\n",
              "    </button>\n",
              "\n",
              "  <style>\n",
              "    .colab-df-container {\n",
              "      display:flex;\n",
              "      gap: 12px;\n",
              "    }\n",
              "\n",
              "    .colab-df-convert {\n",
              "      background-color: #E8F0FE;\n",
              "      border: none;\n",
              "      border-radius: 50%;\n",
              "      cursor: pointer;\n",
              "      display: none;\n",
              "      fill: #1967D2;\n",
              "      height: 32px;\n",
              "      padding: 0 0 0 0;\n",
              "      width: 32px;\n",
              "    }\n",
              "\n",
              "    .colab-df-convert:hover {\n",
              "      background-color: #E2EBFA;\n",
              "      box-shadow: 0px 1px 2px rgba(60, 64, 67, 0.3), 0px 1px 3px 1px rgba(60, 64, 67, 0.15);\n",
              "      fill: #174EA6;\n",
              "    }\n",
              "\n",
              "    .colab-df-buttons div {\n",
              "      margin-bottom: 4px;\n",
              "    }\n",
              "\n",
              "    [theme=dark] .colab-df-convert {\n",
              "      background-color: #3B4455;\n",
              "      fill: #D2E3FC;\n",
              "    }\n",
              "\n",
              "    [theme=dark] .colab-df-convert:hover {\n",
              "      background-color: #434B5C;\n",
              "      box-shadow: 0px 1px 3px 1px rgba(0, 0, 0, 0.15);\n",
              "      filter: drop-shadow(0px 1px 2px rgba(0, 0, 0, 0.3));\n",
              "      fill: #FFFFFF;\n",
              "    }\n",
              "  </style>\n",
              "\n",
              "    <script>\n",
              "      const buttonEl =\n",
              "        document.querySelector('#df-9b3ca6f8-2324-4a45-8cc6-5faf214cb804 button.colab-df-convert');\n",
              "      buttonEl.style.display =\n",
              "        google.colab.kernel.accessAllowed ? 'block' : 'none';\n",
              "\n",
              "      async function convertToInteractive(key) {\n",
              "        const element = document.querySelector('#df-9b3ca6f8-2324-4a45-8cc6-5faf214cb804');\n",
              "        const dataTable =\n",
              "          await google.colab.kernel.invokeFunction('convertToInteractive',\n",
              "                                                    [key], {});\n",
              "        if (!dataTable) return;\n",
              "\n",
              "        const docLinkHtml = 'Like what you see? Visit the ' +\n",
              "          '<a target=\"_blank\" href=https://colab.research.google.com/notebooks/data_table.ipynb>data table notebook</a>'\n",
              "          + ' to learn more about interactive tables.';\n",
              "        element.innerHTML = '';\n",
              "        dataTable['output_type'] = 'display_data';\n",
              "        await google.colab.output.renderOutput(dataTable, element);\n",
              "        const docLink = document.createElement('div');\n",
              "        docLink.innerHTML = docLinkHtml;\n",
              "        element.appendChild(docLink);\n",
              "      }\n",
              "    </script>\n",
              "  </div>\n",
              "\n",
              "\n",
              "<div id=\"df-0b8cd2ae-fff6-4985-96ac-3fa24bedf4a6\">\n",
              "  <button class=\"colab-df-quickchart\" onclick=\"quickchart('df-0b8cd2ae-fff6-4985-96ac-3fa24bedf4a6')\"\n",
              "            title=\"Suggest charts\"\n",
              "            style=\"display:none;\">\n",
              "\n",
              "<svg xmlns=\"http://www.w3.org/2000/svg\" height=\"24px\"viewBox=\"0 0 24 24\"\n",
              "     width=\"24px\">\n",
              "    <g>\n",
              "        <path d=\"M19 3H5c-1.1 0-2 .9-2 2v14c0 1.1.9 2 2 2h14c1.1 0 2-.9 2-2V5c0-1.1-.9-2-2-2zM9 17H7v-7h2v7zm4 0h-2V7h2v10zm4 0h-2v-4h2v4z\"/>\n",
              "    </g>\n",
              "</svg>\n",
              "  </button>\n",
              "\n",
              "<style>\n",
              "  .colab-df-quickchart {\n",
              "      --bg-color: #E8F0FE;\n",
              "      --fill-color: #1967D2;\n",
              "      --hover-bg-color: #E2EBFA;\n",
              "      --hover-fill-color: #174EA6;\n",
              "      --disabled-fill-color: #AAA;\n",
              "      --disabled-bg-color: #DDD;\n",
              "  }\n",
              "\n",
              "  [theme=dark] .colab-df-quickchart {\n",
              "      --bg-color: #3B4455;\n",
              "      --fill-color: #D2E3FC;\n",
              "      --hover-bg-color: #434B5C;\n",
              "      --hover-fill-color: #FFFFFF;\n",
              "      --disabled-bg-color: #3B4455;\n",
              "      --disabled-fill-color: #666;\n",
              "  }\n",
              "\n",
              "  .colab-df-quickchart {\n",
              "    background-color: var(--bg-color);\n",
              "    border: none;\n",
              "    border-radius: 50%;\n",
              "    cursor: pointer;\n",
              "    display: none;\n",
              "    fill: var(--fill-color);\n",
              "    height: 32px;\n",
              "    padding: 0;\n",
              "    width: 32px;\n",
              "  }\n",
              "\n",
              "  .colab-df-quickchart:hover {\n",
              "    background-color: var(--hover-bg-color);\n",
              "    box-shadow: 0 1px 2px rgba(60, 64, 67, 0.3), 0 1px 3px 1px rgba(60, 64, 67, 0.15);\n",
              "    fill: var(--button-hover-fill-color);\n",
              "  }\n",
              "\n",
              "  .colab-df-quickchart-complete:disabled,\n",
              "  .colab-df-quickchart-complete:disabled:hover {\n",
              "    background-color: var(--disabled-bg-color);\n",
              "    fill: var(--disabled-fill-color);\n",
              "    box-shadow: none;\n",
              "  }\n",
              "\n",
              "  .colab-df-spinner {\n",
              "    border: 2px solid var(--fill-color);\n",
              "    border-color: transparent;\n",
              "    border-bottom-color: var(--fill-color);\n",
              "    animation:\n",
              "      spin 1s steps(1) infinite;\n",
              "  }\n",
              "\n",
              "  @keyframes spin {\n",
              "    0% {\n",
              "      border-color: transparent;\n",
              "      border-bottom-color: var(--fill-color);\n",
              "      border-left-color: var(--fill-color);\n",
              "    }\n",
              "    20% {\n",
              "      border-color: transparent;\n",
              "      border-left-color: var(--fill-color);\n",
              "      border-top-color: var(--fill-color);\n",
              "    }\n",
              "    30% {\n",
              "      border-color: transparent;\n",
              "      border-left-color: var(--fill-color);\n",
              "      border-top-color: var(--fill-color);\n",
              "      border-right-color: var(--fill-color);\n",
              "    }\n",
              "    40% {\n",
              "      border-color: transparent;\n",
              "      border-right-color: var(--fill-color);\n",
              "      border-top-color: var(--fill-color);\n",
              "    }\n",
              "    60% {\n",
              "      border-color: transparent;\n",
              "      border-right-color: var(--fill-color);\n",
              "    }\n",
              "    80% {\n",
              "      border-color: transparent;\n",
              "      border-right-color: var(--fill-color);\n",
              "      border-bottom-color: var(--fill-color);\n",
              "    }\n",
              "    90% {\n",
              "      border-color: transparent;\n",
              "      border-bottom-color: var(--fill-color);\n",
              "    }\n",
              "  }\n",
              "</style>\n",
              "\n",
              "  <script>\n",
              "    async function quickchart(key) {\n",
              "      const quickchartButtonEl =\n",
              "        document.querySelector('#' + key + ' button');\n",
              "      quickchartButtonEl.disabled = true;  // To prevent multiple clicks.\n",
              "      quickchartButtonEl.classList.add('colab-df-spinner');\n",
              "      try {\n",
              "        const charts = await google.colab.kernel.invokeFunction(\n",
              "            'suggestCharts', [key], {});\n",
              "      } catch (error) {\n",
              "        console.error('Error during call to suggestCharts:', error);\n",
              "      }\n",
              "      quickchartButtonEl.classList.remove('colab-df-spinner');\n",
              "      quickchartButtonEl.classList.add('colab-df-quickchart-complete');\n",
              "    }\n",
              "    (() => {\n",
              "      let quickchartButtonEl =\n",
              "        document.querySelector('#df-0b8cd2ae-fff6-4985-96ac-3fa24bedf4a6 button');\n",
              "      quickchartButtonEl.style.display =\n",
              "        google.colab.kernel.accessAllowed ? 'block' : 'none';\n",
              "    })();\n",
              "  </script>\n",
              "</div>\n",
              "\n",
              "    </div>\n",
              "  </div>\n"
            ],
            "application/vnd.google.colaboratory.intrinsic+json": {
              "type": "dataframe",
              "summary": "{\n  \"name\": \"wine_df\",\n  \"rows\": 8,\n  \"fields\": [\n    {\n      \"column\": \"1\",\n      \"properties\": {\n        \"dtype\": \"number\",\n        \"std\": 61.942698537601274,\n        \"min\": 0.7739913827061249,\n        \"max\": 177.0,\n        \"num_unique_values\": 6,\n        \"samples\": [\n          177.0,\n          1.9435028248587571,\n          3.0\n        ],\n        \"semantic_type\": \"\",\n        \"description\": \"\"\n      }\n    },\n    {\n      \"column\": \"14.23\",\n      \"properties\": {\n        \"dtype\": \"number\",\n        \"std\": 58.766479066699205,\n        \"min\": 0.8088084424378916,\n        \"max\": 177.0,\n        \"num_unique_values\": 8,\n        \"samples\": [\n          12.993672316384181,\n          13.05,\n          177.0\n        ],\n        \"semantic_type\": \"\",\n        \"description\": \"\"\n      }\n    },\n    {\n      \"column\": \"1.71\",\n      \"properties\": {\n        \"dtype\": \"number\",\n        \"std\": 61.762162444360435,\n        \"min\": 0.74,\n        \"max\": 177.0,\n        \"num_unique_values\": 8,\n        \"samples\": [\n          2.339887005649717,\n          1.87,\n          177.0\n        ],\n        \"semantic_type\": \"\",\n        \"description\": \"\"\n      }\n    },\n    {\n      \"column\": \"2.43\",\n      \"properties\": {\n        \"dtype\": \"number\",\n        \"std\": 61.85994979163558,\n        \"min\": 0.2750804383454942,\n        \"max\": 177.0,\n        \"num_unique_values\": 8,\n        \"samples\": [\n          2.3661581920903956,\n          2.36,\n          177.0\n        ],\n        \"semantic_type\": \"\",\n        \"description\": \"\"\n      }\n    },\n    {\n      \"column\": \"15.6\",\n      \"properties\": {\n        \"dtype\": \"number\",\n        \"std\": 56.974351827809315,\n        \"min\": 3.336071070121235,\n        \"max\": 177.0,\n        \"num_unique_values\": 8,\n        \"samples\": [\n          19.516949152542374,\n          19.5,\n          177.0\n        ],\n        \"semantic_type\": \"\",\n        \"description\": \"\"\n      }\n    },\n    {\n      \"column\": \"127\",\n      \"properties\": {\n        \"dtype\": \"number\",\n        \"std\": 50.99750098188531,\n        \"min\": 14.174018455548271,\n        \"max\": 177.0,\n        \"num_unique_values\": 8,\n        \"samples\": [\n          99.58757062146893,\n          98.0,\n          177.0\n        ],\n        \"semantic_type\": \"\",\n        \"description\": \"\"\n      }\n    },\n    {\n      \"column\": \"2.8\",\n      \"properties\": {\n        \"dtype\": \"number\",\n        \"std\": 61.846514276917695,\n        \"min\": 0.6264650830308146,\n        \"max\": 177.0,\n        \"num_unique_values\": 8,\n        \"samples\": [\n          2.29225988700565,\n          2.35,\n          177.0\n        ],\n        \"semantic_type\": \"\",\n        \"description\": \"\"\n      }\n    },\n    {\n      \"column\": \"3.06\",\n      \"properties\": {\n        \"dtype\": \"number\",\n        \"std\": 61.8567610860208,\n        \"min\": 0.34,\n        \"max\": 177.0,\n        \"num_unique_values\": 8,\n        \"samples\": [\n          2.0234463276836157,\n          2.13,\n          177.0\n        ],\n        \"semantic_type\": \"\",\n        \"description\": \"\"\n      }\n    },\n    {\n      \"column\": \".28\",\n      \"properties\": {\n        \"dtype\": \"number\",\n        \"std\": 62.46165814884761,\n        \"min\": 0.12465293369095114,\n        \"max\": 177.0,\n        \"num_unique_values\": 8,\n        \"samples\": [\n          0.36231638418079104,\n          0.34,\n          177.0\n        ],\n        \"semantic_type\": \"\",\n        \"description\": \"\"\n      }\n    },\n    {\n      \"column\": \"2.29\",\n      \"properties\": {\n        \"dtype\": \"number\",\n        \"std\": 62.03612607763685,\n        \"min\": 0.41,\n        \"max\": 177.0,\n        \"num_unique_values\": 8,\n        \"samples\": [\n          1.586949152542373,\n          1.55,\n          177.0\n        ],\n        \"semantic_type\": \"\",\n        \"description\": \"\"\n      }\n    },\n    {\n      \"column\": \"5.64\",\n      \"properties\": {\n        \"dtype\": \"number\",\n        \"std\": 60.87863644204725,\n        \"min\": 1.28,\n        \"max\": 177.0,\n        \"num_unique_values\": 8,\n        \"samples\": [\n          5.054802254237288,\n          4.68,\n          177.0\n        ],\n        \"semantic_type\": \"\",\n        \"description\": \"\"\n      }\n    },\n    {\n      \"column\": \"1.04\",\n      \"properties\": {\n        \"dtype\": \"number\",\n        \"std\": 62.26552915602204,\n        \"min\": 0.22913504539741586,\n        \"max\": 177.0,\n        \"num_unique_values\": 8,\n        \"samples\": [\n          0.9569830508474575,\n          0.96,\n          177.0\n        ],\n        \"semantic_type\": \"\",\n        \"description\": \"\"\n      }\n    },\n    {\n      \"column\": \"3.92\",\n      \"properties\": {\n        \"dtype\": \"number\",\n        \"std\": 61.75652347917982,\n        \"min\": 0.7051028967590306,\n        \"max\": 177.0,\n        \"num_unique_values\": 8,\n        \"samples\": [\n          2.604293785310734,\n          2.78,\n          177.0\n        ],\n        \"semantic_type\": \"\",\n        \"description\": \"\"\n      }\n    },\n    {\n      \"column\": \"1065\",\n      \"properties\": {\n        \"dtype\": \"number\",\n        \"std\": 489.4137479895029,\n        \"min\": 177.0,\n        \"max\": 1680.0,\n        \"num_unique_values\": 8,\n        \"samples\": [\n          745.0960451977401,\n          672.0,\n          177.0\n        ],\n        \"semantic_type\": \"\",\n        \"description\": \"\"\n      }\n    }\n  ]\n}"
            }
          },
          "metadata": {},
          "execution_count": 54
        }
      ]
    },
    {
      "cell_type": "markdown",
      "source": [
        "## 7. Знайдіть та виведіть унікальні значення у категорійному стовпці."
      ],
      "metadata": {
        "id": "KG_NIjGzh32t"
      }
    },
    {
      "cell_type": "code",
      "source": [
        "# Extracting unique values from the first column (as was mentioned in the group chat)\n",
        "\n",
        "print(wine_df.iloc[:, 0].unique())"
      ],
      "metadata": {
        "id": "-lDH6RY1h7NE",
        "colab": {
          "base_uri": "https://localhost:8080/"
        },
        "outputId": "f355cb8a-3f56-476e-9866-693f4fabee84"
      },
      "execution_count": 56,
      "outputs": [
        {
          "output_type": "stream",
          "name": "stdout",
          "text": [
            "[1 2 3]\n"
          ]
        }
      ]
    }
  ]
}