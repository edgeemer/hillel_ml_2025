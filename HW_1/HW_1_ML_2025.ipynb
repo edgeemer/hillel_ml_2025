{
  "nbformat": 4,
  "nbformat_minor": 0,
  "metadata": {
    "colab": {
      "provenance": [],
      "authorship_tag": "ABX9TyMUW8fEE0J/5EJjkUEWh51J",
      "include_colab_link": true
    },
    "kernelspec": {
      "name": "python3",
      "display_name": "Python 3"
    },
    "language_info": {
      "name": "python"
    }
  },
  "cells": [
    {
      "cell_type": "markdown",
      "metadata": {
        "id": "view-in-github",
        "colab_type": "text"
      },
      "source": [
        "<a href=\"https://colab.research.google.com/github/edgeemer/hillel_ml_2025/blob/main/HW_1_ML_2025.ipynb\" target=\"_parent\"><img src=\"https://colab.research.google.com/assets/colab-badge.svg\" alt=\"Open In Colab\"/></a>"
      ]
    },
    {
      "cell_type": "markdown",
      "source": [
        "# Numpy"
      ],
      "metadata": {
        "id": "xe3v55TEhNug"
      }
    },
    {
      "cell_type": "markdown",
      "source": [
        "## 1 Створіть масив NumPy із 10 випадкових цілих чисел."
      ],
      "metadata": {
        "id": "dyH7C5ChgGAZ"
      }
    },
    {
      "cell_type": "code",
      "source": [],
      "metadata": {
        "id": "_XCTb_q0gFkc"
      },
      "execution_count": null,
      "outputs": []
    },
    {
      "cell_type": "markdown",
      "source": [
        "> Знайдіть середнє, медіану та стандартне відхилення масиву.\n",
        "\n",
        "\n",
        "\n",
        "\n"
      ],
      "metadata": {
        "id": "vfcjntN1gJv8"
      }
    },
    {
      "cell_type": "code",
      "source": [],
      "metadata": {
        "id": "qA504o4Agvu_"
      },
      "execution_count": null,
      "outputs": []
    },
    {
      "cell_type": "markdown",
      "source": [
        "> Замініть всі парні числа у масиві на 0."
      ],
      "metadata": {
        "id": "3Gn8kWWugOAZ"
      }
    },
    {
      "cell_type": "code",
      "source": [],
      "metadata": {
        "id": "o1ztWtTdgwFR"
      },
      "execution_count": null,
      "outputs": []
    },
    {
      "cell_type": "markdown",
      "source": [
        "## 2. Індексація та зрізка в NumPy"
      ],
      "metadata": {
        "id": "6S5zdag-gQqB"
      }
    },
    {
      "cell_type": "markdown",
      "source": [
        "> Створіть 2D масив NumPy (матрицю) розміром (3, 3) із випадковими цілими числами."
      ],
      "metadata": {
        "id": "X3mKMboQgXeG"
      }
    },
    {
      "cell_type": "code",
      "source": [],
      "metadata": {
        "id": "TgzgnTv3gwx6"
      },
      "execution_count": null,
      "outputs": []
    },
    {
      "cell_type": "markdown",
      "source": [
        "Виведіть перший рядок матриці."
      ],
      "metadata": {
        "id": "bQtGW72EgZem"
      }
    },
    {
      "cell_type": "code",
      "source": [],
      "metadata": {
        "id": "ItdIxzYLg1Rq"
      },
      "execution_count": null,
      "outputs": []
    },
    {
      "cell_type": "markdown",
      "source": [
        "> Виведіть останній стовпець матриці."
      ],
      "metadata": {
        "id": "Vf73XAsrgbGj"
      }
    },
    {
      "cell_type": "code",
      "source": [],
      "metadata": {
        "id": "pwrp0Z7Ig1lX"
      },
      "execution_count": null,
      "outputs": []
    },
    {
      "cell_type": "markdown",
      "source": [
        "> Виведіть діагональні елементи матриці."
      ],
      "metadata": {
        "id": "Ye6VduV0gcWE"
      }
    },
    {
      "cell_type": "code",
      "source": [],
      "metadata": {
        "id": "GEVxLLnPg2JA"
      },
      "execution_count": null,
      "outputs": []
    },
    {
      "cell_type": "markdown",
      "source": [
        "## 3. Створіть 2D масив NumPy розміром (3, 3) та 1D масив розміром (3,). Використайте broadcasting для додавання 1D масиву до кожного рядка 2D масиву."
      ],
      "metadata": {
        "id": "tEgucBoegdeX"
      }
    },
    {
      "cell_type": "code",
      "source": [],
      "metadata": {
        "id": "wOIkDSRag4NN"
      },
      "execution_count": null,
      "outputs": []
    },
    {
      "cell_type": "markdown",
      "source": [
        "## 4. Створіть 2D масив NumPy розміром (5, 5) з випадковими цілими числами."
      ],
      "metadata": {
        "id": "ewhUmEbpggGq"
      }
    },
    {
      "cell_type": "code",
      "source": [],
      "metadata": {
        "id": "wjnjFiRxg5Ac"
      },
      "execution_count": null,
      "outputs": []
    },
    {
      "cell_type": "markdown",
      "source": [
        "> Знайдіть та виведіть всі унікальні елементи у масиві."
      ],
      "metadata": {
        "id": "-_q5jsO1gjON"
      }
    },
    {
      "cell_type": "code",
      "source": [],
      "metadata": {
        "id": "9FTN--ovg5Xf"
      },
      "execution_count": null,
      "outputs": []
    },
    {
      "cell_type": "markdown",
      "source": [
        "> виведіть всі рядки, сума елементів у яких більша за певне значення. (значення оберіть самі)"
      ],
      "metadata": {
        "id": "PnePEUpOglbg"
      }
    },
    {
      "cell_type": "code",
      "source": [],
      "metadata": {
        "id": "uQe2qhoJg5yb"
      },
      "execution_count": null,
      "outputs": []
    },
    {
      "cell_type": "markdown",
      "source": [
        "## 5. Створіть 1D масив NumPy, що містить цілі числа від 1 до 20 (включно)."
      ],
      "metadata": {
        "id": "PZs0kn4egnx7"
      }
    },
    {
      "cell_type": "code",
      "source": [],
      "metadata": {
        "id": "u3_uhL6Dg65v"
      },
      "execution_count": null,
      "outputs": []
    },
    {
      "cell_type": "markdown",
      "source": [
        "> Використайте оператор shape, щоб перетворити 1D масив у 2D масив розміром (4, 5). Переконайтеся, що отриманий перетворений масив має бажаний розмір."
      ],
      "metadata": {
        "id": "FpwA6983grh0"
      }
    },
    {
      "cell_type": "code",
      "source": [],
      "metadata": {
        "id": "1GZ5n4MVg7R5"
      },
      "execution_count": null,
      "outputs": []
    },
    {
      "cell_type": "markdown",
      "source": [
        "# pandas\n",
        "\n"
      ],
      "metadata": {
        "id": "RonoCuUsguCD"
      }
    },
    {
      "cell_type": "markdown",
      "source": [
        "## 1. Створіть DataFrame Pandas із щонайменше 5 рядками та 3 стовпцями. Стовпці можуть представляти різні атрибути (наприклад, Ім'я, Вік, Місто)."
      ],
      "metadata": {
        "id": "UEib5D8-hWxW"
      }
    },
    {
      "cell_type": "code",
      "source": [],
      "metadata": {
        "id": "oBqvZcM-hbr6"
      },
      "execution_count": null,
      "outputs": []
    },
    {
      "cell_type": "markdown",
      "source": [
        "## 2. Додайте новий стовпець до DataFrame, який представляє числове значення."
      ],
      "metadata": {
        "id": "Jed9IwWgha7_"
      }
    },
    {
      "cell_type": "code",
      "source": [],
      "metadata": {
        "id": "Zic1HKDAhecv"
      },
      "execution_count": null,
      "outputs": []
    },
    {
      "cell_type": "markdown",
      "source": [
        "## 3. Відфільтруйте DataFrame, щоб показати лише рядки, де числове значення більше певного порогу (ви можете визначити поріг)."
      ],
      "metadata": {
        "id": "fzmbzBQ5helb"
      }
    },
    {
      "cell_type": "code",
      "source": [],
      "metadata": {
        "id": "c_YzzveWhg-n"
      },
      "execution_count": null,
      "outputs": []
    },
    {
      "cell_type": "markdown",
      "source": [
        "## 4. Завантажте набір даних за допомогою Pandas (ви можете використовувати будь-який набір даних у форматі CSV або wine.csv)."
      ],
      "metadata": {
        "id": "G67chUVvhhFA"
      }
    },
    {
      "cell_type": "code",
      "source": [],
      "metadata": {
        "id": "VKSOLoYMhnlN"
      },
      "execution_count": null,
      "outputs": []
    },
    {
      "cell_type": "markdown",
      "source": [
        "## 5. Відобразіть перші 5 рядків набору даних."
      ],
      "metadata": {
        "id": "FaLQEy1khnsh"
      }
    },
    {
      "cell_type": "code",
      "source": [],
      "metadata": {
        "id": "c8x25esyh0va"
      },
      "execution_count": null,
      "outputs": []
    },
    {
      "cell_type": "markdown",
      "source": [
        "## 6. Розрахуйте та виведіть загальну статистику для числових стовпців у наборі даних."
      ],
      "metadata": {
        "id": "D4Kpbp15h03I"
      }
    },
    {
      "cell_type": "code",
      "source": [],
      "metadata": {
        "id": "uix1YB9bh3tT"
      },
      "execution_count": null,
      "outputs": []
    },
    {
      "cell_type": "markdown",
      "source": [
        "## 7. Знайдіть та виведіть унікальні значення у категорійному стовпці."
      ],
      "metadata": {
        "id": "KG_NIjGzh32t"
      }
    },
    {
      "cell_type": "code",
      "source": [],
      "metadata": {
        "id": "-lDH6RY1h7NE"
      },
      "execution_count": null,
      "outputs": []
    }
  ]
}