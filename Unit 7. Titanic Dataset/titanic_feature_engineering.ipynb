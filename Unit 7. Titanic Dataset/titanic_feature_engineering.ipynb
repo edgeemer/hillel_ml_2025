{
 "cells": [
  {
   "cell_type": "code",
   "execution_count": 1,
   "id": "d089b5dc-3592-41f1-96b4-d4104a83f736",
   "metadata": {},
   "outputs": [],
   "source": [
    "# Імпортуємо необхідні бібліотеки\n",
    "import os\n",
    "import re\n",
    "\n",
    "import numpy as np\n",
    "import pandas as pd\n",
    "\n",
    "from sklearn.linear_model import LogisticRegression\n",
    "from sklearn.model_selection import StratifiedKFold\n",
    "import matplotlib.pyplot as plt\n",
    "import seaborn as sns\n",
    "\n",
    "# Встановлюємо стиль для графіків Seaborn:\n",
    "sns.set_theme(style=\"whitegrid\")"
   ]
  },
  {
   "cell_type": "markdown",
   "id": "2391203d-e703-48a5-9576-f7b3c411ff7d",
   "metadata": {},
   "source": [
    "## Data\n",
    "\n",
    "\n",
    "Variable | Definition                                 | Key                            |\n",
    "---------|--------------------------------------------|--------------------------------|\n",
    "survival | Survival                                   | 0 = No, 1 = Yes                |\n",
    "pclass\t | Ticket class                               | 1 = 1st, 2 = 2nd, 3 = 3rd      |\n",
    "sex      | Sex                                        |                                |\n",
    "Age      | Age in years\t                              |                                |\n",
    "sibsp    | № of siblings / spouses aboard the Titanic |                                |\n",
    "parch\t | № of parents / children aboard the Titanic |                                |\n",
    "ticket   | Ticket number                              |                                |\n",
    "fare     | Passenger fare                             |                                | \t\n",
    "cabin    | Cabin number\t                              |\n",
    "embarked | Port of Embarkation\t                      | C = Cherbourg, Q = Queenstown, S = Southampton |\n"
   ]
  },
  {
   "cell_type": "code",
   "execution_count": 2,
   "id": "0335c142-996e-4135-b3f5-9108594095de",
   "metadata": {},
   "outputs": [
    {
     "name": "stdout",
     "output_type": "stream",
     "text": [
      "(891, 12)\n"
     ]
    },
    {
     "data": {
      "text/html": [
       "<div>\n",
       "<style scoped>\n",
       "    .dataframe tbody tr th:only-of-type {\n",
       "        vertical-align: middle;\n",
       "    }\n",
       "\n",
       "    .dataframe tbody tr th {\n",
       "        vertical-align: top;\n",
       "    }\n",
       "\n",
       "    .dataframe thead th {\n",
       "        text-align: right;\n",
       "    }\n",
       "</style>\n",
       "<table border=\"1\" class=\"dataframe\">\n",
       "  <thead>\n",
       "    <tr style=\"text-align: right;\">\n",
       "      <th></th>\n",
       "      <th>PassengerId</th>\n",
       "      <th>Survived</th>\n",
       "      <th>Pclass</th>\n",
       "      <th>Name</th>\n",
       "      <th>Sex</th>\n",
       "      <th>Age</th>\n",
       "      <th>SibSp</th>\n",
       "      <th>Parch</th>\n",
       "      <th>Ticket</th>\n",
       "      <th>Fare</th>\n",
       "      <th>Cabin</th>\n",
       "      <th>Embarked</th>\n",
       "    </tr>\n",
       "  </thead>\n",
       "  <tbody>\n",
       "    <tr>\n",
       "      <th>0</th>\n",
       "      <td>1</td>\n",
       "      <td>0</td>\n",
       "      <td>3</td>\n",
       "      <td>Braund, Mr. Owen Harris</td>\n",
       "      <td>male</td>\n",
       "      <td>22.0</td>\n",
       "      <td>1</td>\n",
       "      <td>0</td>\n",
       "      <td>A/5 21171</td>\n",
       "      <td>7.2500</td>\n",
       "      <td>NaN</td>\n",
       "      <td>S</td>\n",
       "    </tr>\n",
       "    <tr>\n",
       "      <th>1</th>\n",
       "      <td>2</td>\n",
       "      <td>1</td>\n",
       "      <td>1</td>\n",
       "      <td>Cumings, Mrs. John Bradley (Florence Briggs Th...</td>\n",
       "      <td>female</td>\n",
       "      <td>38.0</td>\n",
       "      <td>1</td>\n",
       "      <td>0</td>\n",
       "      <td>PC 17599</td>\n",
       "      <td>71.2833</td>\n",
       "      <td>C85</td>\n",
       "      <td>C</td>\n",
       "    </tr>\n",
       "    <tr>\n",
       "      <th>2</th>\n",
       "      <td>3</td>\n",
       "      <td>1</td>\n",
       "      <td>3</td>\n",
       "      <td>Heikkinen, Miss. Laina</td>\n",
       "      <td>female</td>\n",
       "      <td>26.0</td>\n",
       "      <td>0</td>\n",
       "      <td>0</td>\n",
       "      <td>STON/O2. 3101282</td>\n",
       "      <td>7.9250</td>\n",
       "      <td>NaN</td>\n",
       "      <td>S</td>\n",
       "    </tr>\n",
       "    <tr>\n",
       "      <th>3</th>\n",
       "      <td>4</td>\n",
       "      <td>1</td>\n",
       "      <td>1</td>\n",
       "      <td>Futrelle, Mrs. Jacques Heath (Lily May Peel)</td>\n",
       "      <td>female</td>\n",
       "      <td>35.0</td>\n",
       "      <td>1</td>\n",
       "      <td>0</td>\n",
       "      <td>113803</td>\n",
       "      <td>53.1000</td>\n",
       "      <td>C123</td>\n",
       "      <td>S</td>\n",
       "    </tr>\n",
       "    <tr>\n",
       "      <th>4</th>\n",
       "      <td>5</td>\n",
       "      <td>0</td>\n",
       "      <td>3</td>\n",
       "      <td>Allen, Mr. William Henry</td>\n",
       "      <td>male</td>\n",
       "      <td>35.0</td>\n",
       "      <td>0</td>\n",
       "      <td>0</td>\n",
       "      <td>373450</td>\n",
       "      <td>8.0500</td>\n",
       "      <td>NaN</td>\n",
       "      <td>S</td>\n",
       "    </tr>\n",
       "  </tbody>\n",
       "</table>\n",
       "</div>"
      ],
      "text/plain": [
       "   PassengerId  Survived  Pclass  \\\n",
       "0            1         0       3   \n",
       "1            2         1       1   \n",
       "2            3         1       3   \n",
       "3            4         1       1   \n",
       "4            5         0       3   \n",
       "\n",
       "                                                Name     Sex   Age  SibSp  \\\n",
       "0                            Braund, Mr. Owen Harris    male  22.0      1   \n",
       "1  Cumings, Mrs. John Bradley (Florence Briggs Th...  female  38.0      1   \n",
       "2                             Heikkinen, Miss. Laina  female  26.0      0   \n",
       "3       Futrelle, Mrs. Jacques Heath (Lily May Peel)  female  35.0      1   \n",
       "4                           Allen, Mr. William Henry    male  35.0      0   \n",
       "\n",
       "   Parch            Ticket     Fare Cabin Embarked  \n",
       "0      0         A/5 21171   7.2500   NaN        S  \n",
       "1      0          PC 17599  71.2833   C85        C  \n",
       "2      0  STON/O2. 3101282   7.9250   NaN        S  \n",
       "3      0            113803  53.1000  C123        S  \n",
       "4      0            373450   8.0500   NaN        S  "
      ]
     },
     "execution_count": 2,
     "metadata": {},
     "output_type": "execute_result"
    }
   ],
   "source": [
    "# Завантажуємо навчальний датасет \"train.csv\" та виводимо його розмір та перші декілька рядків:\n",
    "train = pd.read_csv(os.path.join(\"data\", \"train.csv\"))\n",
    "print(train.shape)\n",
    "train.head()"
   ]
  },
  {
   "cell_type": "code",
   "execution_count": 3,
   "id": "e7aeb926-bfc1-41ac-961d-cd6e5aea9a0e",
   "metadata": {},
   "outputs": [
    {
     "name": "stdout",
     "output_type": "stream",
     "text": [
      "(418, 11)\n"
     ]
    },
    {
     "data": {
      "text/html": [
       "<div>\n",
       "<style scoped>\n",
       "    .dataframe tbody tr th:only-of-type {\n",
       "        vertical-align: middle;\n",
       "    }\n",
       "\n",
       "    .dataframe tbody tr th {\n",
       "        vertical-align: top;\n",
       "    }\n",
       "\n",
       "    .dataframe thead th {\n",
       "        text-align: right;\n",
       "    }\n",
       "</style>\n",
       "<table border=\"1\" class=\"dataframe\">\n",
       "  <thead>\n",
       "    <tr style=\"text-align: right;\">\n",
       "      <th></th>\n",
       "      <th>PassengerId</th>\n",
       "      <th>Pclass</th>\n",
       "      <th>Name</th>\n",
       "      <th>Sex</th>\n",
       "      <th>Age</th>\n",
       "      <th>SibSp</th>\n",
       "      <th>Parch</th>\n",
       "      <th>Ticket</th>\n",
       "      <th>Fare</th>\n",
       "      <th>Cabin</th>\n",
       "      <th>Embarked</th>\n",
       "    </tr>\n",
       "  </thead>\n",
       "  <tbody>\n",
       "    <tr>\n",
       "      <th>0</th>\n",
       "      <td>892</td>\n",
       "      <td>3</td>\n",
       "      <td>Kelly, Mr. James</td>\n",
       "      <td>male</td>\n",
       "      <td>34.5</td>\n",
       "      <td>0</td>\n",
       "      <td>0</td>\n",
       "      <td>330911</td>\n",
       "      <td>7.8292</td>\n",
       "      <td>NaN</td>\n",
       "      <td>Q</td>\n",
       "    </tr>\n",
       "    <tr>\n",
       "      <th>1</th>\n",
       "      <td>893</td>\n",
       "      <td>3</td>\n",
       "      <td>Wilkes, Mrs. James (Ellen Needs)</td>\n",
       "      <td>female</td>\n",
       "      <td>47.0</td>\n",
       "      <td>1</td>\n",
       "      <td>0</td>\n",
       "      <td>363272</td>\n",
       "      <td>7.0000</td>\n",
       "      <td>NaN</td>\n",
       "      <td>S</td>\n",
       "    </tr>\n",
       "    <tr>\n",
       "      <th>2</th>\n",
       "      <td>894</td>\n",
       "      <td>2</td>\n",
       "      <td>Myles, Mr. Thomas Francis</td>\n",
       "      <td>male</td>\n",
       "      <td>62.0</td>\n",
       "      <td>0</td>\n",
       "      <td>0</td>\n",
       "      <td>240276</td>\n",
       "      <td>9.6875</td>\n",
       "      <td>NaN</td>\n",
       "      <td>Q</td>\n",
       "    </tr>\n",
       "    <tr>\n",
       "      <th>3</th>\n",
       "      <td>895</td>\n",
       "      <td>3</td>\n",
       "      <td>Wirz, Mr. Albert</td>\n",
       "      <td>male</td>\n",
       "      <td>27.0</td>\n",
       "      <td>0</td>\n",
       "      <td>0</td>\n",
       "      <td>315154</td>\n",
       "      <td>8.6625</td>\n",
       "      <td>NaN</td>\n",
       "      <td>S</td>\n",
       "    </tr>\n",
       "    <tr>\n",
       "      <th>4</th>\n",
       "      <td>896</td>\n",
       "      <td>3</td>\n",
       "      <td>Hirvonen, Mrs. Alexander (Helga E Lindqvist)</td>\n",
       "      <td>female</td>\n",
       "      <td>22.0</td>\n",
       "      <td>1</td>\n",
       "      <td>1</td>\n",
       "      <td>3101298</td>\n",
       "      <td>12.2875</td>\n",
       "      <td>NaN</td>\n",
       "      <td>S</td>\n",
       "    </tr>\n",
       "  </tbody>\n",
       "</table>\n",
       "</div>"
      ],
      "text/plain": [
       "   PassengerId  Pclass                                          Name     Sex  \\\n",
       "0          892       3                              Kelly, Mr. James    male   \n",
       "1          893       3              Wilkes, Mrs. James (Ellen Needs)  female   \n",
       "2          894       2                     Myles, Mr. Thomas Francis    male   \n",
       "3          895       3                              Wirz, Mr. Albert    male   \n",
       "4          896       3  Hirvonen, Mrs. Alexander (Helga E Lindqvist)  female   \n",
       "\n",
       "    Age  SibSp  Parch   Ticket     Fare Cabin Embarked  \n",
       "0  34.5      0      0   330911   7.8292   NaN        Q  \n",
       "1  47.0      1      0   363272   7.0000   NaN        S  \n",
       "2  62.0      0      0   240276   9.6875   NaN        Q  \n",
       "3  27.0      0      0   315154   8.6625   NaN        S  \n",
       "4  22.0      1      1  3101298  12.2875   NaN        S  "
      ]
     },
     "execution_count": 3,
     "metadata": {},
     "output_type": "execute_result"
    }
   ],
   "source": [
    "# Завантажуємо тестовий датасет \"test.csv\" та виводимо його розмір та перші декілька рядків:\n",
    "test = pd.read_csv(os.path.join(\"data\", \"test.csv\"))\n",
    "print(test.shape)\n",
    "test.head()"
   ]
  },
  {
   "cell_type": "markdown",
   "id": "0c15fdb2-79eb-4d66-8d64-b7c89a1c7af8",
   "metadata": {},
   "source": [
    "## Data analysis\n",
    "\n",
    "Цей код виконує попередню обробку даних (feature engineering) для датасету Kaggle Titanic, з метою підготовки даних до подальшої аналізу та моделювання для передбачення виживання пасажирів на Титаніку."
   ]
  },
  {
   "cell_type": "code",
   "execution_count": 4,
   "id": "8f213370-fcea-4b04-8c26-c5e6c83aaab3",
   "metadata": {},
   "outputs": [
    {
     "data": {
      "text/html": [
       "<div>\n",
       "<style scoped>\n",
       "    .dataframe tbody tr th:only-of-type {\n",
       "        vertical-align: middle;\n",
       "    }\n",
       "\n",
       "    .dataframe tbody tr th {\n",
       "        vertical-align: top;\n",
       "    }\n",
       "\n",
       "    .dataframe thead th {\n",
       "        text-align: right;\n",
       "    }\n",
       "</style>\n",
       "<table border=\"1\" class=\"dataframe\">\n",
       "  <thead>\n",
       "    <tr style=\"text-align: right;\">\n",
       "      <th></th>\n",
       "      <th>PassengerId</th>\n",
       "      <th>Survived</th>\n",
       "      <th>Pclass</th>\n",
       "      <th>Age</th>\n",
       "      <th>SibSp</th>\n",
       "      <th>Parch</th>\n",
       "      <th>Fare</th>\n",
       "    </tr>\n",
       "  </thead>\n",
       "  <tbody>\n",
       "    <tr>\n",
       "      <th>count</th>\n",
       "      <td>891.000000</td>\n",
       "      <td>891.000000</td>\n",
       "      <td>891.000000</td>\n",
       "      <td>714.000000</td>\n",
       "      <td>891.000000</td>\n",
       "      <td>891.000000</td>\n",
       "      <td>891.000000</td>\n",
       "    </tr>\n",
       "    <tr>\n",
       "      <th>mean</th>\n",
       "      <td>446.000000</td>\n",
       "      <td>0.383838</td>\n",
       "      <td>2.308642</td>\n",
       "      <td>29.699118</td>\n",
       "      <td>0.523008</td>\n",
       "      <td>0.381594</td>\n",
       "      <td>32.204208</td>\n",
       "    </tr>\n",
       "    <tr>\n",
       "      <th>std</th>\n",
       "      <td>257.353842</td>\n",
       "      <td>0.486592</td>\n",
       "      <td>0.836071</td>\n",
       "      <td>14.526497</td>\n",
       "      <td>1.102743</td>\n",
       "      <td>0.806057</td>\n",
       "      <td>49.693429</td>\n",
       "    </tr>\n",
       "    <tr>\n",
       "      <th>min</th>\n",
       "      <td>1.000000</td>\n",
       "      <td>0.000000</td>\n",
       "      <td>1.000000</td>\n",
       "      <td>0.420000</td>\n",
       "      <td>0.000000</td>\n",
       "      <td>0.000000</td>\n",
       "      <td>0.000000</td>\n",
       "    </tr>\n",
       "    <tr>\n",
       "      <th>25%</th>\n",
       "      <td>223.500000</td>\n",
       "      <td>0.000000</td>\n",
       "      <td>2.000000</td>\n",
       "      <td>20.125000</td>\n",
       "      <td>0.000000</td>\n",
       "      <td>0.000000</td>\n",
       "      <td>7.910400</td>\n",
       "    </tr>\n",
       "    <tr>\n",
       "      <th>50%</th>\n",
       "      <td>446.000000</td>\n",
       "      <td>0.000000</td>\n",
       "      <td>3.000000</td>\n",
       "      <td>28.000000</td>\n",
       "      <td>0.000000</td>\n",
       "      <td>0.000000</td>\n",
       "      <td>14.454200</td>\n",
       "    </tr>\n",
       "    <tr>\n",
       "      <th>75%</th>\n",
       "      <td>668.500000</td>\n",
       "      <td>1.000000</td>\n",
       "      <td>3.000000</td>\n",
       "      <td>38.000000</td>\n",
       "      <td>1.000000</td>\n",
       "      <td>0.000000</td>\n",
       "      <td>31.000000</td>\n",
       "    </tr>\n",
       "    <tr>\n",
       "      <th>max</th>\n",
       "      <td>891.000000</td>\n",
       "      <td>1.000000</td>\n",
       "      <td>3.000000</td>\n",
       "      <td>80.000000</td>\n",
       "      <td>8.000000</td>\n",
       "      <td>6.000000</td>\n",
       "      <td>512.329200</td>\n",
       "    </tr>\n",
       "  </tbody>\n",
       "</table>\n",
       "</div>"
      ],
      "text/plain": [
       "       PassengerId    Survived      Pclass         Age       SibSp  \\\n",
       "count   891.000000  891.000000  891.000000  714.000000  891.000000   \n",
       "mean    446.000000    0.383838    2.308642   29.699118    0.523008   \n",
       "std     257.353842    0.486592    0.836071   14.526497    1.102743   \n",
       "min       1.000000    0.000000    1.000000    0.420000    0.000000   \n",
       "25%     223.500000    0.000000    2.000000   20.125000    0.000000   \n",
       "50%     446.000000    0.000000    3.000000   28.000000    0.000000   \n",
       "75%     668.500000    1.000000    3.000000   38.000000    1.000000   \n",
       "max     891.000000    1.000000    3.000000   80.000000    8.000000   \n",
       "\n",
       "            Parch        Fare  \n",
       "count  891.000000  891.000000  \n",
       "mean     0.381594   32.204208  \n",
       "std      0.806057   49.693429  \n",
       "min      0.000000    0.000000  \n",
       "25%      0.000000    7.910400  \n",
       "50%      0.000000   14.454200  \n",
       "75%      0.000000   31.000000  \n",
       "max      6.000000  512.329200  "
      ]
     },
     "execution_count": 4,
     "metadata": {},
     "output_type": "execute_result"
    }
   ],
   "source": [
    "# Виводимо описову статистику для навчального датасету \"train\"\n",
    "train.describe()"
   ]
  },
  {
   "cell_type": "code",
   "execution_count": 5,
   "id": "f57aa423-85b6-49dc-b572-0396629e9771",
   "metadata": {},
   "outputs": [
    {
     "name": "stdout",
     "output_type": "stream",
     "text": [
      "<class 'pandas.core.frame.DataFrame'>\n",
      "RangeIndex: 891 entries, 0 to 890\n",
      "Data columns (total 12 columns):\n",
      " #   Column       Non-Null Count  Dtype  \n",
      "---  ------       --------------  -----  \n",
      " 0   PassengerId  891 non-null    int64  \n",
      " 1   Survived     891 non-null    int64  \n",
      " 2   Pclass       891 non-null    int64  \n",
      " 3   Name         891 non-null    object \n",
      " 4   Sex          891 non-null    object \n",
      " 5   Age          714 non-null    float64\n",
      " 6   SibSp        891 non-null    int64  \n",
      " 7   Parch        891 non-null    int64  \n",
      " 8   Ticket       891 non-null    object \n",
      " 9   Fare         891 non-null    float64\n",
      " 10  Cabin        204 non-null    object \n",
      " 11  Embarked     889 non-null    object \n",
      "dtypes: float64(2), int64(5), object(5)\n",
      "memory usage: 83.7+ KB\n",
      "None\n",
      "\n",
      "<class 'pandas.core.frame.DataFrame'>\n",
      "RangeIndex: 418 entries, 0 to 417\n",
      "Data columns (total 11 columns):\n",
      " #   Column       Non-Null Count  Dtype  \n",
      "---  ------       --------------  -----  \n",
      " 0   PassengerId  418 non-null    int64  \n",
      " 1   Pclass       418 non-null    int64  \n",
      " 2   Name         418 non-null    object \n",
      " 3   Sex          418 non-null    object \n",
      " 4   Age          332 non-null    float64\n",
      " 5   SibSp        418 non-null    int64  \n",
      " 6   Parch        418 non-null    int64  \n",
      " 7   Ticket       418 non-null    object \n",
      " 8   Fare         417 non-null    float64\n",
      " 9   Cabin        91 non-null     object \n",
      " 10  Embarked     418 non-null    object \n",
      "dtypes: float64(2), int64(4), object(5)\n",
      "memory usage: 36.0+ KB\n",
      "None\n"
     ]
    }
   ],
   "source": [
    "# Виводимо інформацію про типи даних та наявність пропущених значень в навчальному та тестовому датасетах:\n",
    "print(train.info())\n",
    "print()\n",
    "print(test.info())"
   ]
  },
  {
   "cell_type": "code",
   "execution_count": 6,
   "id": "66b9cd72-ba5b-4063-92ea-81c7e0198db7",
   "metadata": {},
   "outputs": [
    {
     "data": {
      "text/plain": [
       "PassengerId      int64\n",
       "Survived         int64\n",
       "Pclass           int64\n",
       "Name            object\n",
       "Sex             object\n",
       "Age            float64\n",
       "SibSp            int64\n",
       "Parch            int64\n",
       "Ticket          object\n",
       "Fare           float64\n",
       "Cabin           object\n",
       "Embarked        object\n",
       "dtype: object"
      ]
     },
     "execution_count": 6,
     "metadata": {},
     "output_type": "execute_result"
    }
   ],
   "source": [
    "train.dtypes"
   ]
  },
  {
   "cell_type": "code",
   "execution_count": 7,
   "id": "289992d3-32d6-4cb4-8bae-f058ec6692d9",
   "metadata": {},
   "outputs": [],
   "source": [
    "# Визначаємо змінні для ідентифікації, категоріальних ознак, числових ознак та цільової змінної:\n",
    "id_feature = \"PassengerId\"\n",
    "categorical_features = [\"Sex\", \"Ticket\", \"Cabin\", \"Embarked\", \"Pclass\"]\n",
    "continuous_features = [\"Age\", \"Fare\", \"SibSp\", \"Parch\"]\n",
    "target_feature = \"Survived\""
   ]
  },
  {
   "cell_type": "code",
   "execution_count": 8,
   "id": "92cfffb8-527e-4e25-91db-c43fac71524a",
   "metadata": {},
   "outputs": [
    {
     "data": {
      "image/png": "[encoded data removed]",
      "text/plain": [
       "<Figure size 640x480 with 1 Axes>"
      ]
     },
     "metadata": {},
     "output_type": "display_data"
    }
   ],
   "source": [
    "sns.countplot(train, x=\"Survived\");"
   ]
  },
  {
   "cell_type": "code",
   "execution_count": 9,
   "id": "9513d0a3-ef57-46a7-b1bc-2d9eb766936c",
   "metadata": {},
   "outputs": [
    {
     "data": {
      "image/png": "[encoded data removed]",
      "text/plain": [
       "<Figure size 640x480 with 1 Axes>"
      ]
     },
     "metadata": {},
     "output_type": "display_data"
    }
   ],
   "source": [
    "# Побудова гістограми для залежності виживання від класу пасажира\n",
    "sns.countplot(train, x=\"Pclass\");"
   ]
  },
  {
   "cell_type": "code",
   "execution_count": 10,
   "id": "73430e64-be51-46f2-845a-f47b03c5d1be",
   "metadata": {},
   "outputs": [
    {
     "data": {
      "image/png": "[encoded data removed]",
      "text/plain": [
       "<Figure size 1000x500 with 1 Axes>"
      ]
     },
     "metadata": {},
     "output_type": "display_data"
    }
   ],
   "source": [
    "# Побудова гістограми для розподілу вартості квитка в залежності від виживання\n",
    "fix, ax = plt.subplots(figsize=(10, 5))\n",
    "sns.histplot(train, x=\"Fare\", hue=\"Survived\", kde=True, ax=ax);"
   ]
  },
  {
   "cell_type": "code",
   "execution_count": 11,
   "id": "9ef1a60e-d614-471c-9498-fa0071f7618e",
   "metadata": {},
   "outputs": [
    {
     "data": {
      "image/png": "[encoded data removed]",
      "text/plain": [
       "<Figure size 2000x500 with 1 Axes>"
      ]
     },
     "metadata": {},
     "output_type": "display_data"
    }
   ],
   "source": [
    "# Побудова гістограми для розподілу вартості квитка, розділеного на 13 кількісних діапазонів (категоріальних ознак) в залежності від виживання\n",
    "fix, ax = plt.subplots(figsize=(20, 5))\n",
    "tmp = train.copy()\n",
    "tmp[\"Fare\"] = pd.qcut(tmp[\"Fare\"], 13)\n",
    "sns.countplot(tmp, x=\"Fare\", hue=\"Survived\");"
   ]
  },
  {
   "cell_type": "code",
   "execution_count": 12,
   "id": "c654e409-a88d-4cb6-90b0-ddbe821a5504",
   "metadata": {},
   "outputs": [
    {
     "data": {
      "image/png": "[encoded data removed]",
      "text/plain": [
       "<Figure size 640x480 with 1 Axes>"
      ]
     },
     "metadata": {},
     "output_type": "display_data"
    }
   ],
   "source": [
    "# Побудова гістограм для залежності виживання від статі\n",
    "plt.title(\"Survival by gender\")\n",
    "sns.histplot(data=train, hue=\"Survived\", x=\"Sex\");"
   ]
  },
  {
   "cell_type": "code",
   "execution_count": 13,
   "id": "976d5441-b340-41a8-b532-045eb58f5340",
   "metadata": {},
   "outputs": [
    {
     "data": {
      "image/png": "[encoded data removed]",
      "text/plain": [
       "<Figure size 1000x500 with 1 Axes>"
      ]
     },
     "metadata": {},
     "output_type": "display_data"
    }
   ],
   "source": [
    "# Побудова гістограм для залежності виживання від віку\n",
    "plt.figure(figsize=(10, 5))\n",
    "plt.title(\"Survival by age\")\n",
    "sns.histplot(data=train, hue=\"Survived\", x=\"Age\");"
   ]
  },
  {
   "cell_type": "code",
   "execution_count": 14,
   "id": "1c8510a1-4429-4974-982b-36cd9264bc0d",
   "metadata": {},
   "outputs": [
    {
     "data": {
      "image/png": "[encoded data removed]",
      "text/plain": [
       "<Figure size 1000x500 with 1 Axes>"
      ]
     },
     "metadata": {},
     "output_type": "display_data"
    }
   ],
   "source": [
    "# Побудова бокс-плоту для розподілу віку в залежності від класу пасажира та статі\n",
    "fix, ax = plt.subplots(figsize=(10, 5))\n",
    "ax.set_title(\"Age distribution by Passender Class & Sex\")\n",
    "sns.boxplot(train, x=\"Pclass\", y=\"Age\", hue=\"Sex\", ax=ax);"
   ]
  },
  {
   "cell_type": "code",
   "execution_count": 15,
   "id": "f0df1efd-1cdc-4211-a982-3fb809f22983",
   "metadata": {},
   "outputs": [
    {
     "data": {
      "image/png": "[encoded data removed]",
      "text/plain": [
       "<Figure size 700x700 with 2 Axes>"
      ]
     },
     "metadata": {},
     "output_type": "display_data"
    }
   ],
   "source": [
    "# Розрахунок кореляційної матриці між числовими ознаками\n",
    "corr = train.corr(method=\"pearson\", numeric_only=True)\n",
    "\n",
    "# Побудова теплової карти для візуалізації кореляції між числовими ознаками\n",
    "f, ax = plt.subplots(figsize=(7, 7))\n",
    "sns.heatmap(corr, cmap=sns.diverging_palette(220, 10, as_cmap=True), vmin=-1.0, vmax=1.0, square=True, ax=ax, annot=True);"
   ]
  },
  {
   "cell_type": "markdown",
   "id": "6d998fb3-ee0f-4cd9-a2c4-7ce8736a2d93",
   "metadata": {},
   "source": [
    "### Feature engineering"
   ]
  },
  {
   "cell_type": "code",
   "execution_count": 16,
   "id": "5383060b-fefd-4d20-a01f-bbf4d09dd506",
   "metadata": {},
   "outputs": [
    {
     "name": "stdout",
     "output_type": "stream",
     "text": [
      "<class 'pandas.core.frame.DataFrame'>\n",
      "RangeIndex: 1309 entries, 0 to 1308\n",
      "Data columns (total 12 columns):\n",
      " #   Column       Non-Null Count  Dtype  \n",
      "---  ------       --------------  -----  \n",
      " 0   PassengerId  1309 non-null   int64  \n",
      " 1   Survived     891 non-null    float64\n",
      " 2   Pclass       1309 non-null   int64  \n",
      " 3   Name         1309 non-null   object \n",
      " 4   Sex          1309 non-null   object \n",
      " 5   Age          1046 non-null   float64\n",
      " 6   SibSp        1309 non-null   int64  \n",
      " 7   Parch        1309 non-null   int64  \n",
      " 8   Ticket       1309 non-null   object \n",
      " 9   Fare         1308 non-null   float64\n",
      " 10  Cabin        295 non-null    object \n",
      " 11  Embarked     1307 non-null   object \n",
      "dtypes: float64(3), int64(4), object(5)\n",
      "memory usage: 122.8+ KB\n"
     ]
    }
   ],
   "source": [
    "# Об'єднання навчального і тестового датасетів у єдиний датасет dataset, з відновленням індексів:\n",
    "dataset = pd.concat([train, test]).reset_index(drop=True)\n",
    "\n",
    "# Виведення інформації про типи даних та наявність пропущених значень в об'єднаному датасеті:\n",
    "dataset.info()"
   ]
  },
  {
   "cell_type": "code",
   "execution_count": 17,
   "id": "aa342680-645e-4d5f-bb29-57535bd198c1",
   "metadata": {},
   "outputs": [],
   "source": [
    "# dataset[\"Title\"] = [re.findall(r\"\\S+(?=\\.)\", name)[0] for name in dataset[\"Name\"]]\n",
    "# dataset[\"Age\"] = dataset[\"Age\"].fillna(dataset.groupby(\"Title\")[\"Age\"].transform(\"mean\"))\n",
    "# dataset[\"AgeRounded\"] = dataset[\"Age\"].apply(lambda x: round(x/10)*10)  # remove decimal part\n",
    "# dataset[\"NumFamily\"] = 1 + dataset[\"SibSp\"] + dataset[\"Parch\"]  # person + number of siblings + number of parrents\n",
    "\n",
    "# print(dataset[\"Title\"].unique())"
   ]
  },
  {
   "cell_type": "markdown",
   "id": "2432ae42-3704-494b-b8cd-6db1f6092c7a",
   "metadata": {},
   "source": [
    "Meanings:\n",
    "\n",
    "    Mr - any man\n",
    "    Mrs - married woman who uses her husband's last name\n",
    "    Miss -  unmarried woman\n",
    "    Ms - married or unmarried woman (common in business)\n",
    "    Master - minor male\n",
    "    Don - male that around 40s\n",
    "    Dona - female that around 40s\n",
    "    Sir - adult male of any age\n",
    "    Lady - adult female of any age\n",
    "    Dr - Doctor\n",
    "    Rev - Reverend\n",
    "    Mme - Madame\n",
    "    Mlle - Mademoiselle\n",
    "    Major - Rank in the Military\n",
    "    Col - Colonel\n",
    "    Capt - Captain\n",
    "    Countess - Wife of a Count\n",
    "    Jonkheer - a rank for nobility"
   ]
  },
  {
   "cell_type": "code",
   "execution_count": null,
   "id": "b30e6473-d827-4f21-a739-9a01817e1772",
   "metadata": {},
   "outputs": [],
   "source": []
  },
  {
   "cell_type": "code",
   "execution_count": 18,
   "id": "b7d0ce5a-f1b3-4375-b0db-5f4123e974f2",
   "metadata": {},
   "outputs": [
    {
     "name": "stdout",
     "output_type": "stream",
     "text": [
      "Median age of Pclass 1 females: 36.0\n",
      "Median age of Pclass 1 males: 42.0\n",
      "Median age of Pclass 2 females: 28.0\n",
      "Median age of Pclass 2 males: 29.5\n",
      "Median age of Pclass 3 females: 22.0\n",
      "Median age of Pclass 3 males: 25.0\n",
      "Median age of all passengers: 28.0\n",
      "Median fare: 7.8542\n"
     ]
    }
   ],
   "source": [
    "# Створення нової ознаки \"Family_Size\" яка представляє собою кількість членів сім'ї на борту.\n",
    "# Ця ознака обчислюється як сума \"1 + SibSp + Parch\", де SibSp - кількість братів і сестер або подружніх, а Parch - кількість батьків або дітей:\n",
    "dataset[\"Family_Size\"] = 1 + dataset[\"SibSp\"] + dataset[\"Parch\"]  # person + number of siblings + number of parrents\n",
    "\n",
    "# Створення категоріальної ознаки \"Family_Size_Grouped\", яка групує розмір сім'ї на кілька категорій,\n",
    "# відповідно до кількості членів сім'ї. Групи задані словником \"family_map\":\n",
    "family_map = {1: 'Alone', 2: 'Small', 3: 'Small', 4: 'Small', 5: 'Medium', 6: 'Medium', 7: 'Large', 8: 'Large', 11: 'Large'}\n",
    "dataset[\"Family_Size_Grouped\"] = dataset[\"Family_Size\"].map(family_map)\n",
    "\n",
    "# Визначення медіани віку для кожного класу пасажира та статі. \n",
    "# Ця інформація буде використовуватися для заповнення пропущених значень в стовпці \"Age\". \n",
    "# Також, виводиться медіанний вік усіх пасажирів:\n",
    "age_by_pclass_sex = dataset.groupby([\"Sex\", \"Pclass\"])[\"Age\"].median()\n",
    "for pclass in range(1, 4):\n",
    "    for sex in [\"female\", \"male\"]:\n",
    "        print('Median age of Pclass {} {}s: {}'.format(pclass, sex, age_by_pclass_sex[sex][pclass]))\n",
    "print('Median age of all passengers: {}'.format(dataset[\"Age\"].median()))\n",
    "\n",
    "# Заміна пропущених значень в стовпці \"Age\" на медіанний вік відповідно до статі і класу пасажира:\n",
    "dataset[\"Age\"] = dataset[[\"Sex\", \"Pclass\", \"Age\"]].apply(lambda x: age_by_pclass_sex[x[\"Sex\"]][x[\"Pclass\"]] if np.isnan(x[\"Age\"]) else x[\"Age\"], axis=1)\n",
    "\n",
    "# Створення нової ознаки \"AgeRounded\", яка округлює вік до десятих:\n",
    "dataset[\"AgeRounded\"] = dataset[\"Age\"].apply(lambda x: round(x/10)*10)  # remove decimal part\n",
    "\n",
    "# Обчислення медіанної ціни квитка для пасажирів 3-го класу без батьків/дітей і братів/сестер, \n",
    "# та заміна пропущених значень ціни квитка на цю медіанну вартість:\n",
    "med_fare = dataset.groupby([\"Pclass\", \"Parch\", \"SibSp\"])[\"Fare\"].median()[3][0][0]\n",
    "print(\"Median fare:\", med_fare)\n",
    "dataset[\"Fare\"] = dataset['Fare'].fillna(med_fare)\n",
    "\n",
    "# Створення нової ознаки \"Ticket_Frequency\", яка показує, скільки разів зустрічається квиток у датасеті. \n",
    "# Ця ознака може вказувати на те, скільки пасажирів подорожували по ціні одного і того самого ж квитка:\n",
    "dataset[\"Ticket_Frequency\"] = dataset.groupby(\"Ticket\")[\"Ticket\"].transform(\"count\")\n",
    "\n",
    "# Створення ознаки \"Title\", яка витягує з імен пасажирів їхній заголовок (наприклад, \"Mr.\", \"Mrs.\", \"Miss\"):\n",
    "dataset[\"Title\"] = dataset[\"Name\"].str.split(\", \", expand=True)[1].str.split('.', expand=True)[0]\n",
    "\n",
    "# Створення ознаки \"Is_Married\", яка вказує, чи пасажир є одруженим (\"1\" - якщо \"Title\" рівний \"Mrs\", інакше \"0\"):\n",
    "dataset[\"Is_Married\"] = 0\n",
    "dataset.loc[dataset[\"Title\"] == \"Mrs\", \"Is_Married\"] = 1"
   ]
  },
  {
   "cell_type": "markdown",
   "id": "385c34fb",
   "metadata": {},
   "source": [
    "Цей код виконує ряд операцій для обробки та підготовки даних, щоб покращити якість та коректність подальшого аналізу та моделювання в рамках задачі передбачення виживання на Титаніку."
   ]
  },
  {
   "cell_type": "code",
   "execution_count": 19,
   "id": "c327de52-ad7d-4e64-b97a-41e403d69feb",
   "metadata": {},
   "outputs": [],
   "source": [
    "# dataset[dataset[\"Fare\"].isnull()]"
   ]
  },
  {
   "cell_type": "code",
   "execution_count": 20,
   "id": "61940224-5c05-4d0d-aac3-e90e6f91eb91",
   "metadata": {},
   "outputs": [],
   "source": [
    "# tomsfare = dataset.groupby([\"Pclass\", \"Sex\", \"AgeRounded\"])[\"Fare\"].mean()[3, \"male\", 60]\n",
    "# print(\"Avarage Fare of a male from pclass 3 and around 60th is : \" + str(tomsfare))\n",
    "# dataset[\"Fare\"].fillna(tomsfare, inplace=True)"
   ]
  },
  {
   "cell_type": "code",
   "execution_count": 21,
   "id": "4a119437-386e-4b8c-95e6-336f407a5447",
   "metadata": {},
   "outputs": [
    {
     "data": {
      "image/png": "[encoded data removed]",
      "text/plain": [
       "<Figure size 640x480 with 1 Axes>"
      ]
     },
     "metadata": {},
     "output_type": "display_data"
    }
   ],
   "source": [
    "# Створення ознаки \"Deck_letter\" на основі інформації про кабіни пасажирів. \n",
    "# Вона містить першу літеру з інформації про кабіни. При цьому враховуються тільки записи з не нульовим значенням в стовпці \"Cabin\":\n",
    "dataset.loc[dataset[\"Cabin\"].notnull(), \"Deck_letter\"] = [i.split(\" \")[0][0] for i in dataset.loc[dataset[\"Cabin\"].notnull(), \"Cabin\"].tolist()]\n",
    "\n",
    "# Візуалізація розподілу літер кабін в залежності від класу пасажирів. \n",
    "# Гістограма демонструє, як літери кабін розподілені за різними класами:\n",
    "sns.histplot(data=dataset, x=\"Deck_letter\", hue=\"Pclass\", element=\"step\")\n",
    "plt.title(\"Letters in terms of Pclass\");"
   ]
  },
  {
   "cell_type": "code",
   "execution_count": 22,
   "id": "79fad462-7fd5-4cf1-9969-53155854a305",
   "metadata": {},
   "outputs": [
    {
     "data": {
      "text/html": [
       "<div>\n",
       "<style scoped>\n",
       "    .dataframe tbody tr th:only-of-type {\n",
       "        vertical-align: middle;\n",
       "    }\n",
       "\n",
       "    .dataframe tbody tr th {\n",
       "        vertical-align: top;\n",
       "    }\n",
       "\n",
       "    .dataframe thead th {\n",
       "        text-align: right;\n",
       "    }\n",
       "</style>\n",
       "<table border=\"1\" class=\"dataframe\">\n",
       "  <thead>\n",
       "    <tr style=\"text-align: right;\">\n",
       "      <th></th>\n",
       "      <th>PassengerId</th>\n",
       "      <th>Survived</th>\n",
       "      <th>Pclass</th>\n",
       "      <th>Name</th>\n",
       "      <th>Sex</th>\n",
       "      <th>Age</th>\n",
       "      <th>SibSp</th>\n",
       "      <th>Parch</th>\n",
       "      <th>Ticket</th>\n",
       "      <th>Fare</th>\n",
       "      <th>Cabin</th>\n",
       "      <th>Embarked</th>\n",
       "      <th>Family_Size</th>\n",
       "      <th>Family_Size_Grouped</th>\n",
       "      <th>AgeRounded</th>\n",
       "      <th>Ticket_Frequency</th>\n",
       "      <th>Title</th>\n",
       "      <th>Is_Married</th>\n",
       "      <th>Deck_letter</th>\n",
       "    </tr>\n",
       "  </thead>\n",
       "  <tbody>\n",
       "    <tr>\n",
       "      <th>339</th>\n",
       "      <td>340</td>\n",
       "      <td>0.0</td>\n",
       "      <td>1</td>\n",
       "      <td>Blackwell, Mr. Stephen Weart</td>\n",
       "      <td>male</td>\n",
       "      <td>45.0</td>\n",
       "      <td>0</td>\n",
       "      <td>0</td>\n",
       "      <td>113784</td>\n",
       "      <td>35.5</td>\n",
       "      <td>T</td>\n",
       "      <td>S</td>\n",
       "      <td>1</td>\n",
       "      <td>Alone</td>\n",
       "      <td>40</td>\n",
       "      <td>1</td>\n",
       "      <td>Mr</td>\n",
       "      <td>0</td>\n",
       "      <td>T</td>\n",
       "    </tr>\n",
       "  </tbody>\n",
       "</table>\n",
       "</div>"
      ],
      "text/plain": [
       "     PassengerId  Survived  Pclass                          Name   Sex   Age  \\\n",
       "339          340       0.0       1  Blackwell, Mr. Stephen Weart  male  45.0   \n",
       "\n",
       "     SibSp  Parch  Ticket  Fare Cabin Embarked  Family_Size  \\\n",
       "339      0      0  113784  35.5     T        S            1   \n",
       "\n",
       "    Family_Size_Grouped  AgeRounded  Ticket_Frequency Title  Is_Married  \\\n",
       "339               Alone          40                 1    Mr           0   \n",
       "\n",
       "    Deck_letter  \n",
       "339           T  "
      ]
     },
     "execution_count": 22,
     "metadata": {},
     "output_type": "execute_result"
    }
   ],
   "source": [
    "# Перевірка наявності літери \"T\" у кабінах і заміна її найбільш поширеною літерою, \"C\":\n",
    "dataset.loc[dataset[\"Deck_letter\"] == \"T\"]"
   ]
  },
  {
   "cell_type": "code",
   "execution_count": 23,
   "id": "1e06659a-aaea-4cb5-9f92-caf418b63f6c",
   "metadata": {},
   "outputs": [],
   "source": [
    "# replace it with most common\n",
    "dataset[\"Deck_letter\"] = dataset[\"Deck_letter\"].replace(\"T\", \"C\")"
   ]
  },
  {
   "cell_type": "code",
   "execution_count": 24,
   "id": "97d34fa2-e91d-4855-9e97-cb6a006d25e2",
   "metadata": {},
   "outputs": [
    {
     "data": {
      "text/plain": [
       "Text(0.5, 1.0, 'Letter values of test data ')"
      ]
     },
     "execution_count": 24,
     "metadata": {},
     "output_type": "execute_result"
    },
    {
     "data": {
      "image/png": "[encoded data removed]",
      "text/plain": [
       "<Figure size 1200x500 with 2 Axes>"
      ]
     },
     "metadata": {},
     "output_type": "display_data"
    }
   ],
   "source": [
    "# Графіки розподілу літер кабін для навчального та тестового датасетів з відображенням виживших та невиживших пасажирів:\n",
    "fig, axs = plt.subplots(nrows=1, ncols=2, figsize=(12, 5))\n",
    "\n",
    "# NOTE: useing train data\n",
    "sns.histplot(data=dataset.iloc[:891,], x=\"Deck_letter\", hue=\"Survived\", fill=False, ax=axs[0], bins=30)  \n",
    "axs[0].set_title(\"Letter values of train data by Survived Column\")\n",
    "\n",
    "# Create a box plot on the second subplot\n",
    "sns.histplot(x=\"Deck_letter\", data=dataset.iloc[891:,], ax=axs[1], bins=30)\n",
    "axs[1].set_title(\"Letter values of test data \")"
   ]
  },
  {
   "cell_type": "markdown",
   "id": "5c87cb36-503b-4206-9ec1-9e10e03fe6e5",
   "metadata": {},
   "source": [
    "All G Passengers died. It is probably that it has hierarchical system. I mean that A Passengers are more rich than others so the best locations on the ship are own by A Passengers.\n",
    "\n",
    "G Passengers has the worst place in ship so they probably could not run from being drowned."
   ]
  },
  {
   "cell_type": "code",
   "execution_count": 25,
   "id": "9bb85599-4d77-4832-8145-f1f03457ac2e",
   "metadata": {},
   "outputs": [],
   "source": [
    "# Заповнення пропущених значень в ознакі \"Deck_letter\" значенням \"U\" (Unknown) і видалення стовпця \"Cabin\":\n",
    "dataset[\"Deck_letter\"] = dataset[\"Deck_letter\"].fillna(\"U\")\n",
    "dataset.drop(\"Cabin\", axis=1, inplace=True)"
   ]
  },
  {
   "cell_type": "code",
   "execution_count": 26,
   "id": "c1bef932-7722-405e-be95-29dca2024a6a",
   "metadata": {},
   "outputs": [
    {
     "data": {
      "text/html": [
       "<div>\n",
       "<style scoped>\n",
       "    .dataframe tbody tr th:only-of-type {\n",
       "        vertical-align: middle;\n",
       "    }\n",
       "\n",
       "    .dataframe tbody tr th {\n",
       "        vertical-align: top;\n",
       "    }\n",
       "\n",
       "    .dataframe thead th {\n",
       "        text-align: right;\n",
       "    }\n",
       "</style>\n",
       "<table border=\"1\" class=\"dataframe\">\n",
       "  <thead>\n",
       "    <tr style=\"text-align: right;\">\n",
       "      <th></th>\n",
       "      <th>PassengerId</th>\n",
       "      <th>Survived</th>\n",
       "      <th>Pclass</th>\n",
       "      <th>Name</th>\n",
       "      <th>Sex</th>\n",
       "      <th>Age</th>\n",
       "      <th>SibSp</th>\n",
       "      <th>Parch</th>\n",
       "      <th>Ticket</th>\n",
       "      <th>Fare</th>\n",
       "      <th>Embarked</th>\n",
       "      <th>Family_Size</th>\n",
       "      <th>Family_Size_Grouped</th>\n",
       "      <th>AgeRounded</th>\n",
       "      <th>Ticket_Frequency</th>\n",
       "      <th>Title</th>\n",
       "      <th>Is_Married</th>\n",
       "      <th>Deck_letter</th>\n",
       "    </tr>\n",
       "  </thead>\n",
       "  <tbody>\n",
       "    <tr>\n",
       "      <th>0</th>\n",
       "      <td>1</td>\n",
       "      <td>0.0</td>\n",
       "      <td>3</td>\n",
       "      <td>Braund, Mr. Owen Harris</td>\n",
       "      <td>male</td>\n",
       "      <td>22.0</td>\n",
       "      <td>1</td>\n",
       "      <td>0</td>\n",
       "      <td>A/5 21171</td>\n",
       "      <td>7.2500</td>\n",
       "      <td>S</td>\n",
       "      <td>2</td>\n",
       "      <td>Small</td>\n",
       "      <td>20</td>\n",
       "      <td>1</td>\n",
       "      <td>Mr</td>\n",
       "      <td>0</td>\n",
       "      <td>U</td>\n",
       "    </tr>\n",
       "    <tr>\n",
       "      <th>1</th>\n",
       "      <td>2</td>\n",
       "      <td>1.0</td>\n",
       "      <td>1</td>\n",
       "      <td>Cumings, Mrs. John Bradley (Florence Briggs Th...</td>\n",
       "      <td>female</td>\n",
       "      <td>38.0</td>\n",
       "      <td>1</td>\n",
       "      <td>0</td>\n",
       "      <td>PC 17599</td>\n",
       "      <td>71.2833</td>\n",
       "      <td>C</td>\n",
       "      <td>2</td>\n",
       "      <td>Small</td>\n",
       "      <td>40</td>\n",
       "      <td>2</td>\n",
       "      <td>Mrs</td>\n",
       "      <td>1</td>\n",
       "      <td>C</td>\n",
       "    </tr>\n",
       "    <tr>\n",
       "      <th>2</th>\n",
       "      <td>3</td>\n",
       "      <td>1.0</td>\n",
       "      <td>3</td>\n",
       "      <td>Heikkinen, Miss. Laina</td>\n",
       "      <td>female</td>\n",
       "      <td>26.0</td>\n",
       "      <td>0</td>\n",
       "      <td>0</td>\n",
       "      <td>STON/O2. 3101282</td>\n",
       "      <td>7.9250</td>\n",
       "      <td>S</td>\n",
       "      <td>1</td>\n",
       "      <td>Alone</td>\n",
       "      <td>30</td>\n",
       "      <td>1</td>\n",
       "      <td>Miss</td>\n",
       "      <td>0</td>\n",
       "      <td>U</td>\n",
       "    </tr>\n",
       "    <tr>\n",
       "      <th>3</th>\n",
       "      <td>4</td>\n",
       "      <td>1.0</td>\n",
       "      <td>1</td>\n",
       "      <td>Futrelle, Mrs. Jacques Heath (Lily May Peel)</td>\n",
       "      <td>female</td>\n",
       "      <td>35.0</td>\n",
       "      <td>1</td>\n",
       "      <td>0</td>\n",
       "      <td>113803</td>\n",
       "      <td>53.1000</td>\n",
       "      <td>S</td>\n",
       "      <td>2</td>\n",
       "      <td>Small</td>\n",
       "      <td>40</td>\n",
       "      <td>2</td>\n",
       "      <td>Mrs</td>\n",
       "      <td>1</td>\n",
       "      <td>C</td>\n",
       "    </tr>\n",
       "    <tr>\n",
       "      <th>4</th>\n",
       "      <td>5</td>\n",
       "      <td>0.0</td>\n",
       "      <td>3</td>\n",
       "      <td>Allen, Mr. William Henry</td>\n",
       "      <td>male</td>\n",
       "      <td>35.0</td>\n",
       "      <td>0</td>\n",
       "      <td>0</td>\n",
       "      <td>373450</td>\n",
       "      <td>8.0500</td>\n",
       "      <td>S</td>\n",
       "      <td>1</td>\n",
       "      <td>Alone</td>\n",
       "      <td>40</td>\n",
       "      <td>1</td>\n",
       "      <td>Mr</td>\n",
       "      <td>0</td>\n",
       "      <td>U</td>\n",
       "    </tr>\n",
       "  </tbody>\n",
       "</table>\n",
       "</div>"
      ],
      "text/plain": [
       "   PassengerId  Survived  Pclass  \\\n",
       "0            1       0.0       3   \n",
       "1            2       1.0       1   \n",
       "2            3       1.0       3   \n",
       "3            4       1.0       1   \n",
       "4            5       0.0       3   \n",
       "\n",
       "                                                Name     Sex   Age  SibSp  \\\n",
       "0                            Braund, Mr. Owen Harris    male  22.0      1   \n",
       "1  Cumings, Mrs. John Bradley (Florence Briggs Th...  female  38.0      1   \n",
       "2                             Heikkinen, Miss. Laina  female  26.0      0   \n",
       "3       Futrelle, Mrs. Jacques Heath (Lily May Peel)  female  35.0      1   \n",
       "4                           Allen, Mr. William Henry    male  35.0      0   \n",
       "\n",
       "   Parch            Ticket     Fare Embarked  Family_Size Family_Size_Grouped  \\\n",
       "0      0         A/5 21171   7.2500        S            2               Small   \n",
       "1      0          PC 17599  71.2833        C            2               Small   \n",
       "2      0  STON/O2. 3101282   7.9250        S            1               Alone   \n",
       "3      0            113803  53.1000        S            2               Small   \n",
       "4      0            373450   8.0500        S            1               Alone   \n",
       "\n",
       "   AgeRounded  Ticket_Frequency Title  Is_Married Deck_letter  \n",
       "0          20                 1    Mr           0           U  \n",
       "1          40                 2   Mrs           1           C  \n",
       "2          30                 1  Miss           0           U  \n",
       "3          40                 2   Mrs           1           C  \n",
       "4          40                 1    Mr           0           U  "
      ]
     },
     "execution_count": 26,
     "metadata": {},
     "output_type": "execute_result"
    }
   ],
   "source": [
    "dataset.head()"
   ]
  },
  {
   "cell_type": "code",
   "execution_count": 27,
   "id": "a7b38ca3-463c-4f39-aa01-bda310b5b372",
   "metadata": {},
   "outputs": [],
   "source": [
    "# Заміна пропущених значень в ознакі \"Embarked\" на \"S\" (Southampton) та перевірка наявності дублікатів в датасеті:\n",
    "dataset[\"Embarked\"] = dataset[\"Embarked\"].fillna(\"S\")"
   ]
  },
  {
   "cell_type": "code",
   "execution_count": 28,
   "id": "506116b4-f2e9-4940-90ec-196229441530",
   "metadata": {},
   "outputs": [
    {
     "data": {
      "text/plain": [
       "PassengerId              0\n",
       "Survived               418\n",
       "Pclass                   0\n",
       "Name                     0\n",
       "Sex                      0\n",
       "Age                      0\n",
       "SibSp                    0\n",
       "Parch                    0\n",
       "Ticket                   0\n",
       "Fare                     0\n",
       "Embarked                 0\n",
       "Family_Size              0\n",
       "Family_Size_Grouped      0\n",
       "AgeRounded               0\n",
       "Ticket_Frequency         0\n",
       "Title                    0\n",
       "Is_Married               0\n",
       "Deck_letter              0\n",
       "dtype: int64"
      ]
     },
     "execution_count": 28,
     "metadata": {},
     "output_type": "execute_result"
    }
   ],
   "source": [
    "dataset.isnull().sum()"
   ]
  },
  {
   "cell_type": "code",
   "execution_count": 29,
   "id": "987a0e99-b428-4c57-ba79-dfc4bfa22427",
   "metadata": {},
   "outputs": [
    {
     "data": {
      "text/html": [
       "<div>\n",
       "<style scoped>\n",
       "    .dataframe tbody tr th:only-of-type {\n",
       "        vertical-align: middle;\n",
       "    }\n",
       "\n",
       "    .dataframe tbody tr th {\n",
       "        vertical-align: top;\n",
       "    }\n",
       "\n",
       "    .dataframe thead th {\n",
       "        text-align: right;\n",
       "    }\n",
       "</style>\n",
       "<table border=\"1\" class=\"dataframe\">\n",
       "  <thead>\n",
       "    <tr style=\"text-align: right;\">\n",
       "      <th></th>\n",
       "      <th>PassengerId</th>\n",
       "      <th>Survived</th>\n",
       "      <th>Pclass</th>\n",
       "      <th>Name</th>\n",
       "      <th>Sex</th>\n",
       "      <th>Age</th>\n",
       "      <th>SibSp</th>\n",
       "      <th>Parch</th>\n",
       "      <th>Ticket</th>\n",
       "      <th>Fare</th>\n",
       "      <th>Embarked</th>\n",
       "      <th>Family_Size</th>\n",
       "      <th>Family_Size_Grouped</th>\n",
       "      <th>AgeRounded</th>\n",
       "      <th>Ticket_Frequency</th>\n",
       "      <th>Title</th>\n",
       "      <th>Is_Married</th>\n",
       "      <th>Deck_letter</th>\n",
       "    </tr>\n",
       "  </thead>\n",
       "  <tbody>\n",
       "    <tr>\n",
       "      <th>891</th>\n",
       "      <td>892</td>\n",
       "      <td>NaN</td>\n",
       "      <td>3</td>\n",
       "      <td>Kelly, Mr. James</td>\n",
       "      <td>male</td>\n",
       "      <td>34.5</td>\n",
       "      <td>0</td>\n",
       "      <td>0</td>\n",
       "      <td>330911</td>\n",
       "      <td>7.8292</td>\n",
       "      <td>Q</td>\n",
       "      <td>1</td>\n",
       "      <td>Alone</td>\n",
       "      <td>30</td>\n",
       "      <td>1</td>\n",
       "      <td>Mr</td>\n",
       "      <td>0</td>\n",
       "      <td>U</td>\n",
       "    </tr>\n",
       "    <tr>\n",
       "      <th>897</th>\n",
       "      <td>898</td>\n",
       "      <td>NaN</td>\n",
       "      <td>3</td>\n",
       "      <td>Connolly, Miss. Kate</td>\n",
       "      <td>female</td>\n",
       "      <td>30.0</td>\n",
       "      <td>0</td>\n",
       "      <td>0</td>\n",
       "      <td>330972</td>\n",
       "      <td>7.6292</td>\n",
       "      <td>Q</td>\n",
       "      <td>1</td>\n",
       "      <td>Alone</td>\n",
       "      <td>30</td>\n",
       "      <td>1</td>\n",
       "      <td>Miss</td>\n",
       "      <td>0</td>\n",
       "      <td>U</td>\n",
       "    </tr>\n",
       "  </tbody>\n",
       "</table>\n",
       "</div>"
      ],
      "text/plain": [
       "     PassengerId  Survived  Pclass                  Name     Sex   Age  SibSp  \\\n",
       "891          892       NaN       3      Kelly, Mr. James    male  34.5      0   \n",
       "897          898       NaN       3  Connolly, Miss. Kate  female  30.0      0   \n",
       "\n",
       "     Parch  Ticket    Fare Embarked  Family_Size Family_Size_Grouped  \\\n",
       "891      0  330911  7.8292        Q            1               Alone   \n",
       "897      0  330972  7.6292        Q            1               Alone   \n",
       "\n",
       "     AgeRounded  Ticket_Frequency Title  Is_Married Deck_letter  \n",
       "891          30                 1    Mr           0           U  \n",
       "897          30                 1  Miss           0           U  "
      ]
     },
     "execution_count": 29,
     "metadata": {},
     "output_type": "execute_result"
    }
   ],
   "source": [
    "dataset[dataset.duplicated(subset=[\"Name\"])]"
   ]
  },
  {
   "cell_type": "code",
   "execution_count": 30,
   "id": "3c63ccbc-f46c-43eb-80be-df98352e6422",
   "metadata": {},
   "outputs": [
    {
     "data": {
      "text/html": [
       "<div>\n",
       "<style scoped>\n",
       "    .dataframe tbody tr th:only-of-type {\n",
       "        vertical-align: middle;\n",
       "    }\n",
       "\n",
       "    .dataframe tbody tr th {\n",
       "        vertical-align: top;\n",
       "    }\n",
       "\n",
       "    .dataframe thead th {\n",
       "        text-align: right;\n",
       "    }\n",
       "</style>\n",
       "<table border=\"1\" class=\"dataframe\">\n",
       "  <thead>\n",
       "    <tr style=\"text-align: right;\">\n",
       "      <th></th>\n",
       "      <th>PassengerId</th>\n",
       "      <th>Survived</th>\n",
       "      <th>Pclass</th>\n",
       "      <th>Name</th>\n",
       "      <th>Sex</th>\n",
       "      <th>Age</th>\n",
       "      <th>SibSp</th>\n",
       "      <th>Parch</th>\n",
       "      <th>Ticket</th>\n",
       "      <th>Fare</th>\n",
       "      <th>Embarked</th>\n",
       "      <th>Family_Size</th>\n",
       "      <th>Family_Size_Grouped</th>\n",
       "      <th>AgeRounded</th>\n",
       "      <th>Ticket_Frequency</th>\n",
       "      <th>Title</th>\n",
       "      <th>Is_Married</th>\n",
       "      <th>Deck_letter</th>\n",
       "    </tr>\n",
       "  </thead>\n",
       "  <tbody>\n",
       "    <tr>\n",
       "      <th>289</th>\n",
       "      <td>290</td>\n",
       "      <td>1.0</td>\n",
       "      <td>3</td>\n",
       "      <td>Connolly, Miss. Kate</td>\n",
       "      <td>female</td>\n",
       "      <td>22.0</td>\n",
       "      <td>0</td>\n",
       "      <td>0</td>\n",
       "      <td>370373</td>\n",
       "      <td>7.7500</td>\n",
       "      <td>Q</td>\n",
       "      <td>1</td>\n",
       "      <td>Alone</td>\n",
       "      <td>20</td>\n",
       "      <td>1</td>\n",
       "      <td>Miss</td>\n",
       "      <td>0</td>\n",
       "      <td>U</td>\n",
       "    </tr>\n",
       "    <tr>\n",
       "      <th>696</th>\n",
       "      <td>697</td>\n",
       "      <td>0.0</td>\n",
       "      <td>3</td>\n",
       "      <td>Kelly, Mr. James</td>\n",
       "      <td>male</td>\n",
       "      <td>44.0</td>\n",
       "      <td>0</td>\n",
       "      <td>0</td>\n",
       "      <td>363592</td>\n",
       "      <td>8.0500</td>\n",
       "      <td>S</td>\n",
       "      <td>1</td>\n",
       "      <td>Alone</td>\n",
       "      <td>40</td>\n",
       "      <td>1</td>\n",
       "      <td>Mr</td>\n",
       "      <td>0</td>\n",
       "      <td>U</td>\n",
       "    </tr>\n",
       "    <tr>\n",
       "      <th>891</th>\n",
       "      <td>892</td>\n",
       "      <td>NaN</td>\n",
       "      <td>3</td>\n",
       "      <td>Kelly, Mr. James</td>\n",
       "      <td>male</td>\n",
       "      <td>34.5</td>\n",
       "      <td>0</td>\n",
       "      <td>0</td>\n",
       "      <td>330911</td>\n",
       "      <td>7.8292</td>\n",
       "      <td>Q</td>\n",
       "      <td>1</td>\n",
       "      <td>Alone</td>\n",
       "      <td>30</td>\n",
       "      <td>1</td>\n",
       "      <td>Mr</td>\n",
       "      <td>0</td>\n",
       "      <td>U</td>\n",
       "    </tr>\n",
       "    <tr>\n",
       "      <th>897</th>\n",
       "      <td>898</td>\n",
       "      <td>NaN</td>\n",
       "      <td>3</td>\n",
       "      <td>Connolly, Miss. Kate</td>\n",
       "      <td>female</td>\n",
       "      <td>30.0</td>\n",
       "      <td>0</td>\n",
       "      <td>0</td>\n",
       "      <td>330972</td>\n",
       "      <td>7.6292</td>\n",
       "      <td>Q</td>\n",
       "      <td>1</td>\n",
       "      <td>Alone</td>\n",
       "      <td>30</td>\n",
       "      <td>1</td>\n",
       "      <td>Miss</td>\n",
       "      <td>0</td>\n",
       "      <td>U</td>\n",
       "    </tr>\n",
       "  </tbody>\n",
       "</table>\n",
       "</div>"
      ],
      "text/plain": [
       "     PassengerId  Survived  Pclass                  Name     Sex   Age  SibSp  \\\n",
       "289          290       1.0       3  Connolly, Miss. Kate  female  22.0      0   \n",
       "696          697       0.0       3      Kelly, Mr. James    male  44.0      0   \n",
       "891          892       NaN       3      Kelly, Mr. James    male  34.5      0   \n",
       "897          898       NaN       3  Connolly, Miss. Kate  female  30.0      0   \n",
       "\n",
       "     Parch  Ticket    Fare Embarked  Family_Size Family_Size_Grouped  \\\n",
       "289      0  370373  7.7500        Q            1               Alone   \n",
       "696      0  363592  8.0500        S            1               Alone   \n",
       "891      0  330911  7.8292        Q            1               Alone   \n",
       "897      0  330972  7.6292        Q            1               Alone   \n",
       "\n",
       "     AgeRounded  Ticket_Frequency Title  Is_Married Deck_letter  \n",
       "289          20                 1  Miss           0           U  \n",
       "696          40                 1    Mr           0           U  \n",
       "891          30                 1    Mr           0           U  \n",
       "897          30                 1  Miss           0           U  "
      ]
     },
     "execution_count": 30,
     "metadata": {},
     "output_type": "execute_result"
    }
   ],
   "source": [
    "# Вивід деяких записів, що містять однакові імена пасажирів:\n",
    "dataset[(dataset[\"Name\"] == \"Kelly, Mr. James\") | (dataset[\"Name\"] == \"Connolly, Miss. Kate\")]"
   ]
  },
  {
   "cell_type": "code",
   "execution_count": 31,
   "id": "edc003e2-4e22-4527-8680-164f057e7385",
   "metadata": {},
   "outputs": [
    {
     "data": {
      "text/html": [
       "<div>\n",
       "<style scoped>\n",
       "    .dataframe tbody tr th:only-of-type {\n",
       "        vertical-align: middle;\n",
       "    }\n",
       "\n",
       "    .dataframe tbody tr th {\n",
       "        vertical-align: top;\n",
       "    }\n",
       "\n",
       "    .dataframe thead th {\n",
       "        text-align: right;\n",
       "    }\n",
       "</style>\n",
       "<table border=\"1\" class=\"dataframe\">\n",
       "  <thead>\n",
       "    <tr style=\"text-align: right;\">\n",
       "      <th></th>\n",
       "      <th>Survived</th>\n",
       "      <th>Pclass</th>\n",
       "      <th>Age</th>\n",
       "      <th>SibSp</th>\n",
       "      <th>Parch</th>\n",
       "      <th>Fare</th>\n",
       "      <th>Family_Size</th>\n",
       "      <th>AgeRounded</th>\n",
       "      <th>Ticket_Frequency</th>\n",
       "      <th>Is_Married</th>\n",
       "      <th>Sex_male</th>\n",
       "      <th>Embarked_Q</th>\n",
       "      <th>Embarked_S</th>\n",
       "      <th>Family_Size_Grouped_Large</th>\n",
       "      <th>Family_Size_Grouped_Medium</th>\n",
       "      <th>Family_Size_Grouped_Small</th>\n",
       "    </tr>\n",
       "  </thead>\n",
       "  <tbody>\n",
       "    <tr>\n",
       "      <th>0</th>\n",
       "      <td>0.0</td>\n",
       "      <td>3</td>\n",
       "      <td>22.0</td>\n",
       "      <td>1</td>\n",
       "      <td>0</td>\n",
       "      <td>7.2500</td>\n",
       "      <td>2</td>\n",
       "      <td>20</td>\n",
       "      <td>1</td>\n",
       "      <td>0</td>\n",
       "      <td>1</td>\n",
       "      <td>0</td>\n",
       "      <td>1</td>\n",
       "      <td>0</td>\n",
       "      <td>0</td>\n",
       "      <td>1</td>\n",
       "    </tr>\n",
       "    <tr>\n",
       "      <th>1</th>\n",
       "      <td>1.0</td>\n",
       "      <td>1</td>\n",
       "      <td>38.0</td>\n",
       "      <td>1</td>\n",
       "      <td>0</td>\n",
       "      <td>71.2833</td>\n",
       "      <td>2</td>\n",
       "      <td>40</td>\n",
       "      <td>2</td>\n",
       "      <td>1</td>\n",
       "      <td>0</td>\n",
       "      <td>0</td>\n",
       "      <td>0</td>\n",
       "      <td>0</td>\n",
       "      <td>0</td>\n",
       "      <td>1</td>\n",
       "    </tr>\n",
       "    <tr>\n",
       "      <th>2</th>\n",
       "      <td>1.0</td>\n",
       "      <td>3</td>\n",
       "      <td>26.0</td>\n",
       "      <td>0</td>\n",
       "      <td>0</td>\n",
       "      <td>7.9250</td>\n",
       "      <td>1</td>\n",
       "      <td>30</td>\n",
       "      <td>1</td>\n",
       "      <td>0</td>\n",
       "      <td>0</td>\n",
       "      <td>0</td>\n",
       "      <td>1</td>\n",
       "      <td>0</td>\n",
       "      <td>0</td>\n",
       "      <td>0</td>\n",
       "    </tr>\n",
       "    <tr>\n",
       "      <th>3</th>\n",
       "      <td>1.0</td>\n",
       "      <td>1</td>\n",
       "      <td>35.0</td>\n",
       "      <td>1</td>\n",
       "      <td>0</td>\n",
       "      <td>53.1000</td>\n",
       "      <td>2</td>\n",
       "      <td>40</td>\n",
       "      <td>2</td>\n",
       "      <td>1</td>\n",
       "      <td>0</td>\n",
       "      <td>0</td>\n",
       "      <td>1</td>\n",
       "      <td>0</td>\n",
       "      <td>0</td>\n",
       "      <td>1</td>\n",
       "    </tr>\n",
       "    <tr>\n",
       "      <th>4</th>\n",
       "      <td>0.0</td>\n",
       "      <td>3</td>\n",
       "      <td>35.0</td>\n",
       "      <td>0</td>\n",
       "      <td>0</td>\n",
       "      <td>8.0500</td>\n",
       "      <td>1</td>\n",
       "      <td>40</td>\n",
       "      <td>1</td>\n",
       "      <td>0</td>\n",
       "      <td>1</td>\n",
       "      <td>0</td>\n",
       "      <td>1</td>\n",
       "      <td>0</td>\n",
       "      <td>0</td>\n",
       "      <td>0</td>\n",
       "    </tr>\n",
       "  </tbody>\n",
       "</table>\n",
       "</div>"
      ],
      "text/plain": [
       "   Survived  Pclass   Age  SibSp  Parch     Fare  Family_Size  AgeRounded  \\\n",
       "0       0.0       3  22.0      1      0   7.2500            2          20   \n",
       "1       1.0       1  38.0      1      0  71.2833            2          40   \n",
       "2       1.0       3  26.0      0      0   7.9250            1          30   \n",
       "3       1.0       1  35.0      1      0  53.1000            2          40   \n",
       "4       0.0       3  35.0      0      0   8.0500            1          40   \n",
       "\n",
       "   Ticket_Frequency  Is_Married  Sex_male  Embarked_Q  Embarked_S  \\\n",
       "0                 1           0         1           0           1   \n",
       "1                 2           1         0           0           0   \n",
       "2                 1           0         0           0           1   \n",
       "3                 2           1         0           0           1   \n",
       "4                 1           0         1           0           1   \n",
       "\n",
       "   Family_Size_Grouped_Large  Family_Size_Grouped_Medium  \\\n",
       "0                          0                           0   \n",
       "1                          0                           0   \n",
       "2                          0                           0   \n",
       "3                          0                           0   \n",
       "4                          0                           0   \n",
       "\n",
       "   Family_Size_Grouped_Small  \n",
       "0                          1  \n",
       "1                          1  \n",
       "2                          0  \n",
       "3                          1  \n",
       "4                          0  "
      ]
     },
     "execution_count": 31,
     "metadata": {},
     "output_type": "execute_result"
    }
   ],
   "source": [
    "# Підготовка остаточного обробленого датасету processed_dataset, \n",
    "# який включає в себе кодування категоріальних ознак та видалення непотрібних ознак:\n",
    "processed_dataset = dataset.drop(columns=[\"Name\", \"Title\", \"PassengerId\", \"Ticket\", \"Deck_letter\"])\n",
    "processed_dataset = pd.get_dummies(processed_dataset, drop_first=True)\n",
    "for col in processed_dataset.columns[processed_dataset.dtypes == \"bool\"]:\n",
    "    processed_dataset[col] = processed_dataset[col].astype(int)\n",
    "processed_dataset.head()"
   ]
  },
  {
   "cell_type": "code",
   "execution_count": 32,
   "id": "7b064a7a-1450-47a8-9858-1fc6069d0c5d",
   "metadata": {},
   "outputs": [
    {
     "name": "stdout",
     "output_type": "stream",
     "text": [
      "(891, 16) (418, 16)\n"
     ]
    }
   ],
   "source": [
    "# Розділення датасету на навчальну та тестову вибірки:\n",
    "train = processed_dataset.loc[processed_dataset[\"Survived\"].notnull(), :]\n",
    "test = processed_dataset.loc[processed_dataset[\"Survived\"].isnull(), :]\n",
    "\n",
    "print(train.shape, test.shape)"
   ]
  },
  {
   "cell_type": "code",
   "execution_count": 33,
   "id": "c1c45b66-b78e-4ffd-8342-85b9fdcd55ac",
   "metadata": {},
   "outputs": [
    {
     "data": {
      "text/plain": [
       "['Pclass',\n",
       " 'Age',\n",
       " 'SibSp',\n",
       " 'Parch',\n",
       " 'Fare',\n",
       " 'Family_Size',\n",
       " 'AgeRounded',\n",
       " 'Ticket_Frequency',\n",
       " 'Is_Married',\n",
       " 'Sex_male',\n",
       " 'Embarked_Q',\n",
       " 'Embarked_S',\n",
       " 'Family_Size_Grouped_Large',\n",
       " 'Family_Size_Grouped_Medium',\n",
       " 'Family_Size_Grouped_Small']"
      ]
     },
     "execution_count": 33,
     "metadata": {},
     "output_type": "execute_result"
    }
   ],
   "source": [
    "# Визначення ознак для тренування моделі:\n",
    "training_features = [col for col in train.columns if col != target_feature]\n",
    "training_features"
   ]
  },
  {
   "cell_type": "code",
   "execution_count": 34,
   "id": "6130cc67-fb95-49fd-ba70-55c25150da80",
   "metadata": {},
   "outputs": [
    {
     "data": {
      "text/plain": [
       "((891, 15), (891,))"
      ]
     },
     "execution_count": 34,
     "metadata": {},
     "output_type": "execute_result"
    }
   ],
   "source": [
    "# Створення масивів X та y для тренування моделі та масиву X_test для тестування моделі:\n",
    "X = train[training_features].values\n",
    "y = train[target_feature].values\n",
    "\n",
    "X.shape, y.shape"
   ]
  },
  {
   "cell_type": "code",
   "execution_count": 35,
   "id": "f290acae-94fb-491b-b3d2-3e14c331de54",
   "metadata": {},
   "outputs": [],
   "source": [
    "X_test = test[training_features].values"
   ]
  },
  {
   "cell_type": "markdown",
   "id": "850c840c",
   "metadata": {},
   "source": [
    "Цей код виконує останні операції підготовки даних для моделювання та передбачення виживання пасажирів на Титаніку."
   ]
  },
  {
   "cell_type": "markdown",
   "id": "2074a4a0",
   "metadata": {},
   "source": [
    "\n",
    "***StratifiedKFold*** - це метод перехресної перевірки (cross-validation) в машинному навчанні, який комбінує стратифікацію з K-fold перехресною перевіркою для кращої оцінки моделей, особливо в тих випадках, коли у вас є набір даних з нерівномірною розподіленістю класів."
   ]
  },
  {
   "cell_type": "code",
   "execution_count": 36,
   "id": "7bb72cd1-75b9-403e-907f-d5ec6acff222",
   "metadata": {},
   "outputs": [
    {
     "name": "stdout",
     "output_type": "stream",
     "text": [
      "Fold 1/5\n",
      "  Accuracy: 0.8100558659217877\n",
      "Fold 2/5\n"
     ]
    },
    {
     "name": "stderr",
     "output_type": "stream",
     "text": [
      "/Users/dimdoroshenko/miniconda3/envs/hillel/lib/python3.9/site-packages/sklearn/model_selection/_split.py:725: UserWarning: The least populated class in y has only 2 members, which is less than n_splits=5.\n",
      "  warnings.warn(\n"
     ]
    },
    {
     "name": "stdout",
     "output_type": "stream",
     "text": [
      "  Accuracy: 0.8258426966292135\n",
      "Fold 3/5\n",
      "  Accuracy: 0.8089887640449438\n",
      "Fold 4/5\n",
      "  Accuracy: 0.7921348314606742\n",
      "Fold 5/5\n",
      "  Accuracy: 0.8370786516853933\n",
      "\n",
      "Score estimation: 0.8148201619484026 +- 0.015415995417984149\n"
     ]
    }
   ],
   "source": [
    "# Створення змінної \"stratification\", яка буде використовуватися для стратифікованого розбиття навчального датасету на фолди.\n",
    "# Ця змінна об'єднує інформацію про цільову змінну, стать пасажира та літеру кабіни для навчального датасету:\n",
    "stratification = (\n",
    "    train[target_feature].astype(str) + \"_\" +\n",
    "    # dataset.loc[dataset[\"Survived\"].notnull(), \"Sex\"] + \"_\" +\n",
    "    dataset.loc[dataset[\"Survived\"].notnull(), \"Deck_letter\"]\n",
    ")\n",
    "\n",
    "# Ініціалізація змінних scores та oof_predictions для зберігання результатів оцінки моделі та прогнозів на тестовому наборі даних, а також визначення кількості фолдів:\n",
    "scores = []\n",
    "oof_predictions = []\n",
    "n_folds = 5\n",
    "\n",
    "# Запуск циклу для кожного фолду в стратифікованому навчальному датасеті з використанням StratifiedKFold. Для кожного фолду відбувається наступне:\n",
    "# Розділення даних на тренувальний та валідаційний набори.\n",
    "# Ініціалізація та навчання моделі LogisticRegression на тренувальних даних.\n",
    "# Здійснення передбачень на валідаційних даних та обчислення точності (accuracy) передбачень.\n",
    "# Зберігання точності в списку scores.\n",
    "# Здійснення передбачень моделі на тестовому наборі даних та зберігання їх в oof_predictions.\n",
    "for f_idx, (t_idx, v_idx) in enumerate(StratifiedKFold(n_splits=n_folds, shuffle=True, random_state=42).split(X, stratification)):\n",
    "    print(f\"Fold {f_idx+1}/{n_folds}\")\n",
    "\n",
    "    x_train = X[t_idx]\n",
    "    y_train = y[t_idx]\n",
    "\n",
    "    x_valid = X[v_idx]\n",
    "    y_valid = y[v_idx]\n",
    "    \n",
    "    model = LogisticRegression(max_iter=10_000).fit(x_train, y_train)\n",
    "    y_preds = model.predict(x_valid)\n",
    "    val_score = np.mean(y_preds == y_valid)\n",
    "    print(\"  Accuracy:\", val_score)\n",
    "    scores.append(val_score)\n",
    "\n",
    "    oof_predictions.append(model.predict_proba(X_test))\n",
    "\n",
    "# Виведення середнього значення точності (accuracy) та стандартного відхилення точності для всіх фолдів:\n",
    "print(\"\\nScore estimation:\", np.mean(scores), \"+-\", np.std(scores))"
   ]
  },
  {
   "cell_type": "markdown",
   "id": "f454cb4b",
   "metadata": {},
   "source": [
    "Цей код виконує крос-валідацію для моделі LogisticRegression з використанням стратифікації та обчислює середню точність для оцінки якості моделі на навчальному наборі даних."
   ]
  },
  {
   "cell_type": "code",
   "execution_count": 37,
   "id": "8d42a31e-57ee-49d4-baa4-ff1876fb9429",
   "metadata": {},
   "outputs": [],
   "source": [
    "submission_df = dataset.loc[dataset[\"Survived\"].isnull(), [\"PassengerId\"]]\n",
    "submission_df[target_feature] = np.array(oof_predictions).mean(0).argmax(1)  # [folds, N, 2] -> [N, 2] -> [N\n",
    "submission_df.to_csv(\"submission.csv\", index=False)"
   ]
  },
  {
   "cell_type": "code",
   "execution_count": 38,
   "id": "51c3af59-d358-479f-a924-b292b5605ed7",
   "metadata": {},
   "outputs": [
    {
     "data": {
      "text/html": [
       "<div>\n",
       "<style scoped>\n",
       "    .dataframe tbody tr th:only-of-type {\n",
       "        vertical-align: middle;\n",
       "    }\n",
       "\n",
       "    .dataframe tbody tr th {\n",
       "        vertical-align: top;\n",
       "    }\n",
       "\n",
       "    .dataframe thead th {\n",
       "        text-align: right;\n",
       "    }\n",
       "</style>\n",
       "<table border=\"1\" class=\"dataframe\">\n",
       "  <thead>\n",
       "    <tr style=\"text-align: right;\">\n",
       "      <th></th>\n",
       "      <th>PassengerId</th>\n",
       "      <th>Survived</th>\n",
       "    </tr>\n",
       "  </thead>\n",
       "  <tbody>\n",
       "    <tr>\n",
       "      <th>891</th>\n",
       "      <td>892</td>\n",
       "      <td>0</td>\n",
       "    </tr>\n",
       "    <tr>\n",
       "      <th>897</th>\n",
       "      <td>898</td>\n",
       "      <td>1</td>\n",
       "    </tr>\n",
       "  </tbody>\n",
       "</table>\n",
       "</div>"
      ],
      "text/plain": [
       "     PassengerId  Survived\n",
       "891          892         0\n",
       "897          898         1"
      ]
     },
     "execution_count": 38,
     "metadata": {},
     "output_type": "execute_result"
    }
   ],
   "source": [
    "submission_df[submission_df[\"PassengerId\"].isin([892, 898])]"
   ]
  },
  {
   "cell_type": "code",
   "execution_count": 39,
   "id": "326656b6-0bee-4793-89da-c8073ef5996d",
   "metadata": {},
   "outputs": [],
   "source": [
    "# # Kelly, Mr. James\n",
    "# submission_df.loc[submission_df[\"PassengerId\"] == 892, target_feature] = 0\n",
    "# # Connolly, Miss. Kate\n",
    "# submission_df.loc[submission_df[\"PassengerId\"] == 898, target_feature] = 1\n",
    "# submission_df.to_csv(\"submission_leak.csv\", index=False)"
   ]
  },
  {
   "cell_type": "code",
   "execution_count": 40,
   "id": "6d54a5c5-3524-4e9b-bd68-51f5cd9aaf0b",
   "metadata": {},
   "outputs": [],
   "source": [
    "# model = LogisticRegression(max_iter=10_000).fit(X, y)\n",
    "# submission_df = dataset.loc[dataset[\"Survived\"].isnull(), [\"PassengerId\"]]\n",
    "# submission_df[target_feature] = model.predict(X_test).astype(int)\n",
    "# submission_df.to_csv(\"submission_whole_dataset.csv\", index=False)"
   ]
  },
  {
   "cell_type": "code",
   "execution_count": null,
   "id": "f0490b9d-edab-43f2-b1b0-5ea1c5852dab",
   "metadata": {},
   "outputs": [],
   "source": []
  }
 ],
 "metadata": {
  "kernelspec": {
   "display_name": "Python 3 (ipykernel)",
   "language": "python",
   "name": "python3"
  },
  "language_info": {
   "codemirror_mode": {
    "name": "ipython",
    "version": 3
   },
   "file_extension": ".py",
   "mimetype": "text/x-python",
   "name": "python",
   "nbconvert_exporter": "python",
   "pygments_lexer": "ipython3",
   "version": "3.9.17"
  }
 },
 "nbformat": 4,
 "nbformat_minor": 5
}
