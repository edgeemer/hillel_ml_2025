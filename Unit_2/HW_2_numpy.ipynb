{
  "cells": [
    {
      "cell_type": "markdown",
      "metadata": {
        "id": "view-in-github",
        "colab_type": "text"
      },
      "source": [
        "<a href=\"https://colab.research.google.com/github/edgeemer/hillel_ml_2025/blob/main/Unit_2/HW_2_numpy.ipynb\" target=\"_parent\"><img src=\"https://colab.research.google.com/assets/colab-badge.svg\" alt=\"Open In Colab\"/></a>"
      ]
    },
    {
      "cell_type": "markdown",
      "id": "4994016c-d318-4577-b968-281d793fb989",
      "metadata": {
        "id": "4994016c-d318-4577-b968-281d793fb989"
      },
      "source": [
        "Для успішного виконання домашки використовуйте документацію [NumPy](https://numpy.org/doc/stable/).\n",
        "\n",
        "Зверніть увагу на такі методи `numpy`:\n",
        "* *arange*\n",
        "* *zeros*\n",
        "* *ones*\n",
        "* *full*\n",
        "* *nonzero*\n",
        "* *eye*\n",
        "* *random*\n",
        "* *sort*\n",
        "* *sum*\n",
        "* *min*\n",
        "* *mean*"
      ]
    },
    {
      "cell_type": "code",
      "execution_count": 52,
      "id": "46a34168-40d8-472c-af42-1c9e74f27782",
      "metadata": {
        "id": "46a34168-40d8-472c-af42-1c9e74f27782"
      },
      "outputs": [],
      "source": [
        "import numpy as np\n",
        "from copy import deepcopy"
      ]
    },
    {
      "cell_type": "code",
      "execution_count": 6,
      "id": "9eae0577-c5b9-4b45-a841-fb7e0cd46ae2",
      "metadata": {
        "id": "9eae0577-c5b9-4b45-a841-fb7e0cd46ae2",
        "outputId": "5fc55581-5fcd-4d70-979e-8e0f6034dfaa",
        "colab": {
          "base_uri": "https://localhost:8080/"
        }
      },
      "outputs": [
        {
          "output_type": "execute_result",
          "data": {
            "text/plain": [
              "array([[0, 1, 2],\n",
              "       [3, 4, 5],\n",
              "       [6, 7, 8]])"
            ]
          },
          "metadata": {},
          "execution_count": 6
        }
      ],
      "source": [
        "# Завдання 1: Створити масив розміром 3x3 зі значеннями від 0 до 8\n",
        "# Hints: np.arange\n",
        "arr1 = np.arange(9).reshape(3, 3)\n",
        "arr1"
      ]
    },
    {
      "cell_type": "code",
      "execution_count": 10,
      "id": "c4442a60-f6f3-48e4-8a9e-0aa2a4c08acb",
      "metadata": {
        "id": "c4442a60-f6f3-48e4-8a9e-0aa2a4c08acb",
        "outputId": "7a096383-44d2-455d-b1f3-5ed3ec8d1b75",
        "colab": {
          "base_uri": "https://localhost:8080/"
        }
      },
      "outputs": [
        {
          "output_type": "execute_result",
          "data": {
            "text/plain": [
              "array([0., 0., 0., 0., 0., 0., 0., 0., 0., 0.])"
            ]
          },
          "metadata": {},
          "execution_count": 10
        }
      ],
      "source": [
        "# Завдання 2: Створити вектор розміром 10, заповнений нулями\n",
        "arr2 = np.zeros(10)\n",
        "arr2"
      ]
    },
    {
      "cell_type": "code",
      "execution_count": 11,
      "id": "35b875ff-292f-4f80-ab04-9a2d8307d33a",
      "metadata": {
        "id": "35b875ff-292f-4f80-ab04-9a2d8307d33a",
        "outputId": "c01399af-400c-438d-ddfb-e9a631df4376",
        "colab": {
          "base_uri": "https://localhost:8080/"
        }
      },
      "outputs": [
        {
          "output_type": "execute_result",
          "data": {
            "text/plain": [
              "array([1., 1., 1., 1., 1., 1., 1., 1., 1., 1.])"
            ]
          },
          "metadata": {},
          "execution_count": 11
        }
      ],
      "source": [
        "# Завдання 3: Створити вектор розміром 10, заповнений одиницями\n",
        "arr3 = np.ones(10)\n",
        "arr3"
      ]
    },
    {
      "cell_type": "code",
      "execution_count": 12,
      "id": "1b6bffbb-5dea-4885-8ceb-5164811db29c",
      "metadata": {
        "id": "1b6bffbb-5dea-4885-8ceb-5164811db29c",
        "outputId": "bf3d0e67-c3ac-4daf-cc45-5ccd64eff476",
        "colab": {
          "base_uri": "https://localhost:8080/"
        }
      },
      "outputs": [
        {
          "output_type": "execute_result",
          "data": {
            "text/plain": [
              "array([5, 5, 5, 5, 5, 5, 5, 5, 5, 5])"
            ]
          },
          "metadata": {},
          "execution_count": 12
        }
      ],
      "source": [
        "# Завдання 4: Створити вектор розміром 10, заповнений значеннями 5\n",
        "# Hints: np.full\n",
        "arr4 = np.full(10, 5)\n",
        "arr4"
      ]
    },
    {
      "cell_type": "code",
      "execution_count": 14,
      "id": "1f62466c-2660-4f70-8399-27fab4d197b1",
      "metadata": {
        "id": "1f62466c-2660-4f70-8399-27fab4d197b1",
        "outputId": "6b5c5f9d-d7be-4fbc-b1d5-cde0b7cbdc16",
        "colab": {
          "base_uri": "https://localhost:8080/"
        }
      },
      "outputs": [
        {
          "output_type": "execute_result",
          "data": {
            "text/plain": [
              "array([10, 11, 12, 13, 14, 15, 16, 17, 18, 19, 20, 21, 22, 23, 24, 25, 26,\n",
              "       27, 28, 29, 30, 31, 32, 33, 34, 35, 36, 37, 38, 39, 40, 41, 42, 43,\n",
              "       44, 45, 46, 47, 48, 49])"
            ]
          },
          "metadata": {},
          "execution_count": 14
        }
      ],
      "source": [
        "# Завдання 5: Створити вектор з числами від 10 до 49\n",
        "arr5 = np.arange(10, 50)\n",
        "arr5"
      ]
    },
    {
      "cell_type": "code",
      "execution_count": 16,
      "id": "e673b144-0eae-4e48-9e80-358da5b39783",
      "metadata": {
        "id": "e673b144-0eae-4e48-9e80-358da5b39783",
        "outputId": "dc89e256-698f-4120-cc9a-d325a22afed0",
        "colab": {
          "base_uri": "https://localhost:8080/"
        }
      },
      "outputs": [
        {
          "output_type": "execute_result",
          "data": {
            "text/plain": [
              "array([49, 48, 47, 46, 45, 44, 43, 42, 41, 40, 39, 38, 37, 36, 35, 34, 33,\n",
              "       32, 31, 30, 29, 28, 27, 26, 25, 24, 23, 22, 21, 20, 19, 18, 17, 16,\n",
              "       15, 14, 13, 12, 11, 10])"
            ]
          },
          "metadata": {},
          "execution_count": 16
        }
      ],
      "source": [
        "# Завдання 6: Реверсувати порядок елементів вектора з завдання 5\n",
        "arr6 = arr5[::-1]\n",
        "arr6"
      ]
    },
    {
      "cell_type": "code",
      "execution_count": 17,
      "id": "f5fdce9b-3003-4560-b488-1bb8af2c0551",
      "metadata": {
        "id": "f5fdce9b-3003-4560-b488-1bb8af2c0551",
        "outputId": "bc98c748-e0df-4901-bb8d-7eafa8fcf93d",
        "colab": {
          "base_uri": "https://localhost:8080/"
        }
      },
      "outputs": [
        {
          "output_type": "execute_result",
          "data": {
            "text/plain": [
              "array([[ 0,  1,  2,  3,  4,  5,  6,  7,  8],\n",
              "       [ 9, 10, 11, 12, 13, 14, 15, 16, 17],\n",
              "       [18, 19, 20, 21, 22, 23, 24, 25, 26],\n",
              "       [27, 28, 29, 30, 31, 32, 33, 34, 35],\n",
              "       [36, 37, 38, 39, 40, 41, 42, 43, 44],\n",
              "       [45, 46, 47, 48, 49, 50, 51, 52, 53],\n",
              "       [54, 55, 56, 57, 58, 59, 60, 61, 62],\n",
              "       [63, 64, 65, 66, 67, 68, 69, 70, 71],\n",
              "       [72, 73, 74, 75, 76, 77, 78, 79, 80]])"
            ]
          },
          "metadata": {},
          "execution_count": 17
        }
      ],
      "source": [
        "# Завдання 7: Створити 9x9 матрицю зі значеннями від 0 до 80\n",
        "# Hints: np.arange\n",
        "arr7 = np.arange(0,81).reshape(9,9)\n",
        "arr7"
      ]
    },
    {
      "cell_type": "code",
      "execution_count": 23,
      "id": "c5aa5564-5ea6-414d-bf70-92d1b2dbe3da",
      "metadata": {
        "id": "c5aa5564-5ea6-414d-bf70-92d1b2dbe3da",
        "outputId": "9331a9d5-64b5-4cb5-c2ef-4cf1da7148dc",
        "colab": {
          "base_uri": "https://localhost:8080/"
        }
      },
      "outputs": [
        {
          "output_type": "execute_result",
          "data": {
            "text/plain": [
              "(array([0, 1, 4]),)"
            ]
          },
          "metadata": {},
          "execution_count": 23
        }
      ],
      "source": [
        "# Завдання 8: Знайти індекси ненульових елементів вектора [1,2,0,0,4,0]\n",
        "# Hints: np.nonzero\n",
        "arr8 = np.nonzero([1,2,0,0,4,0])\n",
        "arr8"
      ]
    },
    {
      "cell_type": "code",
      "execution_count": 28,
      "id": "d4b551a0-8ac8-4d4f-ae9a-f8c89388edc2",
      "metadata": {
        "id": "d4b551a0-8ac8-4d4f-ae9a-f8c89388edc2",
        "outputId": "a3cad65f-7a24-49ab-9abf-cb9539607a7e",
        "colab": {
          "base_uri": "https://localhost:8080/"
        }
      },
      "outputs": [
        {
          "output_type": "execute_result",
          "data": {
            "text/plain": [
              "array([[1., 0., 0.],\n",
              "       [0., 1., 0.],\n",
              "       [0., 0., 1.]])"
            ]
          },
          "metadata": {},
          "execution_count": 28
        }
      ],
      "source": [
        "# Завдання 9: Створити одиничну матрицю розміром 3x3\n",
        "# Hints: np.eye\n",
        "arr9 = np.eye(3)\n",
        "arr9"
      ]
    },
    {
      "cell_type": "code",
      "execution_count": 31,
      "id": "5b65802f-0a76-4b21-8984-d15847ab8929",
      "metadata": {
        "id": "5b65802f-0a76-4b21-8984-d15847ab8929",
        "outputId": "61d120f2-67e2-4f8a-d8e5-de8a76120b4c",
        "colab": {
          "base_uri": "https://localhost:8080/"
        }
      },
      "outputs": [
        {
          "output_type": "execute_result",
          "data": {
            "text/plain": [
              "array([0.16544047, 0.18264571, 0.21193772, 0.34184904, 0.36583903,\n",
              "       0.37851019, 0.42825449, 0.56256826, 0.60724738, 0.94506596])"
            ]
          },
          "metadata": {},
          "execution_count": 31
        }
      ],
      "source": [
        "# Завдання 10: Створити випадковий вектор розміром 10 та відсортувати його\n",
        "arr10 = np.random.rand(10)\n",
        "arr10_sorted = np.sort(arr10)\n",
        "arr10\n",
        "arr10_sorted"
      ]
    },
    {
      "cell_type": "code",
      "execution_count": 32,
      "id": "522934ef-c4f2-4960-b174-34f60b5b570c",
      "metadata": {
        "id": "522934ef-c4f2-4960-b174-34f60b5b570c",
        "outputId": "3b64d653-c265-4cca-ab2f-1b2cb2dab11b",
        "colab": {
          "base_uri": "https://localhost:8080/"
        }
      },
      "outputs": [
        {
          "output_type": "execute_result",
          "data": {
            "text/plain": [
              "array([[7, 7, 8, 6, 1],\n",
              "       [5, 5, 9, 0, 8],\n",
              "       [2, 5, 1, 2, 3],\n",
              "       [1, 8, 5, 0, 8],\n",
              "       [2, 0, 7, 3, 5]])"
            ]
          },
          "metadata": {},
          "execution_count": 32
        }
      ],
      "source": [
        "# Завдання 11: Створити матрицю 5x5 з випадковими цілими числами в діапазоні від 0 до 10\n",
        "arr11 = np.random.randint(0, 11, size=(5, 5))\n",
        "arr11"
      ]
    },
    {
      "cell_type": "code",
      "execution_count": 33,
      "id": "5e199784-9d2e-4b5c-a588-a83badcc1367",
      "metadata": {
        "id": "5e199784-9d2e-4b5c-a588-a83badcc1367",
        "outputId": "dbf9dacc-1f67-4572-f365-aa96604704d8",
        "colab": {
          "base_uri": "https://localhost:8080/"
        }
      },
      "outputs": [
        {
          "output_type": "execute_result",
          "data": {
            "text/plain": [
              "108"
            ]
          },
          "metadata": {},
          "execution_count": 33
        }
      ],
      "source": [
        "# Завдання 12: Обчислити суму всіх елементів матриці з завдання 11\n",
        "arr11_sum = np.sum(arr11)\n",
        "arr11_sum"
      ]
    },
    {
      "cell_type": "code",
      "execution_count": 34,
      "id": "9ef6bc2e-fb32-4e3c-84bd-e3898bfe9cd7",
      "metadata": {
        "id": "9ef6bc2e-fb32-4e3c-84bd-e3898bfe9cd7",
        "outputId": "63442dd7-e4e6-4a69-8347-e29f29ed21bc",
        "colab": {
          "base_uri": "https://localhost:8080/"
        }
      },
      "outputs": [
        {
          "output_type": "execute_result",
          "data": {
            "text/plain": [
              "array([1, 0, 1, 0, 0])"
            ]
          },
          "metadata": {},
          "execution_count": 34
        }
      ],
      "source": [
        "# Завдання 13: Знайти найменше значення в кожному рядку матриці з завдання 11\n",
        "arr11_min_row = np.min(arr11,axis=1)\n",
        "arr11_min_row"
      ]
    },
    {
      "cell_type": "code",
      "execution_count": 35,
      "id": "8236b838-8cb3-4adc-82d1-121b29701bee",
      "metadata": {
        "id": "8236b838-8cb3-4adc-82d1-121b29701bee",
        "outputId": "7338b86e-bd96-4de6-f611-3a121d35fe3e",
        "colab": {
          "base_uri": "https://localhost:8080/"
        }
      },
      "outputs": [
        {
          "output_type": "execute_result",
          "data": {
            "text/plain": [
              "array([3.4, 5. , 6. , 2.2, 5. ])"
            ]
          },
          "metadata": {},
          "execution_count": 35
        }
      ],
      "source": [
        "# Завдання 14: Обчислити середнє значення кожного стовпця матриці з завдання 11\n",
        "arr11_mean_col = np.mean(arr11,axis=0)\n",
        "arr11_mean_col"
      ]
    },
    {
      "cell_type": "code",
      "execution_count": 53,
      "id": "6c1c6b63-42fa-435f-910b-b82cb6427c0d",
      "metadata": {
        "id": "6c1c6b63-42fa-435f-910b-b82cb6427c0d",
        "outputId": "8b23471b-b869-46e6-b197-577086abb37c",
        "colab": {
          "base_uri": "https://localhost:8080/"
        }
      },
      "outputs": [
        {
          "output_type": "stream",
          "name": "stdout",
          "text": [
            "Для замінення першого входження елементу, що дорівнює max, через зазначений np.argmax\n",
            "[3 4 0 0 3 2 0 7 6 7 1 1 2 2 1]\n",
            "[ 3  4  0  0  3  2  0 -1  6  7  1  1  2  2  1]\n",
            "/nЗаміна через маску для зміни всіх max\n",
            "[ 3  4  0  0  3  2  0 -1  6 -1  1  1  2  2  1]\n"
          ]
        }
      ],
      "source": [
        "# Завдання 15: Створити випадковий вектор розміром 15 та замінити максимальне значення на -1\n",
        "# Hints: np.argmax\n",
        "\n",
        "print(\"Для замінення першого входження елементу, що дорівнює max, через зазначений np.argmax\")\n",
        "arr15 = np.random.randint(0, 11, size=(15))\n",
        "arr15_copy = deepcopy(arr15)\n",
        "print(arr15)\n",
        "arr15[arr15.argmax()] = -1\n",
        "print(arr15)\n",
        "\n",
        "print(\"/nЗаміна через маску для зміни всіх max\")\n",
        "# Для замінення першого елементу, що дорівнює max\n",
        "arr15_copy[arr15_copy == arr15_copy.max()] = -1\n",
        "print(arr15_copy)"
      ]
    },
    {
      "cell_type": "code",
      "execution_count": 54,
      "id": "915a52ab-a49e-4485-958c-98fa607c1294",
      "metadata": {
        "id": "915a52ab-a49e-4485-958c-98fa607c1294",
        "outputId": "69ab2dd4-3417-40f1-9c72-2590836471b4",
        "colab": {
          "base_uri": "https://localhost:8080/"
        }
      },
      "outputs": [
        {
          "output_type": "execute_result",
          "data": {
            "text/plain": [
              "array([[0.33627377, 0.26037845, 0.97879843, 0.46323546, 0.60134645],\n",
              "       [0.42175446, 0.22790778, 0.99092874, 0.72591534, 0.36616954]])"
            ]
          },
          "metadata": {},
          "execution_count": 54
        }
      ],
      "source": [
        "# Завдання 16: Перетворити випадковий вектор розміром 10 в матрицю розміром 2x5\n",
        "arr16 =  np.random.rand(10).reshape(2,5)\n",
        "arr16"
      ]
    },
    {
      "cell_type": "code",
      "execution_count": 59,
      "id": "6df6bd93-d180-4d59-b2f7-52fbd823ac91",
      "metadata": {
        "id": "6df6bd93-d180-4d59-b2f7-52fbd823ac91",
        "outputId": "67848909-467b-4c69-e2f5-c87d188249ae",
        "colab": {
          "base_uri": "https://localhost:8080/"
        }
      },
      "outputs": [
        {
          "output_type": "execute_result",
          "data": {
            "text/plain": [
              "0.5372708408564584"
            ]
          },
          "metadata": {},
          "execution_count": 59
        }
      ],
      "source": [
        "# Завдання 17: Знайти середнє значення елементів матриці з завдання 16\n",
        "arr16_mean = np.mean(arr16)\n",
        "arr16_mean"
      ]
    }
  ],
  "metadata": {
    "kernelspec": {
      "display_name": "Python 3 (ipykernel)",
      "language": "python",
      "name": "python3"
    },
    "language_info": {
      "codemirror_mode": {
        "name": "ipython",
        "version": 3
      },
      "file_extension": ".py",
      "mimetype": "text/x-python",
      "name": "python",
      "nbconvert_exporter": "python",
      "pygments_lexer": "ipython3",
      "version": "3.8.10"
    },
    "colab": {
      "provenance": [],
      "include_colab_link": true
    }
  },
  "nbformat": 4,
  "nbformat_minor": 5
}