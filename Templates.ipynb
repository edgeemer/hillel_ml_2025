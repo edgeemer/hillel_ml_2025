{
  "nbformat": 4,
  "nbformat_minor": 0,
  "metadata": {
    "colab": {
      "provenance": [],
      "authorship_tag": "ABX9TyMPx4MQgK05Mekk4CfJm4hA",
      "include_colab_link": true
    },
    "kernelspec": {
      "name": "python3",
      "display_name": "Python 3"
    },
    "language_info": {
      "name": "python"
    }
  },
  "cells": [
    {
      "cell_type": "markdown",
      "metadata": {
        "id": "view-in-github",
        "colab_type": "text"
      },
      "source": [
        "<a href=\"https://colab.research.google.com/github/edgeemer/hillel_ml_2025/blob/main/Templates.ipynb\" target=\"_parent\"><img src=\"https://colab.research.google.com/assets/colab-badge.svg\" alt=\"Open In Colab\"/></a>"
      ]
    },
    {
      "cell_type": "markdown",
      "source": [
        "# GridSearchCV"
      ],
      "metadata": {
        "id": "glUmDCA0srj6"
      }
    },
    {
      "cell_type": "code",
      "source": [
        "from sklearn.model_selection import GridSearchCV, ParameterGrid\n",
        "\n",
        "model_dict = {\n",
        "    'xgb': {\n",
        "        'model': xgb.XGBRegressor(random_state=42),\n",
        "        'params': {\n",
        "            'n_estimators': [200, 300, 400, 500],\n",
        "            'learning_rate': [0.03, 0.04],\n",
        "            'max_depth': [2, 3, 4, 5],\n",
        "            'min_child_weight': [1, 2, 3]\n",
        "        }\n",
        "    }\n",
        "}\n",
        "\n",
        "\n",
        "cv = KFold(n_splits=5, shuffle=True, random_state=42)\n",
        "\n",
        "best_models = {}\n",
        "for name, definition in model_dict.items():\n",
        "    model = definition['model']\n",
        "    param_grid = definition['params']\n",
        "\n",
        "    grid = GridSearchCV(model, param_grid, cv=cv,\n",
        "                        scoring='neg_root_mean_squared_error',\n",
        "                        n_jobs=-1)\n",
        "    grid.fit(X_train_final, y_train)\n",
        "\n",
        "    best_models[name] = grid"
      ],
      "metadata": {
        "id": "twlxn4AzsuvN"
      },
      "execution_count": null,
      "outputs": []
    },
    {
      "cell_type": "markdown",
      "source": [
        "# ColumnTransformer"
      ],
      "metadata": {
        "id": "KH1HJj6ktHVl"
      }
    },
    {
      "cell_type": "code",
      "source": [
        "num_transformer = ColumnTransformer(\n",
        "    transformers=[\n",
        "        ('robust', RobustScaler(), price_features),\n",
        "        ('standard', StandardScaler(), standard_features)\n",
        "    ],\n",
        "    remainder='passthrough'\n",
        ")\n",
        "\n",
        "X_train_scaled_np = num_transformer.fit_transform(X_train)\n",
        "X_test_scaled_np = num_transformer.transform(X_test)"
      ],
      "metadata": {
        "id": "I022utb8tGyh"
      },
      "execution_count": null,
      "outputs": []
    }
  ]
}