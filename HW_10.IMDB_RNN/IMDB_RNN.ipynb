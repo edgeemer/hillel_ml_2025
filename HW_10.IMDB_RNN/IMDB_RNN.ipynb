{
  "nbformat": 4,
  "nbformat_minor": 0,
  "metadata": {
    "colab": {
      "provenance": [],
      "gpuType": "T4",
      "include_colab_link": true
    },
    "kernelspec": {
      "name": "python3",
      "display_name": "Python 3"
    },
    "language_info": {
      "name": "python"
    },
    "accelerator": "GPU"
  },
  "cells": [
    {
      "cell_type": "markdown",
      "metadata": {
        "id": "view-in-github",
        "colab_type": "text"
      },
      "source": [
        "<a href=\"https://colab.research.google.com/github/edgeemer/hillel_ml_2025/blob/main/HW_10.IMDB_RNN/IMDB_RNN.ipynb\" target=\"_parent\"><img src=\"https://colab.research.google.com/assets/colab-badge.svg\" alt=\"Open In Colab\"/></a>"
      ]
    },
    {
      "cell_type": "markdown",
      "source": [
        "# RNN-based classification for IMDB dataset\n",
        "\n",
        "Architecture: LSTM-based <br>\n",
        "criterion: BCEWithLogitsLoss <br>\n",
        "optimizer: Adam <br>\n",
        "\n",
        "\n",
        "Link to dataset: https://keras.io/api/datasets/imdb/"
      ],
      "metadata": {
        "id": "4U0zPUKGLnon"
      }
    },
    {
      "cell_type": "code",
      "execution_count": null,
      "metadata": {
        "id": "GPVWoL9Kkbqm"
      },
      "outputs": [],
      "source": [
        "import collections\n",
        "\n",
        "import nltk\n",
        "import pandas as pd\n",
        "import numpy as np\n",
        "from sklearn.metrics import accuracy_score, classification_report\n",
        "from nltk.corpus import stopwords\n",
        "\n",
        "import torch\n",
        "import torch.nn as nn\n",
        "import torch.optim as optim\n",
        "import torch.nn.functional as F\n",
        "from torch.nn.utils.rnn import pad_sequence\n",
        "from torch.utils.data import Dataset, DataLoader\n",
        "\n",
        "from keras import datasets"
      ]
    },
    {
      "cell_type": "code",
      "source": [
        "class IMDBDataset(Dataset):\n",
        "    def __init__(self, reviews, labels):\n",
        "        if len(reviews) != len(labels):\n",
        "          raise ValueError(\"Different sizes of documents and labels!\")\n",
        "\n",
        "        # Convert reviews & labels to tensors (binary classification: 0 or 1)\n",
        "        self.reviews = [torch.tensor(review, dtype=torch.long) for review in reviews]\n",
        "        self.labels = torch.tensor(labels, dtype=torch.float)\n",
        "\n",
        "    def __len__(self):\n",
        "        return len(self.labels)\n",
        "\n",
        "    def __getitem__(self, idx):\n",
        "        return self.reviews[idx], self.labels[idx]"
      ],
      "metadata": {
        "id": "0NFbjxAIqNkB"
      },
      "execution_count": null,
      "outputs": []
    },
    {
      "cell_type": "code",
      "source": [
        "# A collate function to pad sequences in a batch\n",
        "def seq_collate_fn(batch):\n",
        "    texts, labels = zip(*batch)\n",
        "    texts = pad_sequence([text for text in texts], batch_first=True, padding_value=0)\n",
        "    labels = torch.tensor([[label] for label in labels], dtype=torch.float)\n",
        "    return texts, labels"
      ],
      "metadata": {
        "id": "kMy1Qsm3qTBV"
      },
      "execution_count": null,
      "outputs": []
    },
    {
      "cell_type": "code",
      "source": [
        "# Load dataset\n",
        "\n",
        "(X_train, y_train), (X_test, y_test) = datasets.imdb.load_data(\n",
        "    path=\"imdb.npz\",\n",
        "    num_words=5000,\n",
        "    skip_top=0,\n",
        "    maxlen=1000,\n",
        "    seed=113,\n",
        "    start_char=1,\n",
        "    oov_char=2,\n",
        "    index_from=3\n",
        ")\n",
        "\n",
        "train_dataset = IMDBDataset(X_train, y_train)\n",
        "test_dataset = IMDBDataset(X_test, y_test)"
      ],
      "metadata": {
        "id": "0XOHpDJpk3cx"
      },
      "execution_count": null,
      "outputs": []
    },
    {
      "cell_type": "code",
      "source": [
        "# DataLoader initialization\n",
        "\n",
        "train_loader = DataLoader(train_dataset, batch_size=64, shuffle=True, collate_fn=seq_collate_fn)\n",
        "test_loader = DataLoader(test_dataset, batch_size=64, shuffle=False, collate_fn=seq_collate_fn)"
      ],
      "metadata": {
        "id": "sJVMOgxoq0LK"
      },
      "execution_count": null,
      "outputs": []
    },
    {
      "cell_type": "code",
      "source": [
        "next(iter(train_loader))[1].shape"
      ],
      "metadata": {
        "colab": {
          "base_uri": "https://localhost:8080/"
        },
        "id": "ohfUVcAjr4pv",
        "outputId": "f4dde234-b1cd-48df-cceb-299466264f06"
      },
      "execution_count": null,
      "outputs": [
        {
          "output_type": "execute_result",
          "data": {
            "text/plain": [
              "torch.Size([64, 1])"
            ]
          },
          "metadata": {},
          "execution_count": 16
        }
      ]
    },
    {
      "cell_type": "code",
      "source": [
        "# Model constructor initialization\n",
        "\n",
        "class SimpleLSTM(nn.Module):\n",
        "\n",
        "    def __init__(self, vocab_size, input_size, hidden_size, output_size):\n",
        "        super(SimpleLSTM, self).__init__()\n",
        "        self.embedding = nn.Embedding(vocab_size, input_size, padding_idx=0)\n",
        "        self.hidden_size = hidden_size\n",
        "        self.lstm = nn.LSTM(input_size, hidden_size, batch_first=True)\n",
        "        self.fc = nn.Linear(hidden_size, output_size)\n",
        "\n",
        "    def forward(self, x):  # long tensor [B, T]\n",
        "        h0 = torch.zeros(1, x.size(0), self.hidden_size, device=x.device)  # float tensor [1, B, HiddenSize]\n",
        "        c0 = torch.zeros(1, x.size(0), self.hidden_size, device=x.device)  # float tensor [1, B, HiddenSize]\n",
        "\n",
        "        x = self.embedding(x)  # float tensor [B, T, InputSize]\n",
        "        out, _ = self.lstm(x, (h0, c0))  # float tensor [B, T, HiddenSize]\n",
        "        out = out.max(1)[0]\n",
        "        out = self.fc(out)  # float tensor [B, OutputSize]\n",
        "        return out"
      ],
      "metadata": {
        "id": "MUw0fSo3we4a"
      },
      "execution_count": null,
      "outputs": []
    },
    {
      "cell_type": "code",
      "source": [
        "vocab_size = max(max(review) for review in X_train) + 1\n",
        "embed_dim = 512\n",
        "hidden_dim = 512\n",
        "output_dim = 1"
      ],
      "metadata": {
        "id": "AC7YSjEzxap7"
      },
      "execution_count": null,
      "outputs": []
    },
    {
      "cell_type": "code",
      "source": [
        "device = \"cuda\" if torch.cuda.is_available() else \"cpu\"\n",
        "print(f\"Device - {device}\")\n",
        "\n",
        "torch.manual_seed(42)\n",
        "\n",
        "model = SimpleLSTM(vocab_size, embed_dim, hidden_dim, output_dim)\n",
        "\n",
        "model = model.to(device)\n",
        "\n",
        "print(model)\n",
        "print(\"Number of trainable parameters -\", sum(p.numel() for p in model.parameters() if p.requires_grad))\n",
        "\n",
        "criterion = nn.BCEWithLogitsLoss()\n",
        "optimizer = optim.Adam(model.parameters(), lr=1e-3)"
      ],
      "metadata": {
        "colab": {
          "base_uri": "https://localhost:8080/"
        },
        "id": "MhdvRhLFxiCt",
        "outputId": "98b026c4-cc87-4ddf-b0f8-f72a52487bc5"
      },
      "execution_count": null,
      "outputs": [
        {
          "output_type": "stream",
          "name": "stdout",
          "text": [
            "Device - cuda\n",
            "SimpleLSTM(\n",
            "  (embedding): Embedding(5000, 512, padding_idx=0)\n",
            "  (lstm): LSTM(512, 512, batch_first=True)\n",
            "  (fc): Linear(in_features=512, out_features=1, bias=True)\n",
            ")\n",
            "Number of trainable parameters - 4661761\n"
          ]
        }
      ]
    },
    {
      "cell_type": "code",
      "source": [
        "# Model training\n",
        "\n",
        "n_epochs = 20\n",
        "train_losses = []\n",
        "\n",
        "for epoch in range(n_epochs):\n",
        "\n",
        "    model.train()\n",
        "\n",
        "    print(f\"Epoch {epoch + 1}/{n_epochs}\")\n",
        "\n",
        "    losses = []\n",
        "\n",
        "    for i, (docs, labels) in enumerate(train_loader):\n",
        "        optimizer.zero_grad()\n",
        "        docs = docs.to(device)\n",
        "        outputs = model(docs)\n",
        "        loss = criterion(outputs, labels.to(device))\n",
        "        loss.backward()\n",
        "\n",
        "        optimizer.step()\n",
        "\n",
        "        losses.append(loss.item())\n",
        "\n",
        "    train_losses.append(np.mean(losses))\n",
        "    print(f\"  loss: {train_losses[-1]}\")"
      ],
      "metadata": {
        "colab": {
          "base_uri": "https://localhost:8080/"
        },
        "id": "YQH50rDnyKuH",
        "outputId": "b61ea507-edfb-43e8-feea-e71bc79fac07"
      },
      "execution_count": null,
      "outputs": [
        {
          "output_type": "stream",
          "name": "stdout",
          "text": [
            "Epoch 1/20\n",
            "  loss: 0.3788175328148668\n",
            "Epoch 2/20\n",
            "  loss: 0.1944662390185812\n",
            "Epoch 3/20\n",
            "  loss: 0.10511103584634614\n",
            "Epoch 4/20\n",
            "  loss: 0.04228810432359845\n",
            "Epoch 5/20\n",
            "  loss: 0.01791515239097829\n",
            "Epoch 6/20\n",
            "  loss: 0.00797848591843146\n",
            "Epoch 7/20\n",
            "  loss: 0.003754651333010279\n",
            "Epoch 8/20\n",
            "  loss: 0.006274871153240439\n",
            "Epoch 9/20\n",
            "  loss: 0.008244252478635623\n",
            "Epoch 10/20\n",
            "  loss: 0.006783718116950138\n",
            "Epoch 11/20\n",
            "  loss: 0.0020133348524954725\n",
            "Epoch 12/20\n",
            "  loss: 0.0003339142543582454\n",
            "Epoch 13/20\n",
            "  loss: 0.0001500684004949222\n",
            "Epoch 14/20\n",
            "  loss: 9.563873993059795e-05\n",
            "Epoch 15/20\n",
            "  loss: 6.826135261977648e-05\n",
            "Epoch 16/20\n",
            "  loss: 5.052605536356353e-05\n",
            "Epoch 17/20\n",
            "  loss: 7.436339149986583e-05\n",
            "Epoch 18/20\n",
            "  loss: 6.806096840067917e-05\n",
            "Epoch 19/20\n",
            "  loss: 2.9018520621166623e-05\n",
            "Epoch 20/20\n",
            "  loss: 2.0224888096336822e-05\n"
          ]
        }
      ]
    },
    {
      "cell_type": "code",
      "source": [
        "# Model evaluation\n",
        "model.eval()\n",
        "\n",
        "all_preds = []\n",
        "all_labels = []\n",
        "\n",
        "with torch.no_grad():\n",
        "\n",
        "    for docs, labels in test_loader:\n",
        "        outputs = model(docs.to(device))\n",
        "\n",
        "        preds = (outputs.sigmoid() >= 0.5).long().detach().cpu()\n",
        "\n",
        "        all_preds.extend(preds.numpy()[:, 0])\n",
        "        all_labels.extend(labels.numpy()[:, 0])\n",
        "\n",
        "print(classification_report(all_labels, all_preds))\n",
        "print('Accuracy:', accuracy_score(all_labels, all_preds))"
      ],
      "metadata": {
        "colab": {
          "base_uri": "https://localhost:8080/"
        },
        "id": "4AzLM-sVyflg",
        "outputId": "7db0d809-e007-4ae9-d24c-53e4d61963ce"
      },
      "execution_count": null,
      "outputs": [
        {
          "output_type": "stream",
          "name": "stdout",
          "text": [
            "              precision    recall  f1-score   support\n",
            "\n",
            "         0.0       0.90      0.89      0.90     12472\n",
            "         1.0       0.90      0.90      0.90     12472\n",
            "\n",
            "    accuracy                           0.90     24944\n",
            "   macro avg       0.90      0.90      0.90     24944\n",
            "weighted avg       0.90      0.90      0.90     24944\n",
            "\n",
            "Accuracy: 0.897490378447723\n"
          ]
        }
      ]
    }
  ]
}