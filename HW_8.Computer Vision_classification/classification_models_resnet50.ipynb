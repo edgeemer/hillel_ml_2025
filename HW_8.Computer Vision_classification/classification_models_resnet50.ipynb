{
  "cells": [
    {
      "cell_type": "code",
      "execution_count": 1,
      "metadata": {
        "id": "DNVJ9YGnI7lO"
      },
      "outputs": [],
      "source": [
        "%pip install albumentations datasets > /dev/null"
      ]
    },
    {
      "cell_type": "code",
      "execution_count": 2,
      "metadata": {
        "id": "Ab30W1ZFI_YA",
        "outputId": "c19ed423-8981-40e2-baef-1f93617435f7",
        "colab": {
          "base_uri": "https://localhost:8080/"
        }
      },
      "outputs": [
        {
          "output_type": "stream",
          "name": "stderr",
          "text": [
            "/usr/local/lib/python3.11/dist-packages/albumentations/__init__.py:28: UserWarning: A new version of Albumentations is available: '2.0.5' (you have '2.0.4'). Upgrade using: pip install -U albumentations. To disable automatic update checks, set the environment variable NO_ALBUMENTATIONS_UPDATE to 1.\n",
            "  check_for_updates()\n"
          ]
        }
      ],
      "source": [
        "# Import necessary libraries\n",
        "import os\n",
        "import sys\n",
        "import gzip\n",
        "import struct\n",
        "from typing import List\n",
        "\n",
        "import albumentations as albu  # Library for image augmentation\n",
        "import cv2  # OpenCV library for image processing\n",
        "import numpy as np\n",
        "from tqdm import tqdm  # Library for progress bars\n",
        "\n",
        "import torch\n",
        "import torch.nn as nn\n",
        "import torch.optim as optim\n",
        "import torch.nn.functional as F\n",
        "from torch.utils.data import Dataset, DataLoader  # PyTorch utilities for data handling\n",
        "import torchvision.models as models  # Pre-trained models provided by PyTorch\n",
        "\n",
        "from datasets import load_dataset  # Custom function to load dataset\n",
        "\n",
        "import matplotlib.pyplot as plt  # Library for plotting graphs and images"
      ]
    },
    {
      "cell_type": "code",
      "execution_count": 3,
      "metadata": {
        "id": "88IUKqnqI9wM",
        "outputId": "49f7b758-01e5-493f-cf17-9bea684af1b0",
        "colab": {
          "base_uri": "https://localhost:8080/"
        }
      },
      "outputs": [
        {
          "output_type": "execute_result",
          "data": {
            "text/plain": [
              "<torch._C.Generator at 0x7ad100c36c30>"
            ]
          },
          "metadata": {},
          "execution_count": 3
        }
      ],
      "source": [
        "torch.manual_seed(42)  # Set random seed for reproducibility"
      ]
    },
    {
      "cell_type": "markdown",
      "metadata": {
        "id": "fJuh10DLKzL-"
      },
      "source": [
        "## Dataset - [Tiny ImageNet](https://huggingface.co/datasets/zh-plus/tiny-imagenet)\n"
      ]
    },
    {
      "cell_type": "code",
      "execution_count": 4,
      "metadata": {
        "colab": {
          "base_uri": "https://localhost:8080/"
        },
        "id": "irVDw1j_JdEU",
        "outputId": "f5c214c6-4145-4b1b-a525-00078f6ba0b5"
      },
      "outputs": [
        {
          "output_type": "stream",
          "name": "stderr",
          "text": [
            "/usr/local/lib/python3.11/dist-packages/huggingface_hub/utils/_auth.py:94: UserWarning: \n",
            "The secret `HF_TOKEN` does not exist in your Colab secrets.\n",
            "To authenticate with the Hugging Face Hub, create a token in your settings tab (https://huggingface.co/settings/tokens), set it as secret in your Google Colab and restart your session.\n",
            "You will be able to reuse this secret in all of your notebooks.\n",
            "Please note that authentication is recommended but still optional to access public models or datasets.\n",
            "  warnings.warn(\n"
          ]
        },
        {
          "output_type": "execute_result",
          "data": {
            "text/plain": [
              "DatasetDict({\n",
              "    train: Dataset({\n",
              "        features: ['image', 'label'],\n",
              "        num_rows: 9469\n",
              "    })\n",
              "    validation: Dataset({\n",
              "        features: ['image', 'label'],\n",
              "        num_rows: 3925\n",
              "    })\n",
              "})"
            ]
          },
          "metadata": {},
          "execution_count": 4
        }
      ],
      "source": [
        "# Load the dataset using the load_dataset function with parameters \"frgfm/imagenette\" and \"320px\".\n",
        "# The \"frgfm/imagenette\" dataset is being loaded with images resized to 320 pixels.\n",
        "dataset = load_dataset(\"frgfm/imagenette\", \"320px\")\n",
        "\n",
        "# Define the number of labels in the dataset.\n",
        "num_labels = 10\n",
        "\n",
        "# Print the dataset object.\n",
        "dataset"
      ]
    },
    {
      "cell_type": "code",
      "execution_count": 5,
      "metadata": {
        "id": "_7Bi6CddXNsp"
      },
      "outputs": [],
      "source": [
        "# Access the training split of the dataset using the key \"train\".\n",
        "# Then, access the 124th sample (indexing is 0-based) within the training split.\n",
        "# Retrieve the image data associated with the sample.\n",
        "image_data = dataset[\"train\"][123][\"image\"]"
      ]
    },
    {
      "cell_type": "code",
      "execution_count": 8,
      "metadata": {
        "id": "BVElCdhCKcLG"
      },
      "outputs": [],
      "source": [
        "class HuggingFaceDataset(Dataset):\n",
        "    \"\"\"\n",
        "    Define a custom dataset class named HuggingFaceDataset inheriting from the PyTorch Dataset class.\n",
        "    \"\"\"\n",
        "    def __init__(self, dataset: Dataset, augmentations: albu.Compose, input_shape: tuple) -> None:\n",
        "        # Constructor method to initialize the dataset and augmentation transformations.\n",
        "        self.dataset = dataset  # Store the input dataset\n",
        "        self.augs = augmentations  # Store the augmentation transformations\n",
        "        self.input_shape = input_shape # Store the input shape\n",
        "\n",
        "    def __len__(self) -> int:\n",
        "        # Override the len method to return the length of the dataset.\n",
        "        return len(self.dataset)\n",
        "\n",
        "    def __getitem__(self, index) -> tuple:\n",
        "        # Override the getitem method to retrieve a sample from the dataset.\n",
        "        sample = self.dataset[index]  # Get the sample at the specified index from the dataset\n",
        "\n",
        "        # Convert the image to RGB format if it's not already in that format\n",
        "        image = sample[\"image\"].convert(\"RGB\")\n",
        "\n",
        "        # Apply the specified augmentations to the image\n",
        "        image = self.augs(image=np.array(image))[\"image\"]\n",
        "\n",
        "        # Convert the augmented image to a PyTorch tensor and permute its dimensions\n",
        "        image = torch.from_numpy(image).permute(2, 0, 1)\n",
        "\n",
        "        # Convert the label to a PyTorch LongTensor\n",
        "        label = torch.LongTensor([sample[\"label\"]])\n",
        "\n",
        "        # Return the augmented image and its corresponding label as a tuple\n",
        "        return image, label\n"
      ]
    },
    {
      "cell_type": "code",
      "execution_count": 14,
      "metadata": {
        "id": "n27A03_0I9wQ",
        "outputId": "0e63043b-e5f8-4be9-b78f-5c974dadcc9d",
        "colab": {
          "base_uri": "https://localhost:8080/"
        }
      },
      "outputs": [
        {
          "output_type": "stream",
          "name": "stderr",
          "text": [
            "/usr/local/lib/python3.11/dist-packages/albumentations/core/validation.py:58: UserWarning: ShiftScaleRotate is a special case of Affine transform. Please use Affine transform instead.\n",
            "  original_init(self, **validated_kwargs)\n"
          ]
        }
      ],
      "source": [
        "# Set the batch size for training\n",
        "batch_size = 32\n",
        "\n",
        "# Define the input shape for the images (height, width).\n",
        "# NOTE: To speed up training, you can decrease the input shape, but it may affect the final performance.\n",
        "input_shape = (224, 224)\n",
        "\n",
        "# Set the number of workers for data loading to be the number of available CPU cores\n",
        "# workers = os.cpu_count() (error)\n",
        "workers = 0\n",
        "\n",
        "# Define the augmentation transformations for training images\n",
        "# TODO: optional, play with augmentations\n",
        "train_augs = albu.Compose([\n",
        "    albu.Resize(input_shape[0], input_shape[1]), # Resize before other transformations\n",
        "    albu.HorizontalFlip(p=0.5),  # Randomly flip images horizontally\n",
        "    albu.ShiftScaleRotate(shift_limit=0.1, scale_limit=0.1, rotate_limit=15, p=0.5), # Randomly shift, scale, and rotate\n",
        "    albu.Normalize()  # Normalize image pixel values to a standard range\n",
        "])\n",
        "\n",
        "# Create a DataLoader for training data using the defined augmentations\n",
        "train_loader = DataLoader(\n",
        "    HuggingFaceDataset(dataset['train'], train_augs, input_shape=input_shape), # Pass input_shape\n",
        "    batch_size=batch_size,\n",
        "    shuffle=True,\n",
        "    num_workers=workers\n",
        ")\n",
        "\n",
        "# Define the augmentation transformations for validation images\n",
        "valid_augs = albu.Compose([\n",
        "    albu.Resize(input_shape[0], input_shape[1]), # Resize before normalization\n",
        "    albu.Normalize()  # Only normalize for validation\n",
        "])\n",
        "\n",
        "# Create a DataLoader for validation data using the defined augmentations\n",
        "valid_loader = DataLoader(\n",
        "    HuggingFaceDataset(dataset['validation'], valid_augs, input_shape=input_shape), # Pass input_shape\n",
        "    batch_size=batch_size,\n",
        "    shuffle=False,\n",
        "    num_workers=workers\n",
        ")\n"
      ]
    },
    {
      "cell_type": "code",
      "execution_count": 15,
      "metadata": {
        "id": "FPlSx5w6I9wR"
      },
      "outputs": [],
      "source": [
        "def train_one_epoch(\n",
        "    model: nn.Module,\n",
        "    loader: DataLoader,\n",
        "    criterion: nn.Module,\n",
        "    optimizer: optim.Optimizer,\n",
        "    device: str = \"cpu\",\n",
        "    verbose: bool = True,\n",
        ") -> dict:\n",
        "    \"\"\"\n",
        "    Function to train the model for one epoch.\n",
        "\n",
        "    Args:\n",
        "    - model: The neural network model to be trained.\n",
        "    - loader: DataLoader object for loading the training data.\n",
        "    - criterion: Loss function criterion.\n",
        "    - optimizer: Optimizer for updating model parameters.\n",
        "    - device: Device to run the model on (default is \"cpu\").\n",
        "    - verbose: If True, print progress during training.\n",
        "\n",
        "    Returns:\n",
        "    - logs: Dictionary containing training statistics.\n",
        "    \"\"\"\n",
        "\n",
        "    model.train()\n",
        "\n",
        "    logs = {\"train_loss\": [], \"accuracies\": []}\n",
        "\n",
        "    loop = tqdm(loader, disable=not verbose, file=sys.stdout, desc='Training')\n",
        "\n",
        "    for batch_idx, (inputs, targets) in enumerate(loop):\n",
        "        inputs, targets = inputs.to(device), targets.to(device) # Move data to the device\n",
        "\n",
        "        optimizer.zero_grad()  # Reset gradients from the previous iteration\n",
        "        outputs = model(inputs)  # Forward pass: get model predictions\n",
        "        loss = criterion(outputs, targets.squeeze())  # Calculate the loss\n",
        "        loss.backward()  # Backpropagation: calculate gradients\n",
        "        optimizer.step()  # Update model parameters\n",
        "\n",
        "        # Logging and progress updates\n",
        "        logs[\"train_loss\"].append(loss.item()) # Store the training loss for the batch\n",
        "        _, predicted = torch.max(outputs, 1) # Get the predicted class labels\n",
        "        accuracy = (predicted == targets.squeeze()).sum().item() / targets.size(0)  # Calculate the accuracy for the batch\n",
        "        logs[\"accuracies\"].append(accuracy) # Store the accuracy for the batch\n",
        "\n",
        "        loop.set_postfix({'loss': loss.item(), 'acc': accuracy})  # Update progress bar (optional)\n",
        "\n",
        "\n",
        "    # TODO: complete training function\n",
        "    return logs"
      ]
    },
    {
      "cell_type": "code",
      "execution_count": 16,
      "metadata": {
        "id": "4cyauJBBI9wR"
      },
      "outputs": [],
      "source": [
        "@torch.inference_mode()\n",
        "def evaluate(\n",
        "    model: nn.Module,\n",
        "    loader: DataLoader,\n",
        "    criterion: nn.Module,\n",
        "    device: str = \"cpu\",\n",
        "    verbose: bool = True,\n",
        ") -> dict:\n",
        "    \"\"\"\n",
        "    Function to evaluate the model on the validation or test set.\n",
        "\n",
        "    Args:\n",
        "    - model: The neural network model to be evaluated.\n",
        "    - loader: DataLoader object for loading the validation or test data.\n",
        "    - criterion: Loss function criterion.\n",
        "    - device: Device to run the model on (default is \"cpu\").\n",
        "    - verbose: If True, print evaluation results.\n",
        "\n",
        "    Returns:\n",
        "    - logs: Dictionary containing evaluation statistics.\n",
        "    \"\"\"\n",
        "    # TODO: complete evaluation function\n",
        "\n",
        "    model.eval()  # Set the model to evaluation mode\n",
        "    logs = {\"eval_loss\": [], \"accuracy\": 0}\n",
        "    total_correct = 0\n",
        "    total_samples = 0\n",
        "\n",
        "    loop = tqdm(loader, disable=not verbose, file=sys.stdout, desc='Evaluating')\n",
        "\n",
        "    for batch_idx, (inputs, targets) in enumerate(loop):\n",
        "        inputs, targets = inputs.to(device), targets.to(device)\n",
        "\n",
        "        outputs = model(inputs)  # Get model predictions\n",
        "        loss = criterion(outputs, targets.squeeze())  # Calculate loss\n",
        "\n",
        "        # Update evaluation metrics\n",
        "        logs[\"eval_loss\"].append(loss.item())\n",
        "        _, predicted = torch.max(outputs, 1)\n",
        "        total_correct += (predicted == targets.squeeze()).sum().item()\n",
        "        total_samples += targets.size(0)\n",
        "\n",
        "        loop.set_postfix({'loss': loss.item()})\n",
        "\n",
        "    logs[\"accuracy\"] = total_correct / total_samples  # Calculate overall accuracy\n",
        "\n",
        "    return logs"
      ]
    },
    {
      "cell_type": "code",
      "execution_count": 17,
      "metadata": {
        "id": "OMCu4G23I9wS",
        "outputId": "7464ea2a-dd2b-4d13-b885-58992f3af377",
        "colab": {
          "base_uri": "https://localhost:8080/"
        }
      },
      "outputs": [
        {
          "output_type": "stream",
          "name": "stdout",
          "text": [
            "Device - cuda\n",
            "\n",
            "Number of trainable parameters - 23528522\n"
          ]
        }
      ],
      "source": [
        "# Check if CUDA (GPU) is available, otherwise use CPU\n",
        "device = \"cuda\" if torch.cuda.is_available() else \"cpu\"\n",
        "print(f\"Device - {device}\\n\")\n",
        "\n",
        "# TODO: Find a model that gives the best score.\n",
        "# Here, a pre-trained ResNet50 model is used as a starting point.\n",
        "# You may experiment with other pre-trained models available in torchvision.models.\n",
        "model = models.resnet50(weights=models.ResNet50_Weights.IMAGENET1K_V2)  # Load pre-trained ResNet18 model\n",
        "model.fc = nn.Linear(model.fc.in_features, num_labels)  # Replace the fully connected layer with new output size\n",
        "model = model.to(device)  # Move the model to the specified device (CPU or GPU)\n",
        "\n",
        "print(\"Number of trainable parameters -\", sum(p.numel() for p in model.parameters() if p.requires_grad))\n",
        "\n",
        "# Define the optimizer for updating model parameters\n",
        "optimizer = optim.Adam(model.parameters(), lr=1e-3) # Have shown great speed/efficiency in the previous HW\n",
        "\n",
        "# Define the loss function\n",
        "loss_fn = nn.CrossEntropyLoss()"
      ]
    },
    {
      "cell_type": "code",
      "execution_count": 18,
      "metadata": {
        "id": "mL1HDRniI9wT",
        "outputId": "236f9958-bb84-4ff8-9fab-2323522ce1e1",
        "colab": {
          "base_uri": "https://localhost:8080/"
        }
      },
      "outputs": [
        {
          "output_type": "stream",
          "name": "stdout",
          "text": [
            "\n",
            "Epoch  1/20\n",
            "Training: 100%|██████████| 296/296 [02:00<00:00,  2.45it/s, loss=0.0787, acc=1]\n",
            "      loss: 0.5018690410825247\n",
            "  accuracy: 0.8475506756756757\n",
            "Evaluating: 100%|██████████| 123/123 [00:20<00:00,  6.03it/s, loss=0.149]\n",
            "      loss: 0.4558552407576301\n",
            "  accuracy: 0.8662420382165605\n",
            "\n",
            "Epoch  2/20\n",
            "Training: 100%|██████████| 296/296 [01:58<00:00,  2.49it/s, loss=0.0657, acc=1]\n",
            "      loss: 0.3073096444100343\n",
            "  accuracy: 0.9042440878378378\n",
            "Evaluating: 100%|██████████| 123/123 [00:21<00:00,  5.77it/s, loss=0.11]\n",
            "      loss: 0.3281678314419176\n",
            "  accuracy: 0.8970700636942676\n",
            "\n",
            "Epoch  3/20\n",
            "Training: 100%|██████████| 296/296 [01:59<00:00,  2.48it/s, loss=0.2, acc=0.897]\n",
            "      loss: 0.26347929628163175\n",
            "  accuracy: 0.9187805801491146\n",
            "Evaluating: 100%|██████████| 123/123 [00:20<00:00,  5.92it/s, loss=0.577]\n",
            "      loss: 0.3754659452990485\n",
            "  accuracy: 0.8848407643312102\n",
            "\n",
            "Epoch  4/20\n",
            "Training: 100%|██████████| 296/296 [01:59<00:00,  2.48it/s, loss=0.0987, acc=0.966]\n",
            "      loss: 0.206637565380063\n",
            "  accuracy: 0.9355887406803355\n",
            "Evaluating: 100%|██████████| 123/123 [00:20<00:00,  5.88it/s, loss=0.439]\n",
            "      loss: 0.47672614104036865\n",
            "  accuracy: 0.8664968152866243\n",
            "\n",
            "Epoch  5/20\n",
            "Training: 100%|██████████| 296/296 [01:59<00:00,  2.47it/s, loss=0.161, acc=0.931]\n",
            "      loss: 0.2011736627806582\n",
            "  accuracy: 0.9370558597390494\n",
            "Evaluating: 100%|██████████| 123/123 [00:20<00:00,  5.97it/s, loss=0.0487]\n",
            "      loss: 0.30969514781079155\n",
            "  accuracy: 0.9067515923566879\n",
            "\n",
            "Epoch  6/20\n",
            "Training: 100%|██████████| 296/296 [01:58<00:00,  2.49it/s, loss=0.0896, acc=0.966]\n",
            "      loss: 0.16945131580704018\n",
            "  accuracy: 0.945512727166822\n",
            "Evaluating: 100%|██████████| 123/123 [00:20<00:00,  5.90it/s, loss=0.0186]\n",
            "      loss: 0.27401203939850194\n",
            "  accuracy: 0.9215286624203821\n",
            "\n",
            "Epoch  7/20\n",
            "Training: 100%|██████████| 296/296 [01:58<00:00,  2.50it/s, loss=0.564, acc=0.897]\n",
            "      loss: 0.1596059646643069\n",
            "  accuracy: 0.9492915598788443\n",
            "Evaluating: 100%|██████████| 123/123 [00:20<00:00,  6.08it/s, loss=0.0413]\n",
            "      loss: 0.22181688297428268\n",
            "  accuracy: 0.9304458598726114\n",
            "\n",
            "Epoch  8/20\n",
            "Training: 100%|██████████| 296/296 [01:58<00:00,  2.50it/s, loss=0.132, acc=0.931]\n",
            "      loss: 0.15013215627609375\n",
            "  accuracy: 0.9509916705498601\n",
            "Evaluating: 100%|██████████| 123/123 [00:20<00:00,  5.93it/s, loss=0.26]\n",
            "      loss: 0.3828631261348482\n",
            "  accuracy: 0.8914649681528662\n",
            "\n",
            "Epoch  9/20\n",
            "Training: 100%|██████████| 296/296 [01:59<00:00,  2.47it/s, loss=0.0669, acc=1]\n",
            "      loss: 0.15247392025854867\n",
            "  accuracy: 0.9515413851351351\n",
            "Evaluating: 100%|██████████| 123/123 [00:20<00:00,  6.12it/s, loss=0.265]\n",
            "      loss: 0.3555470660056283\n",
            "  accuracy: 0.8947770700636942\n",
            "\n",
            "Epoch 10/20\n",
            "Training: 100%|██████████| 296/296 [01:58<00:00,  2.51it/s, loss=0.167, acc=0.966]\n",
            "      loss: 0.12681818097936795\n",
            "  accuracy: 0.9590262406803355\n",
            "Evaluating: 100%|██████████| 123/123 [00:20<00:00,  5.91it/s, loss=0.000192]\n",
            "      loss: 0.36341551327619\n",
            "  accuracy: 0.901656050955414\n",
            "\n",
            "Epoch 11/20\n",
            "Training: 100%|██████████| 296/296 [01:58<00:00,  2.50it/s, loss=0.265, acc=0.966]\n",
            "      loss: 0.11687008048269294\n",
            "  accuracy: 0.9629324906803355\n",
            "Evaluating: 100%|██████████| 123/123 [00:20<00:00,  5.99it/s, loss=0.000883]\n",
            "      loss: 0.24266541615314025\n",
            "  accuracy: 0.9307006369426751\n",
            "\n",
            "Epoch 12/20\n",
            "Training: 100%|██████████| 296/296 [01:58<00:00,  2.51it/s, loss=0.125, acc=0.966]\n",
            "      loss: 0.10074467799701803\n",
            "  accuracy: 0.968950227166822\n",
            "Evaluating: 100%|██████████| 123/123 [00:20<00:00,  5.90it/s, loss=0.076]\n",
            "      loss: 0.3096168064074572\n",
            "  accuracy: 0.9174522292993631\n",
            "\n",
            "Epoch 13/20\n",
            "Training: 100%|██████████| 296/296 [01:58<00:00,  2.49it/s, loss=0.148, acc=0.931]\n",
            "      loss: 0.09894479490026857\n",
            "  accuracy: 0.9669333935228331\n",
            "Evaluating: 100%|██████████| 123/123 [00:20<00:00,  6.00it/s, loss=0.0229]\n",
            "      loss: 0.34089415316111255\n",
            "  accuracy: 0.9036942675159235\n",
            "\n",
            "Epoch 14/20\n",
            "Training: 100%|██████████| 296/296 [01:58<00:00,  2.50it/s, loss=0.115, acc=0.966]\n",
            "      loss: 0.11936622816515532\n",
            "  accuracy: 0.9622990447343895\n",
            "Evaluating: 100%|██████████| 123/123 [00:20<00:00,  5.96it/s, loss=0.534]\n",
            "      loss: 0.3124638944277464\n",
            "  accuracy: 0.9189808917197452\n",
            "\n",
            "Epoch 15/20\n",
            "Training: 100%|██████████| 296/296 [01:58<00:00,  2.50it/s, loss=0.326, acc=0.897]\n",
            "      loss: 0.10419838754908572\n",
            "  accuracy: 0.9669224720410065\n",
            "Evaluating: 100%|██████████| 123/123 [00:20<00:00,  6.09it/s, loss=0.21]\n",
            "      loss: 0.30498327585022394\n",
            "  accuracy: 0.9123566878980892\n",
            "\n",
            "Epoch 16/20\n",
            "Training: 100%|██████████| 296/296 [01:58<00:00,  2.51it/s, loss=0.139, acc=0.931]\n",
            "      loss: 0.08048436965603016\n",
            "  accuracy: 0.9715786637931034\n",
            "Evaluating: 100%|██████████| 123/123 [00:21<00:00,  5.81it/s, loss=0.0382]\n",
            "      loss: 0.3147789426133741\n",
            "  accuracy: 0.9220382165605095\n",
            "\n",
            "Epoch 17/20\n",
            "Training: 100%|██████████| 296/296 [01:59<00:00,  2.48it/s, loss=0.0699, acc=0.966]\n",
            "      loss: 0.07082138041909816\n",
            "  accuracy: 0.9771850244641193\n",
            "Evaluating: 100%|██████████| 123/123 [00:20<00:00,  5.94it/s, loss=0.247]\n",
            "      loss: 0.32103617549928015\n",
            "  accuracy: 0.9177070063694267\n",
            "\n",
            "Epoch 18/20\n",
            "Training: 100%|██████████| 296/296 [01:59<00:00,  2.48it/s, loss=0.131, acc=0.931]\n",
            "      loss: 0.09747505157979872\n",
            "  accuracy: 0.9687281570363466\n",
            "Evaluating: 100%|██████████| 123/123 [00:21<00:00,  5.85it/s, loss=0.351]\n",
            "      loss: 0.39160431564423337\n",
            "  accuracy: 0.8894267515923567\n",
            "\n",
            "Epoch 19/20\n",
            "Training: 100%|██████████| 296/296 [01:58<00:00,  2.49it/s, loss=0.201, acc=0.862]\n",
            "      loss: 0.0911210449652375\n",
            "  accuracy: 0.9700787802889095\n",
            "Evaluating: 100%|██████████| 123/123 [00:20<00:00,  5.98it/s, loss=0.112]\n",
            "      loss: 0.26842808373387417\n",
            "  accuracy: 0.9253503184713375\n",
            "\n",
            "Epoch 20/20\n",
            "Training: 100%|██████████| 296/296 [01:59<00:00,  2.49it/s, loss=0.033, acc=1]\n",
            "      loss: 0.06061395970047326\n",
            "  accuracy: 0.9793074324324325\n",
            "Evaluating: 100%|██████████| 123/123 [00:20<00:00,  5.90it/s, loss=0.00358]\n",
            "      loss: 0.23694646372695854\n",
            "  accuracy: 0.9345222929936305\n"
          ]
        }
      ],
      "source": [
        "n_epochs = 20  # Number of epochs for training\n",
        "\n",
        "train_losses = []  # List to store training losses for each epoch\n",
        "train_accuracies = []  # List to store training accuracies for each epoch\n",
        "\n",
        "valid_losses = []  # List to store validation losses for each epoch\n",
        "valid_accuracies = []  # List to store validation accuracies for each epoch\n",
        "\n",
        "# Loop through each epoch\n",
        "for ep in range(n_epochs):\n",
        "    print(f\"\\nEpoch {ep + 1:2d}/{n_epochs:2d}\")\n",
        "\n",
        "    # Train the model for one epoch and collect training statistics\n",
        "    train_logs = train_one_epoch(model, train_loader, loss_fn, optimizer, device, verbose=True)\n",
        "    train_losses.append(np.mean(train_logs[\"train_loss\"]))\n",
        "    train_accuracies.append(np.mean(train_logs[\"accuracies\"]))\n",
        "    print(\"      loss:\", train_losses[-1])\n",
        "    print(\"  accuracy:\", train_accuracies[-1])\n",
        "\n",
        "    # Evaluate the model on the validation set and collect evaluation statistics\n",
        "    valid_logs = evaluate(model, valid_loader, loss_fn, device, verbose=True)\n",
        "    valid_losses.append(np.mean(valid_logs[\"eval_loss\"]))  # Append the validation loss for the epoch\n",
        "    valid_accuracies.append(np.mean(valid_logs[\"accuracy\"]))  # Append the validation accuracy for the epoch\n",
        "    print(\"      loss:\", valid_losses[-1])  # Print the validation loss for the epoch\n",
        "    print(\"  accuracy:\", valid_accuracies[-1])  # Print the validation accuracy for the epoch\n"
      ]
    },
    {
      "cell_type": "code",
      "execution_count": 19,
      "metadata": {
        "id": "D-k-4YArI9wT",
        "outputId": "0cfe36e2-183d-49d4-9d96-4bf215cccc6b",
        "colab": {
          "base_uri": "https://localhost:8080/",
          "height": 391
        }
      },
      "outputs": [
        {
          "output_type": "display_data",
          "data": {
            "text/plain": [
              "<Figure size 1500x400 with 2 Axes>"
            ],
            "image/png": "[encoded data removed]"
          },
          "metadata": {}
        }
      ],
      "source": [
        "# Create a figure with two subplots side by side\n",
        "fix, axes = plt.subplots(ncols=2, figsize=(15, 4))\n",
        "\n",
        "# Plot the training and validation losses on the first subplot (axes[0])\n",
        "axes[0].plot(np.arange(len(train_losses)), train_losses, \".-\")  # Plot training losses\n",
        "axes[0].plot(np.arange(len(valid_losses)), valid_losses, \".-\")  # Plot validation losses\n",
        "axes[0].legend([\"train\", \"validation\"])  # Add legend to distinguish between training and validation losses\n",
        "axes[0].set_title(\"Loss\")  # Set title for the subplot as \"Loss\"\n",
        "axes[0].grid()  # Add grid lines to the plot\n",
        "\n",
        "# Plot the training and validation accuracies on the second subplot (axes[1])\n",
        "axes[1].plot(np.arange(len(train_accuracies)), train_accuracies, \".-\")  # Plot training accuracies\n",
        "axes[1].plot(np.arange(len(valid_accuracies)), valid_accuracies, \".-\")  # Plot validation accuracies\n",
        "axes[1].legend([\"train\", \"validation\"])  # Add legend to distinguish between training and validation accuracies\n",
        "axes[1].set_title(\"Accuracy\")  # Set title for the subplot as \"Accuracy\"\n",
        "axes[1].grid();  # Add grid lines to the plot"
      ]
    }
  ],
  "metadata": {
    "accelerator": "GPU",
    "colab": {
      "gpuType": "T4",
      "provenance": []
    },
    "kernelspec": {
      "display_name": "Python 3 (ipykernel)",
      "language": "python",
      "name": "python3"
    },
    "language_info": {
      "codemirror_mode": {
        "name": "ipython",
        "version": 3
      },
      "file_extension": ".py",
      "mimetype": "text/x-python",
      "name": "python",
      "nbconvert_exporter": "python",
      "pygments_lexer": "ipython3",
      "version": "3.8.10"
    }
  },
  "nbformat": 4,
  "nbformat_minor": 0
}